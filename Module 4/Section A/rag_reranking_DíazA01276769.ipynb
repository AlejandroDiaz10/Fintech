{
 "cells": [
  {
   "cell_type": "markdown",
   "id": "56026a8a",
   "metadata": {},
   "source": [
    "# Master in Applied Artificial Intelligence\n",
    "\n",
    "## Course: *Fintech and Digital Innovation in Finance*\n",
    "\n",
    "### **Course Project – Part 4**\n",
    "### Advanced RAG techniques & Sentiment Analysis on S&P 500 news (*Section A*)\n",
    "\n",
    "---\n",
    "\n",
    "**Institution:** Tecnológico de Monterrey\n",
    "\n",
    "**Instructors:** Marie-Ève Malette, Yetnalezi Quintas Ruiz\n",
    "\n",
    "**Author:** Alejandro Díaz Villagómez | A01276769\n",
    "\n",
    "**Date:** August 18th, 2025\n",
    "\n",
    "---"
   ]
  },
  {
   "cell_type": "markdown",
   "id": "07557e5a",
   "metadata": {},
   "source": [
    "# Introduction to reranking: an advanced RAG technique"
   ]
  },
  {
   "cell_type": "markdown",
   "id": "0b780d1b",
   "metadata": {},
   "source": [
    "In this notebook, you will test an advanced RAG technique: using a reranker (CrossEncoder model) to improve the retrieval of news in a RAG pipeline.\n",
    "\n",
    "The notebook is partially filled with code. You will complete it by writing the missing code, running evaluations, and comparing results."
   ]
  },
  {
   "cell_type": "markdown",
   "id": "dbd78911",
   "metadata": {},
   "source": [
    "# 📌 Objectives\n",
    "\n",
    "By the end of this notebook, students will be able to:\n",
    "\n",
    "1. **Create and Use a Synthetic Evaluation Dataset:**\n",
    "   - Automatically generate natural language questions corresponding to news articles using an LLM.\n",
    "   - Construct a test set to assess the quality of retrieved answers.\n",
    "\n",
    "2. **Evaluate Baseline RAG Performance Without Reranking:**\n",
    "   - Measure how often the original article appears in the top-k results using FAISS alone.\n",
    "   - Record retrieval accuracy and position for each query.\n",
    "\n",
    "3. **Apply a Cross-Encoder Reranker to Improve Retrieval:**\n",
    "   - Use a pretrained CrossEncoder model to rerank top FAISS results.\n",
    "   - Evaluate improvements in the ranking of correct articles after reranking.\n",
    "\n",
    "4. **Compare Retrieval Performance With and Without Reranking:**\n",
    "   - Compute and visualize differences in rank positions before and after reranking.\n",
    "   - Analyze statistical improvements (e.g., average rank, frequency at position 0).\n",
    "\n",
    "5. **Reflect on the Impact of Reranking in RAG Pipelines:**\n",
    "   - Discuss how reranking enhances retrieval quality in a RAG context.\n",
    "   - Identify scenarios where reranking may offer the most value, and propose further improvements.\n"
   ]
  },
  {
   "cell_type": "markdown",
   "id": "fb80062c",
   "metadata": {},
   "source": [
    "## Install and Import librairies\n",
    "Run the following cell to install required libraries. These include `sentence-transformers` for embeddings and reranking, and `faiss-cpu` for vector similarity search."
   ]
  },
  {
   "cell_type": "code",
   "execution_count": 1,
   "id": "8881fdc9",
   "metadata": {},
   "outputs": [],
   "source": [
    "# !pip install -q pandas faiss-cpu sentence-transformers scikit-learn openai python-dotenv\n",
    "# !pip freeze > ../requirements.txt"
   ]
  },
  {
   "cell_type": "code",
   "execution_count": 2,
   "id": "b1e3b9a4",
   "metadata": {},
   "outputs": [
    {
     "data": {
      "text/plain": [
       "True"
      ]
     },
     "execution_count": 2,
     "metadata": {},
     "output_type": "execute_result"
    }
   ],
   "source": [
    "from sentence_transformers import SentenceTransformer\n",
    "import faiss\n",
    "import pandas as pd\n",
    "import numpy as np\n",
    "from sklearn.metrics.pairwise import cosine_similarity\n",
    "from collections import Counter\n",
    "import matplotlib.pyplot as plt\n",
    "import faiss\n",
    "from dotenv import load_dotenv\n",
    "from tqdm import tqdm\n",
    "import textwrap\n",
    "from openai import OpenAI\n",
    "import os\n",
    "import time\n",
    "from typing import List, Dict, Any, Tuple\n",
    "\n",
    "load_dotenv()"
   ]
  },
  {
   "cell_type": "markdown",
   "id": "d6a240f6",
   "metadata": {},
   "source": [
    "## Load S&P 500 news\n",
    "We will work with a dataset of financial news headlines and summaries. You will:\n",
    " - Load the data\n",
    " - Convert the publication date column to datetime\n",
    " - Drop duplicate summaries"
   ]
  },
  {
   "cell_type": "code",
   "execution_count": 3,
   "id": "2a8fac52",
   "metadata": {},
   "outputs": [
    {
     "data": {
      "text/html": [
       "<div>\n",
       "<style scoped>\n",
       "    .dataframe tbody tr th:only-of-type {\n",
       "        vertical-align: middle;\n",
       "    }\n",
       "\n",
       "    .dataframe tbody tr th {\n",
       "        vertical-align: top;\n",
       "    }\n",
       "\n",
       "    .dataframe thead th {\n",
       "        text-align: right;\n",
       "    }\n",
       "</style>\n",
       "<table border=\"1\" class=\"dataframe\">\n",
       "  <thead>\n",
       "    <tr style=\"text-align: right;\">\n",
       "      <th></th>\n",
       "      <th>TICKER</th>\n",
       "      <th>TITLE</th>\n",
       "      <th>SUMMARY</th>\n",
       "      <th>PUBLICATION_DATE</th>\n",
       "      <th>PROVIDER</th>\n",
       "      <th>URL</th>\n",
       "    </tr>\n",
       "  </thead>\n",
       "  <tbody>\n",
       "    <tr>\n",
       "      <th>0</th>\n",
       "      <td>MMM</td>\n",
       "      <td>2 Dow Jones Stocks with Promising Prospects an...</td>\n",
       "      <td>The Dow Jones (^DJI) is made up of 30 of the m...</td>\n",
       "      <td>2025-05-29</td>\n",
       "      <td>StockStory</td>\n",
       "      <td>https://finance.yahoo.com/news/2-dow-jones-sto...</td>\n",
       "    </tr>\n",
       "    <tr>\n",
       "      <th>1</th>\n",
       "      <td>MMM</td>\n",
       "      <td>3 S&amp;P 500 Stocks Skating on Thin Ice</td>\n",
       "      <td>The S&amp;P 500 (^GSPC) is often seen as a benchma...</td>\n",
       "      <td>2025-05-27</td>\n",
       "      <td>StockStory</td>\n",
       "      <td>https://finance.yahoo.com/news/3-p-500-stocks-...</td>\n",
       "    </tr>\n",
       "    <tr>\n",
       "      <th>2</th>\n",
       "      <td>MMM</td>\n",
       "      <td>3M Rises 15.8% YTD: Should You Buy the Stock N...</td>\n",
       "      <td>MMM is making strides in the aerospace, indust...</td>\n",
       "      <td>2025-05-22</td>\n",
       "      <td>Zacks</td>\n",
       "      <td>https://finance.yahoo.com/news/3m-rises-15-8-y...</td>\n",
       "    </tr>\n",
       "    <tr>\n",
       "      <th>3</th>\n",
       "      <td>MMM</td>\n",
       "      <td>Q1 Earnings Roundup: 3M (NYSE:MMM) And The Res...</td>\n",
       "      <td>Quarterly earnings results are a good time to ...</td>\n",
       "      <td>2025-05-22</td>\n",
       "      <td>StockStory</td>\n",
       "      <td>https://finance.yahoo.com/news/q1-earnings-rou...</td>\n",
       "    </tr>\n",
       "    <tr>\n",
       "      <th>4</th>\n",
       "      <td>MMM</td>\n",
       "      <td>3 Cash-Producing Stocks with Questionable Fund...</td>\n",
       "      <td>While strong cash flow is a key indicator of s...</td>\n",
       "      <td>2025-05-19</td>\n",
       "      <td>StockStory</td>\n",
       "      <td>https://finance.yahoo.com/news/3-cash-producin...</td>\n",
       "    </tr>\n",
       "    <tr>\n",
       "      <th>...</th>\n",
       "      <td>...</td>\n",
       "      <td>...</td>\n",
       "      <td>...</td>\n",
       "      <td>...</td>\n",
       "      <td>...</td>\n",
       "      <td>...</td>\n",
       "    </tr>\n",
       "    <tr>\n",
       "      <th>4866</th>\n",
       "      <td>ZTS</td>\n",
       "      <td>2 Dividend Stocks to Buy With $500 and Hold Fo...</td>\n",
       "      <td>Zoetis is a leading animal health company with...</td>\n",
       "      <td>2025-05-23</td>\n",
       "      <td>Motley Fool</td>\n",
       "      <td>https://www.fool.com/investing/2025/05/23/2-di...</td>\n",
       "    </tr>\n",
       "    <tr>\n",
       "      <th>4867</th>\n",
       "      <td>ZTS</td>\n",
       "      <td>Zoetis (NYSE:ZTS) Declares US$0.50 Dividend Pe...</td>\n",
       "      <td>Zoetis (NYSE:ZTS) recently affirmed a dividend...</td>\n",
       "      <td>2025-05-22</td>\n",
       "      <td>Simply Wall St.</td>\n",
       "      <td>https://finance.yahoo.com/news/zoetis-nyse-zts...</td>\n",
       "    </tr>\n",
       "    <tr>\n",
       "      <th>4868</th>\n",
       "      <td>ZTS</td>\n",
       "      <td>Jim Cramer on Zoetis (ZTS): “It Does Seem to B...</td>\n",
       "      <td>We recently published a list of Jim Cramer Tal...</td>\n",
       "      <td>2025-05-21</td>\n",
       "      <td>Insider Monkey</td>\n",
       "      <td>https://finance.yahoo.com/news/jim-cramer-zoet...</td>\n",
       "    </tr>\n",
       "    <tr>\n",
       "      <th>4869</th>\n",
       "      <td>ZTS</td>\n",
       "      <td>Zoetis (ZTS) Upgraded to Buy: Here's Why</td>\n",
       "      <td>Zoetis (ZTS) might move higher on growing opti...</td>\n",
       "      <td>2025-05-21</td>\n",
       "      <td>Zacks</td>\n",
       "      <td>https://finance.yahoo.com/news/zoetis-zts-upgr...</td>\n",
       "    </tr>\n",
       "    <tr>\n",
       "      <th>4870</th>\n",
       "      <td>ZTS</td>\n",
       "      <td>ZTS Q1 Earnings Call: Guidance Raised as Platf...</td>\n",
       "      <td>Animal health company Zoetis (NYSE:ZTS) report...</td>\n",
       "      <td>2025-05-19</td>\n",
       "      <td>StockStory</td>\n",
       "      <td>https://finance.yahoo.com/news/zts-q1-earnings...</td>\n",
       "    </tr>\n",
       "  </tbody>\n",
       "</table>\n",
       "<p>4871 rows × 6 columns</p>\n",
       "</div>"
      ],
      "text/plain": [
       "     TICKER                                              TITLE  \\\n",
       "0       MMM  2 Dow Jones Stocks with Promising Prospects an...   \n",
       "1       MMM               3 S&P 500 Stocks Skating on Thin Ice   \n",
       "2       MMM  3M Rises 15.8% YTD: Should You Buy the Stock N...   \n",
       "3       MMM  Q1 Earnings Roundup: 3M (NYSE:MMM) And The Res...   \n",
       "4       MMM  3 Cash-Producing Stocks with Questionable Fund...   \n",
       "...     ...                                                ...   \n",
       "4866    ZTS  2 Dividend Stocks to Buy With $500 and Hold Fo...   \n",
       "4867    ZTS  Zoetis (NYSE:ZTS) Declares US$0.50 Dividend Pe...   \n",
       "4868    ZTS  Jim Cramer on Zoetis (ZTS): “It Does Seem to B...   \n",
       "4869    ZTS           Zoetis (ZTS) Upgraded to Buy: Here's Why   \n",
       "4870    ZTS  ZTS Q1 Earnings Call: Guidance Raised as Platf...   \n",
       "\n",
       "                                                SUMMARY PUBLICATION_DATE  \\\n",
       "0     The Dow Jones (^DJI) is made up of 30 of the m...       2025-05-29   \n",
       "1     The S&P 500 (^GSPC) is often seen as a benchma...       2025-05-27   \n",
       "2     MMM is making strides in the aerospace, indust...       2025-05-22   \n",
       "3     Quarterly earnings results are a good time to ...       2025-05-22   \n",
       "4     While strong cash flow is a key indicator of s...       2025-05-19   \n",
       "...                                                 ...              ...   \n",
       "4866  Zoetis is a leading animal health company with...       2025-05-23   \n",
       "4867  Zoetis (NYSE:ZTS) recently affirmed a dividend...       2025-05-22   \n",
       "4868  We recently published a list of Jim Cramer Tal...       2025-05-21   \n",
       "4869  Zoetis (ZTS) might move higher on growing opti...       2025-05-21   \n",
       "4870  Animal health company Zoetis (NYSE:ZTS) report...       2025-05-19   \n",
       "\n",
       "             PROVIDER                                                URL  \n",
       "0          StockStory  https://finance.yahoo.com/news/2-dow-jones-sto...  \n",
       "1          StockStory  https://finance.yahoo.com/news/3-p-500-stocks-...  \n",
       "2               Zacks  https://finance.yahoo.com/news/3m-rises-15-8-y...  \n",
       "3          StockStory  https://finance.yahoo.com/news/q1-earnings-rou...  \n",
       "4          StockStory  https://finance.yahoo.com/news/3-cash-producin...  \n",
       "...               ...                                                ...  \n",
       "4866      Motley Fool  https://www.fool.com/investing/2025/05/23/2-di...  \n",
       "4867  Simply Wall St.  https://finance.yahoo.com/news/zoetis-nyse-zts...  \n",
       "4868   Insider Monkey  https://finance.yahoo.com/news/jim-cramer-zoet...  \n",
       "4869            Zacks  https://finance.yahoo.com/news/zoetis-zts-upgr...  \n",
       "4870       StockStory  https://finance.yahoo.com/news/zts-q1-earnings...  \n",
       "\n",
       "[4871 rows x 6 columns]"
      ]
     },
     "metadata": {},
     "output_type": "display_data"
    },
    {
     "name": "stdout",
     "output_type": "stream",
     "text": [
      "(4871, 6)\n",
      "(3976, 6)\n"
     ]
    }
   ],
   "source": [
    "df_news = pd.read_csv('df_news.csv')\n",
    "df_news['PUBLICATION_DATE'] = pd.to_datetime(df_news['PUBLICATION_DATE']).dt.date\n",
    "display(df_news)\n",
    "print(df_news.shape)\n",
    "\n",
    "df_news.drop_duplicates('SUMMARY', inplace=True)\n",
    "print(df_news.shape)"
   ]
  },
  {
   "cell_type": "markdown",
   "id": "6d41868b",
   "metadata": {},
   "source": [
    "## Implement a Faiss Vector Store with Sentence Transfomer embeddings\n",
    "This section is already implemented. It uses a sentence transformer to encode news summaries into vector embeddings and stores them in a FAISS index.\n",
    " \n",
    "We also define a simple class `FaissVectorStore` that allows for efficient retrieval.\n"
   ]
  },
  {
   "cell_type": "code",
   "execution_count": 4,
   "id": "d223f38f",
   "metadata": {},
   "outputs": [],
   "source": [
    "df_news['EMBEDDED_TEXT'] = df_news['TITLE'] + ' : ' + df_news['SUMMARY']"
   ]
  },
  {
   "cell_type": "code",
   "execution_count": 5,
   "id": "edb6ea0b",
   "metadata": {},
   "outputs": [],
   "source": [
    "model = SentenceTransformer('all-MiniLM-L6-v2')"
   ]
  },
  {
   "cell_type": "code",
   "execution_count": 6,
   "id": "9f928034",
   "metadata": {},
   "outputs": [],
   "source": [
    "# Load model and compute embeddings\n",
    "text_embeddings = model.encode(df_news['SUMMARY'].tolist(), convert_to_numpy=True)\n",
    "\n",
    "# Normalize embeddings to use cosine similarity (via inner product in FAISS)\n",
    "text_embeddings = text_embeddings / np.linalg.norm(text_embeddings, axis=1, keepdims=True)\n",
    "\n",
    "# Prepare metadata\n",
    "documents = df_news['SUMMARY'].tolist()\n",
    "metadata = [\n",
    "    {\n",
    "        'PUBLICATION_DATE': row['PUBLICATION_DATE'], \n",
    "        'TICKER': row['TICKER'], \n",
    "        'PROVIDER': row['PROVIDER']\n",
    "    }\n",
    "    for _, row in df_news.iterrows()\n",
    "]"
   ]
  },
  {
   "cell_type": "code",
   "execution_count": 7,
   "id": "5fd469c3",
   "metadata": {},
   "outputs": [],
   "source": [
    "embedding_dim = text_embeddings.shape[1]\n",
    "faiss_index = faiss.IndexFlatIP(embedding_dim)  # Cosine similarity via inner product\n",
    "faiss_index.add(text_embeddings)"
   ]
  },
  {
   "cell_type": "code",
   "execution_count": 8,
   "id": "53df2f36",
   "metadata": {},
   "outputs": [],
   "source": [
    "class FaissVectorStore:\n",
    "    def __init__(self, model, index, embeddings, documents, metadata):\n",
    "        self.model = model\n",
    "        self.index = index\n",
    "        self.embeddings = embeddings\n",
    "        self.documents = documents\n",
    "        self.metadata = metadata\n",
    "\n",
    "    def search(self, query, k=5, metadata_filter=None):\n",
    "        query_embedding = self.model.encode([query])\n",
    "        query_embedding = query_embedding / np.linalg.norm(query_embedding)\n",
    "\n",
    "        if metadata_filter:\n",
    "            filtered_indices = [i for i, meta in enumerate(self.metadata) if metadata_filter(meta)]\n",
    "            if not filtered_indices:\n",
    "                return []\n",
    "            filtered_embeddings = self.embeddings[filtered_indices]\n",
    "            temp_index = faiss.IndexFlatIP(filtered_embeddings.shape[1])\n",
    "            temp_index.add(filtered_embeddings)\n",
    "            D, I = temp_index.search(query_embedding, k)\n",
    "            indices = [filtered_indices[i] for i in I[0]]\n",
    "        else:\n",
    "            D, I = self.index.search(query_embedding, k)\n",
    "            indices = I[0]\n",
    "            D = D[0]\n",
    "\n",
    "        results = []\n",
    "        for idx, sim in zip(indices, D):\n",
    "            results.append((self.documents[idx], self.metadata[idx], float(sim)))\n",
    "\n",
    "        return results"
   ]
  },
  {
   "cell_type": "code",
   "execution_count": 9,
   "id": "05d9c741",
   "metadata": {},
   "outputs": [],
   "source": [
    "# Create FAISS-based store\n",
    "faiss_store = FaissVectorStore(\n",
    "    model=model,\n",
    "    index=faiss_index,\n",
    "    embeddings=text_embeddings,\n",
    "    documents=documents,\n",
    "    metadata=metadata\n",
    ")"
   ]
  },
  {
   "cell_type": "markdown",
   "id": "54b342d0",
   "metadata": {},
   "source": [
    "## Creating a dataset to evaluate the reranking\n",
    "\n",
    "👉 **Instructions**:\n",
    "- In this section, we will create an evaluation dataset for reranking by:\n",
    "  - Sampling **100** distinct news articles from the full dataset.\n",
    "  - Generating **one natural question** per article using GPT, where the expected answer is the original article.\n",
    "\n",
    "✅ By the end of this section, you'll have a new DataFrame (`df_news_questions`) with:\n",
    "- `NEWS`: the original summary\n",
    "- `QUESTION`: the corresponding question generated using GPT\n",
    "\n",
    "> ℹ️ The generated questions will simulate user queries in a RAG pipeline."
   ]
  },
  {
   "cell_type": "code",
   "execution_count": 10,
   "id": "99933b8d",
   "metadata": {},
   "outputs": [
    {
     "name": "stdout",
     "output_type": "stream",
     "text": [
      "Sampled 100 distinct news items.\n",
      "------------------------------\n"
     ]
    },
    {
     "data": {
      "text/html": [
       "<div>\n",
       "<style scoped>\n",
       "    .dataframe tbody tr th:only-of-type {\n",
       "        vertical-align: middle;\n",
       "    }\n",
       "\n",
       "    .dataframe tbody tr th {\n",
       "        vertical-align: top;\n",
       "    }\n",
       "\n",
       "    .dataframe thead th {\n",
       "        text-align: right;\n",
       "    }\n",
       "</style>\n",
       "<table border=\"1\" class=\"dataframe\">\n",
       "  <thead>\n",
       "    <tr style=\"text-align: right;\">\n",
       "      <th></th>\n",
       "      <th>TICKER</th>\n",
       "      <th>TITLE</th>\n",
       "      <th>SUMMARY</th>\n",
       "      <th>PUBLICATION_DATE</th>\n",
       "      <th>PROVIDER</th>\n",
       "      <th>URL</th>\n",
       "      <th>EMBEDDED_TEXT</th>\n",
       "    </tr>\n",
       "  </thead>\n",
       "  <tbody>\n",
       "    <tr>\n",
       "      <th>0</th>\n",
       "      <td>ANET</td>\n",
       "      <td>Broadcom, Arista Networks initiated: Wall Stre...</td>\n",
       "      <td>Broadcom, Arista Networks initiated: Wall Stre...</td>\n",
       "      <td>2025-05-28</td>\n",
       "      <td>The Fly</td>\n",
       "      <td>https://finance.yahoo.com/news/broadcom-arista...</td>\n",
       "      <td>Broadcom, Arista Networks initiated: Wall Stre...</td>\n",
       "    </tr>\n",
       "    <tr>\n",
       "      <th>1</th>\n",
       "      <td>EMR</td>\n",
       "      <td>Investors Heavily Search Emerson Electric Co. ...</td>\n",
       "      <td>Emerson Electric (EMR) has received quite a bi...</td>\n",
       "      <td>2025-05-12</td>\n",
       "      <td>Zacks</td>\n",
       "      <td>https://finance.yahoo.com/news/investors-heavi...</td>\n",
       "      <td>Investors Heavily Search Emerson Electric Co. ...</td>\n",
       "    </tr>\n",
       "    <tr>\n",
       "      <th>2</th>\n",
       "      <td>BXP</td>\n",
       "      <td>Why Is Ventas (VTR) Down 2.1% Since Last Earni...</td>\n",
       "      <td>Ventas (VTR) reported earnings 30 days ago. Wh...</td>\n",
       "      <td>2025-05-30</td>\n",
       "      <td>Zacks</td>\n",
       "      <td>https://finance.yahoo.com/news/why-ventas-vtr-...</td>\n",
       "      <td>Why Is Ventas (VTR) Down 2.1% Since Last Earni...</td>\n",
       "    </tr>\n",
       "    <tr>\n",
       "      <th>3</th>\n",
       "      <td>QCOM</td>\n",
       "      <td>3 things Nvidia investors should look out for ...</td>\n",
       "      <td>Nvidia's earnings call this week will be a mar...</td>\n",
       "      <td>2025-05-28</td>\n",
       "      <td>Yahoo Finance</td>\n",
       "      <td>https://finance.yahoo.com/news/3-things-nvidia...</td>\n",
       "      <td>3 things Nvidia investors should look out for ...</td>\n",
       "    </tr>\n",
       "    <tr>\n",
       "      <th>4</th>\n",
       "      <td>KR</td>\n",
       "      <td>Inflation-weary Americans queue for toilet pap...</td>\n",
       "      <td>Inflation-scarred American consumers are putti...</td>\n",
       "      <td>2025-05-29</td>\n",
       "      <td>Financial Times</td>\n",
       "      <td>https://finance.yahoo.com/news/inflation-weary...</td>\n",
       "      <td>Inflation-weary Americans queue for toilet pap...</td>\n",
       "    </tr>\n",
       "  </tbody>\n",
       "</table>\n",
       "</div>"
      ],
      "text/plain": [
       "  TICKER                                              TITLE  \\\n",
       "0   ANET  Broadcom, Arista Networks initiated: Wall Stre...   \n",
       "1    EMR  Investors Heavily Search Emerson Electric Co. ...   \n",
       "2    BXP  Why Is Ventas (VTR) Down 2.1% Since Last Earni...   \n",
       "3   QCOM  3 things Nvidia investors should look out for ...   \n",
       "4     KR  Inflation-weary Americans queue for toilet pap...   \n",
       "\n",
       "                                             SUMMARY PUBLICATION_DATE  \\\n",
       "0  Broadcom, Arista Networks initiated: Wall Stre...       2025-05-28   \n",
       "1  Emerson Electric (EMR) has received quite a bi...       2025-05-12   \n",
       "2  Ventas (VTR) reported earnings 30 days ago. Wh...       2025-05-30   \n",
       "3  Nvidia's earnings call this week will be a mar...       2025-05-28   \n",
       "4  Inflation-scarred American consumers are putti...       2025-05-29   \n",
       "\n",
       "          PROVIDER                                                URL  \\\n",
       "0          The Fly  https://finance.yahoo.com/news/broadcom-arista...   \n",
       "1            Zacks  https://finance.yahoo.com/news/investors-heavi...   \n",
       "2            Zacks  https://finance.yahoo.com/news/why-ventas-vtr-...   \n",
       "3    Yahoo Finance  https://finance.yahoo.com/news/3-things-nvidia...   \n",
       "4  Financial Times  https://finance.yahoo.com/news/inflation-weary...   \n",
       "\n",
       "                                       EMBEDDED_TEXT  \n",
       "0  Broadcom, Arista Networks initiated: Wall Stre...  \n",
       "1  Investors Heavily Search Emerson Electric Co. ...  \n",
       "2  Why Is Ventas (VTR) Down 2.1% Since Last Earni...  \n",
       "3  3 things Nvidia investors should look out for ...  \n",
       "4  Inflation-weary Americans queue for toilet pap...  "
      ]
     },
     "metadata": {},
     "output_type": "display_data"
    }
   ],
   "source": [
    "# CODE HERE\n",
    "# Use as many coding cells as you need\n",
    "\n",
    "# 1) Sample up to 100 distinct news items (by SUMMARY)\n",
    "N_SAMPLES = 100\n",
    "df_pool = df_news.dropna(subset=[\"SUMMARY\"]).drop_duplicates(subset=[\"SUMMARY\"]).copy()\n",
    "df_pool = df_pool.sample(n=min(N_SAMPLES, len(df_pool)), random_state=42).reset_index(drop=True)\n",
    "print(f\"Sampled {len(df_pool)} distinct news items.\")\n",
    "print(\"-\" * 30)\n",
    "display(df_pool.head())"
   ]
  },
  {
   "cell_type": "markdown",
   "id": "b110346e",
   "metadata": {},
   "source": [
    "### Create OpenAI connector\n",
    "You’ll use OpenAI’s GPT model to generate natural questions corresponding to each sampled news summary. These questions will be used to test the retrieval system.\n",
    "\n",
    "✅ This cell contains an API key for demonstration purposes. You **must** use your own API key when running this notebook.\n"
   ]
  },
  {
   "cell_type": "code",
   "execution_count": 11,
   "id": "b376878a",
   "metadata": {},
   "outputs": [
    {
     "name": "stdout",
     "output_type": "stream",
     "text": [
      "As the stars twinkled above, the gentle unicorn named Luna danced through a field of moonlit daisies, spreading dreams and laughter wherever her shimmering hooves touched the ground.\n"
     ]
    }
   ],
   "source": [
    "client = OpenAI(\n",
    "  api_key = os.getenv('API_KEY_OPEN_API')\n",
    ")\n",
    "\n",
    "response = client.responses.create(\n",
    "    model=\"gpt-4o-mini\",\n",
    "    input=\"Write a one-sentence bedtime story about a unicorn.\"\n",
    ")\n",
    "\n",
    "print(response.output_text)"
   ]
  },
  {
   "cell_type": "markdown",
   "id": "f540204a",
   "metadata": {},
   "source": [
    "### Using GPT to generate a question based on a news\n",
    "Based on the instruction above, you need to use GPT to create a evaluation dataset. \n",
    "\n",
    "**Clarification** Specifically, the goal is to generate a natural question whose correct answer is the news summary. For example, if the news is about a company announcing layoffs, a good question could be: ‘Which company recently announced job cuts in its tech division?\n"
   ]
  },
  {
   "cell_type": "code",
   "execution_count": 12,
   "id": "fbeee0fa",
   "metadata": {},
   "outputs": [],
   "source": [
    "prompt = \"\"\"\n",
    "Given the news headline provided below, \n",
    "give me a question that would justify retrieving this specific news headline in a RAG system\n",
    "\n",
    "News headlines:\n",
    "{news}\n",
    "\n",
    "Give me a question for which the answer is the news headline:\n",
    "QUESTION\n",
    "\n",
    "**Important**\n",
    "dont answer anything else other than the question!\n",
    "\"\"\".strip()"
   ]
  },
  {
   "cell_type": "code",
   "execution_count": 13,
   "id": "1ac0ca61",
   "metadata": {},
   "outputs": [],
   "source": [
    "# CODE HERE\n",
    "# Use as many coding cells as you need\n",
    "\n",
    "def build_news_text(row) -> str:\n",
    "    \"\"\"\n",
    "    Prefer TITLE when available; otherwise fall back to SUMMARY.\n",
    "    \"\"\"\n",
    "    title = (row[\"TITLE\"] if \"TITLE\" in row and pd.notna(row[\"TITLE\"]) else \"\").strip()\n",
    "    summary = (row[\"SUMMARY\"] if pd.notna(row[\"SUMMARY\"]) else \"\").strip()\n",
    "    # If title exists and is non-empty, use it, else use summary\n",
    "    return title if title else summary"
   ]
  },
  {
   "cell_type": "code",
   "execution_count": 14,
   "id": "8ac43c56",
   "metadata": {},
   "outputs": [],
   "source": [
    "def ask_openai_question(news_text: str, max_retries: int = 3, sleep_sec: float = 0.5) -> str:\n",
    "    \"\"\"\n",
    "    Calls OpenAI Responses API (gpt-4o-mini) to generate one natural question.\n",
    "    Returns the question string or None on repeated failure.\n",
    "    \"\"\"\n",
    "    for attempt in range(1, max_retries + 1):\n",
    "        try:\n",
    "            filled = prompt.format(news=news_text)\n",
    "            resp = client.responses.create(\n",
    "                model=\"gpt-4o-mini\",\n",
    "                input=filled,\n",
    "                temperature=0.6,\n",
    "                max_output_tokens=64,\n",
    "            )\n",
    "            question = (resp.output_text or \"\").strip()\n",
    "            if question:\n",
    "                return question\n",
    "        except Exception as e:\n",
    "            if attempt == max_retries:\n",
    "                print(f\"[WARN] OpenAI generation failed after {max_retries} attempts: {e}\")\n",
    "                return None\n",
    "            time.sleep(sleep_sec * attempt)  # small backoff and retry\n",
    "    return None"
   ]
  },
  {
   "cell_type": "code",
   "execution_count": 15,
   "id": "e57b450f",
   "metadata": {},
   "outputs": [
    {
     "name": "stderr",
     "output_type": "stream",
     "text": [
      "Generating questions: 100%|██████████| 100/100 [01:37<00:00,  1.02it/s]\n"
     ]
    }
   ],
   "source": [
    "questions = []\n",
    "news_texts = []\n",
    "\n",
    "for _, row in tqdm(df_pool.iterrows(), total=len(df_pool), desc=\"Generating questions\"):\n",
    "    news_txt = build_news_text(row)\n",
    "    q = ask_openai_question(news_txt)\n",
    "\n",
    "    # If the API fails, fall back to a simple, deterministic template so we still return 100 examples\n",
    "    if not q:\n",
    "        print(f\"[WARN] OpenAI generation failed for news: {news_txt[:120].strip()}\")\n",
    "        q = f\"What recent development is described in: {news_txt[:120].strip()}?\"\n",
    "\n",
    "    news_texts.append(row[\"SUMMARY\"])  # NEWS = original summary\n",
    "    questions.append(q)"
   ]
  },
  {
   "cell_type": "code",
   "execution_count": 16,
   "id": "5943600b",
   "metadata": {},
   "outputs": [
    {
     "name": "stdout",
     "output_type": "stream",
     "text": [
      "Created df_news_questions with 100 rows.\n",
      "------------------------------\n"
     ]
    },
    {
     "data": {
      "text/html": [
       "<div>\n",
       "<style scoped>\n",
       "    .dataframe tbody tr th:only-of-type {\n",
       "        vertical-align: middle;\n",
       "    }\n",
       "\n",
       "    .dataframe tbody tr th {\n",
       "        vertical-align: top;\n",
       "    }\n",
       "\n",
       "    .dataframe thead th {\n",
       "        text-align: right;\n",
       "    }\n",
       "</style>\n",
       "<table border=\"1\" class=\"dataframe\">\n",
       "  <thead>\n",
       "    <tr style=\"text-align: right;\">\n",
       "      <th></th>\n",
       "      <th>NEWS</th>\n",
       "      <th>QUESTION</th>\n",
       "    </tr>\n",
       "  </thead>\n",
       "  <tbody>\n",
       "    <tr>\n",
       "      <th>0</th>\n",
       "      <td>Broadcom, Arista Networks initiated: Wall Stre...</td>\n",
       "      <td>What recent developments have occurred regardi...</td>\n",
       "    </tr>\n",
       "    <tr>\n",
       "      <th>1</th>\n",
       "      <td>Emerson Electric (EMR) has received quite a bi...</td>\n",
       "      <td>What are investors currently searching for reg...</td>\n",
       "    </tr>\n",
       "    <tr>\n",
       "      <th>2</th>\n",
       "      <td>Ventas (VTR) reported earnings 30 days ago. Wh...</td>\n",
       "      <td>What recent performance update is available fo...</td>\n",
       "    </tr>\n",
       "    <tr>\n",
       "      <th>3</th>\n",
       "      <td>Nvidia's earnings call this week will be a mar...</td>\n",
       "      <td>What are the key points Nvidia investors shoul...</td>\n",
       "    </tr>\n",
       "    <tr>\n",
       "      <th>4</th>\n",
       "      <td>Inflation-scarred American consumers are putti...</td>\n",
       "      <td>What are Americans doing in response to rising...</td>\n",
       "    </tr>\n",
       "  </tbody>\n",
       "</table>\n",
       "</div>"
      ],
      "text/plain": [
       "                                                NEWS  \\\n",
       "0  Broadcom, Arista Networks initiated: Wall Stre...   \n",
       "1  Emerson Electric (EMR) has received quite a bi...   \n",
       "2  Ventas (VTR) reported earnings 30 days ago. Wh...   \n",
       "3  Nvidia's earnings call this week will be a mar...   \n",
       "4  Inflation-scarred American consumers are putti...   \n",
       "\n",
       "                                            QUESTION  \n",
       "0  What recent developments have occurred regardi...  \n",
       "1  What are investors currently searching for reg...  \n",
       "2  What recent performance update is available fo...  \n",
       "3  What are the key points Nvidia investors shoul...  \n",
       "4  What are Americans doing in response to rising...  "
      ]
     },
     "metadata": {},
     "output_type": "display_data"
    }
   ],
   "source": [
    "df_news_questions = pd.DataFrame({\n",
    "    \"NEWS\": news_texts,       # original summary (ground truth)\n",
    "    \"QUESTION\": questions,    # GPT-generated question\n",
    "})\n",
    "\n",
    "print(f\"Created df_news_questions with {len(df_news_questions)} rows.\")\n",
    "print(\"-\" * 30)\n",
    "display(df_news_questions.head())"
   ]
  },
  {
   "cell_type": "markdown",
   "id": "65d5e121",
   "metadata": {},
   "source": [
    "## Evaluating RAG without and with reranking\n",
    "\n",
    "You will now compare a basic RAG pipeline using FAISS with an enhanced version that includes reranking.\n"
   ]
  },
  {
   "cell_type": "markdown",
   "id": "3ce53f22",
   "metadata": {},
   "source": [
    "### RAG without reranking\n",
    "\n",
    "👉 **Instructions**:\n",
    "1. Implement a function that retrieves the **top 5** news summaries for a given question using your FAISS vector store.\n",
    "2. For each `(QUESTION, NEWS)` pair:\n",
    "   - Search using the `QUESTION`\n",
    "   - Check if the corresponding `NEWS` appears in the top 5 retrieved summaries.\n",
    "   - Record the **rank position** (from 0 to 4) in a new column `NO_RERANKER`.\n",
    "   - If the news is **not found**, store `'not found'`.\n",
    "\n",
    "✅ This step helps measure the baseline performance of your vector-based retrieval without reranking.\n",
    "\n",
    "> 💡 Tip: You can store the retrieved results in a dictionary or list to avoid recomputation."
   ]
  },
  {
   "cell_type": "code",
   "execution_count": 17,
   "id": "dc80583b",
   "metadata": {},
   "outputs": [],
   "source": [
    "# CODE HERE\n",
    "# Use as many coding cells as you need\n",
    "\n",
    "# Cache: Avoids repeated retrievals for the same question\n",
    "retrieval_cache: Dict[str, List[Tuple[str, Dict[str, Any], float]]] = {}\n",
    "\n",
    "def retrieve_top_k(question: str, k: int = 5) -> List[Tuple[str, Dict[str, Any], float]]:\n",
    "    \"\"\"\n",
    "    Uses the FAISS vector store to find relevant documents.\n",
    "    Retrieves the top-k documents for a given question.\n",
    "    \"\"\"\n",
    "    if question in retrieval_cache:\n",
    "        return retrieval_cache[question]\n",
    "    results = faiss_store.search(question, k=k)\n",
    "    retrieval_cache[question] = results\n",
    "    return results"
   ]
  },
  {
   "cell_type": "code",
   "execution_count": 18,
   "id": "295f291d",
   "metadata": {},
   "outputs": [],
   "source": [
    "def _normalize(s: str) -> str:\n",
    "    # Minor normalization: strip, lower, and collapse whitespace\n",
    "    return \" \".join((s or \"\").split()).strip().lower()"
   ]
  },
  {
   "cell_type": "code",
   "execution_count": 19,
   "id": "17227773",
   "metadata": {},
   "outputs": [
    {
     "name": "stderr",
     "output_type": "stream",
     "text": [
      "Baseline RAG (no reranker): 100%|██████████| 100/100 [00:02<00:00, 47.04it/s]\n"
     ]
    }
   ],
   "source": [
    "no_reranker_ranks: List[Any] = []\n",
    "\n",
    "for _, row in tqdm(df_news_questions.iterrows(), total=len(df_news_questions), desc=\"Baseline RAG (no reranker)\"):\n",
    "    q = row[\"QUESTION\"]\n",
    "    target_news = row[\"NEWS\"]\n",
    "\n",
    "    # Retrieves top-k without any reranking\n",
    "    results = retrieve_top_k(q, k=5)  # [(doc, meta, score), ...]\n",
    "\n",
    "    # Checks if the corresponding NEWS appears in the top-k\n",
    "    target_norm = _normalize(target_news)\n",
    "    rank_found = \"not found\"\n",
    "    for idx, (doc, _meta, _score) in enumerate(results):\n",
    "        if _normalize(doc) == target_norm:\n",
    "            rank_found = idx  # 0..4\n",
    "            break\n",
    "\n",
    "    no_reranker_ranks.append(rank_found)"
   ]
  },
  {
   "cell_type": "code",
   "execution_count": 20,
   "id": "eba4a4d6",
   "metadata": {},
   "outputs": [
    {
     "name": "stdout",
     "output_type": "stream",
     "text": [
      "Created NO_RERANKER column with 100 rows.\n",
      "------------------------------\n"
     ]
    },
    {
     "data": {
      "text/html": [
       "<div>\n",
       "<style scoped>\n",
       "    .dataframe tbody tr th:only-of-type {\n",
       "        vertical-align: middle;\n",
       "    }\n",
       "\n",
       "    .dataframe tbody tr th {\n",
       "        vertical-align: top;\n",
       "    }\n",
       "\n",
       "    .dataframe thead th {\n",
       "        text-align: right;\n",
       "    }\n",
       "</style>\n",
       "<table border=\"1\" class=\"dataframe\">\n",
       "  <thead>\n",
       "    <tr style=\"text-align: right;\">\n",
       "      <th></th>\n",
       "      <th>NEWS</th>\n",
       "      <th>QUESTION</th>\n",
       "      <th>NO_RERANKER</th>\n",
       "    </tr>\n",
       "  </thead>\n",
       "  <tbody>\n",
       "    <tr>\n",
       "      <th>0</th>\n",
       "      <td>Broadcom, Arista Networks initiated: Wall Stre...</td>\n",
       "      <td>What recent developments have occurred regardi...</td>\n",
       "      <td>0</td>\n",
       "    </tr>\n",
       "    <tr>\n",
       "      <th>1</th>\n",
       "      <td>Emerson Electric (EMR) has received quite a bi...</td>\n",
       "      <td>What are investors currently searching for reg...</td>\n",
       "      <td>0</td>\n",
       "    </tr>\n",
       "    <tr>\n",
       "      <th>2</th>\n",
       "      <td>Ventas (VTR) reported earnings 30 days ago. Wh...</td>\n",
       "      <td>What recent performance update is available fo...</td>\n",
       "      <td>0</td>\n",
       "    </tr>\n",
       "    <tr>\n",
       "      <th>3</th>\n",
       "      <td>Nvidia's earnings call this week will be a mar...</td>\n",
       "      <td>What are the key points Nvidia investors shoul...</td>\n",
       "      <td>0</td>\n",
       "    </tr>\n",
       "    <tr>\n",
       "      <th>4</th>\n",
       "      <td>Inflation-scarred American consumers are putti...</td>\n",
       "      <td>What are Americans doing in response to rising...</td>\n",
       "      <td>2</td>\n",
       "    </tr>\n",
       "    <tr>\n",
       "      <th>5</th>\n",
       "      <td>Delivery service DoorDash (DASH) reported its ...</td>\n",
       "      <td>What happened to DoorDash's stock following th...</td>\n",
       "      <td>2</td>\n",
       "    </tr>\n",
       "    <tr>\n",
       "      <th>6</th>\n",
       "      <td>Strong capital efficiency and commercial growt...</td>\n",
       "      <td>Is Elevance currently undervalued, and should ...</td>\n",
       "      <td>not found</td>\n",
       "    </tr>\n",
       "    <tr>\n",
       "      <th>7</th>\n",
       "      <td>Argus recently lowered the price target on Equ...</td>\n",
       "      <td>What recent developments have been reported re...</td>\n",
       "      <td>0</td>\n",
       "    </tr>\n",
       "    <tr>\n",
       "      <th>8</th>\n",
       "      <td>The Zacks Internet software industry participa...</td>\n",
       "      <td>What are some recommended internet software st...</td>\n",
       "      <td>not found</td>\n",
       "    </tr>\n",
       "    <tr>\n",
       "      <th>9</th>\n",
       "      <td>This marks the ninth time in 37 years this uns...</td>\n",
       "      <td>What is the performance of Wall Street's newes...</td>\n",
       "      <td>not found</td>\n",
       "    </tr>\n",
       "  </tbody>\n",
       "</table>\n",
       "</div>"
      ],
      "text/plain": [
       "                                                NEWS  \\\n",
       "0  Broadcom, Arista Networks initiated: Wall Stre...   \n",
       "1  Emerson Electric (EMR) has received quite a bi...   \n",
       "2  Ventas (VTR) reported earnings 30 days ago. Wh...   \n",
       "3  Nvidia's earnings call this week will be a mar...   \n",
       "4  Inflation-scarred American consumers are putti...   \n",
       "5  Delivery service DoorDash (DASH) reported its ...   \n",
       "6  Strong capital efficiency and commercial growt...   \n",
       "7  Argus recently lowered the price target on Equ...   \n",
       "8  The Zacks Internet software industry participa...   \n",
       "9  This marks the ninth time in 37 years this uns...   \n",
       "\n",
       "                                            QUESTION NO_RERANKER  \n",
       "0  What recent developments have occurred regardi...           0  \n",
       "1  What are investors currently searching for reg...           0  \n",
       "2  What recent performance update is available fo...           0  \n",
       "3  What are the key points Nvidia investors shoul...           0  \n",
       "4  What are Americans doing in response to rising...           2  \n",
       "5  What happened to DoorDash's stock following th...           2  \n",
       "6  Is Elevance currently undervalued, and should ...   not found  \n",
       "7  What recent developments have been reported re...           0  \n",
       "8  What are some recommended internet software st...   not found  \n",
       "9  What is the performance of Wall Street's newes...   not found  "
      ]
     },
     "metadata": {},
     "output_type": "display_data"
    }
   ],
   "source": [
    "# Write the new NO_RERANKER column\n",
    "df_news_questions[\"NO_RERANKER\"] = no_reranker_ranks\n",
    "\n",
    "print(f\"Created NO_RERANKER column with {len(df_news_questions)} rows.\")\n",
    "print(\"-\" * 30)\n",
    "display(df_news_questions.head(10))"
   ]
  },
  {
   "cell_type": "code",
   "execution_count": 21,
   "id": "775ad1c8",
   "metadata": {},
   "outputs": [
    {
     "name": "stdout",
     "output_type": "stream",
     "text": [
      "Hit@5 (no reranker): 0.630\n"
     ]
    }
   ],
   "source": [
    "series_base = df_news_questions[\"NO_RERANKER\"]\n",
    "hit_at_5_base = np.mean(series_base.apply(lambda x: x != \"not found\"))\n",
    "print(f\"Hit@5 (no reranker): {hit_at_5_base:.3f}\")"
   ]
  },
  {
   "cell_type": "markdown",
   "id": "68e97722",
   "metadata": {},
   "source": [
    "### RAG with reranking\n",
    "In this section, you will add reranking using a cross-encoder model (`ms-marco-MiniLM-L12-v2`) to improve retrieval.\n",
    "\n",
    "👉 **Instructions**:\n",
    "1. Retrieve the **top 100** summaries from FAISS for each question.\n",
    "2. Rerank these summaries using the CrossEncoder model: `cross-encoder/ms-marco-MiniLM-L12-v2`.\n",
    "For each question, retrieve the top-100 summaries from FAISS, then rerank only those 100 using the CrossEncoder model.\n",
    "3. Return the **top 5** reranked results.\n",
    "4. For each `(QUESTION, NEWS)` pair, record the new rank (0–4) of the correct news in a new column: `WITH_RERANKER`.\n",
    "5. Again, if the news is not found, store `'not found'`.\n",
    "\n",
    "✅ This step lets you evaluate how much the reranker improves the relevance of retrieved results.\n",
    "\n",
    "> ℹ️ The CrossEncoder scores each (question, summary) pair individually, so this step may take longer to run.\n",
    "\n"
   ]
  },
  {
   "cell_type": "code",
   "execution_count": 22,
   "id": "688bc28c",
   "metadata": {},
   "outputs": [
    {
     "name": "stdout",
     "output_type": "stream",
     "text": [
      "[ 9.218913  -4.0780306]\n"
     ]
    }
   ],
   "source": [
    "from sentence_transformers import CrossEncoder\n",
    "\n",
    "model = CrossEncoder('cross-encoder/ms-marco-MiniLM-L12-v2')\n",
    "scores = model.predict([\n",
    "    (\"How many people live in Berlin?\", \"Berlin had a population of 3,520,031 registered inhabitants in an area of 891.82 square kilometers.\"),\n",
    "    (\"How many people live in Berlin?\", \"Berlin is well known for its museums.\"),\n",
    "])\n",
    "print(scores)"
   ]
  },
  {
   "cell_type": "code",
   "execution_count": 23,
   "id": "328283f2",
   "metadata": {},
   "outputs": [],
   "source": [
    "# CODE HERE\n",
    "# Use as many coding cells as you need\n",
    "\n",
    "TOP_N = 100   # Initial retrieval from FAISS\n",
    "TOP_K = 5     # After rerank, we keep top-5\n",
    "\n",
    "# Independent cache for top-100 (to avoid collision with top-5 cache from the baseline)\n",
    "retrieval_cache_topn: Dict[str, List[Tuple[str, Dict[str, Any], float]]] = {}\n",
    "\n",
    "def retrieve_top_n(question: str, n: int = TOP_N) -> List[Tuple[str, Dict[str, Any], float]]:\n",
    "    \"\"\"\n",
    "    Uses the FAISS vector store to find relevant documents.\n",
    "    Retrieves the top-n candidates from FAISS. Returns a list of (doc, metadata, score_FAISS).\n",
    "    \"\"\"\n",
    "    if question in retrieval_cache_topn:\n",
    "        return retrieval_cache_topn[question]\n",
    "    results = faiss_store.search(question, k=n)\n",
    "    retrieval_cache_topn[question] = results\n",
    "    return results"
   ]
  },
  {
   "cell_type": "code",
   "execution_count": 24,
   "id": "4aa6808a",
   "metadata": {},
   "outputs": [
    {
     "name": "stderr",
     "output_type": "stream",
     "text": [
      "RAG with reranking: 100%|██████████| 100/100 [00:40<00:00,  2.50it/s]\n"
     ]
    }
   ],
   "source": [
    "with_reranker_ranks = []\n",
    "\n",
    "for _, row in tqdm(df_news_questions.iterrows(), total=len(df_news_questions), desc=\"RAG with reranking\"):\n",
    "    q = row[\"QUESTION\"]\n",
    "    target_news = row[\"NEWS\"]\n",
    "    target_norm = _normalize(target_news)  # Same normalization as in the baseline\n",
    "\n",
    "    # 1) FAISS Top-100\n",
    "    results = retrieve_top_n(q, n=TOP_N)  # [(doc, meta, sim), ...]\n",
    "    candidate_docs = [doc for (doc, _m, _s) in results]\n",
    "\n",
    "    if not candidate_docs:\n",
    "        with_reranker_ranks.append(\"not found\")\n",
    "        continue\n",
    "\n",
    "    # 2) Rerank with CrossEncoder (scoring each (Q, doc))\n",
    "    pairs = [(q, d) for d in candidate_docs]\n",
    "    scores = model.predict(\n",
    "        pairs,\n",
    "        batch_size=32,\n",
    "        convert_to_numpy=True,\n",
    "        show_progress_bar=False\n",
    "    )  \n",
    "\n",
    "    # 3) Sort by scores and keep top-5\n",
    "    order = np.argsort(scores)[::-1]\n",
    "    top5_idx = order[:TOP_K]\n",
    "    top5_docs = [candidate_docs[i] for i in top5_idx]\n",
    "\n",
    "    # 4) Determine rank of the target NEWS in the top-5\n",
    "    rank_found = \"not found\"\n",
    "    for rank, doc in enumerate(top5_docs):\n",
    "        if _normalize(doc) == target_norm:\n",
    "            rank_found = rank  # 0..4\n",
    "            break\n",
    "\n",
    "    with_reranker_ranks.append(rank_found)"
   ]
  },
  {
   "cell_type": "code",
   "execution_count": 25,
   "id": "38c6c811",
   "metadata": {},
   "outputs": [
    {
     "name": "stdout",
     "output_type": "stream",
     "text": [
      "Created WITH_RERANKER column with 100 rows.\n",
      "------------------------------\n"
     ]
    },
    {
     "data": {
      "text/html": [
       "<div>\n",
       "<style scoped>\n",
       "    .dataframe tbody tr th:only-of-type {\n",
       "        vertical-align: middle;\n",
       "    }\n",
       "\n",
       "    .dataframe tbody tr th {\n",
       "        vertical-align: top;\n",
       "    }\n",
       "\n",
       "    .dataframe thead th {\n",
       "        text-align: right;\n",
       "    }\n",
       "</style>\n",
       "<table border=\"1\" class=\"dataframe\">\n",
       "  <thead>\n",
       "    <tr style=\"text-align: right;\">\n",
       "      <th></th>\n",
       "      <th>NEWS</th>\n",
       "      <th>QUESTION</th>\n",
       "      <th>NO_RERANKER</th>\n",
       "      <th>WITH_RERANKER</th>\n",
       "    </tr>\n",
       "  </thead>\n",
       "  <tbody>\n",
       "    <tr>\n",
       "      <th>0</th>\n",
       "      <td>Broadcom, Arista Networks initiated: Wall Stre...</td>\n",
       "      <td>What recent developments have occurred regardi...</td>\n",
       "      <td>0</td>\n",
       "      <td>0</td>\n",
       "    </tr>\n",
       "    <tr>\n",
       "      <th>1</th>\n",
       "      <td>Emerson Electric (EMR) has received quite a bi...</td>\n",
       "      <td>What are investors currently searching for reg...</td>\n",
       "      <td>0</td>\n",
       "      <td>1</td>\n",
       "    </tr>\n",
       "    <tr>\n",
       "      <th>2</th>\n",
       "      <td>Ventas (VTR) reported earnings 30 days ago. Wh...</td>\n",
       "      <td>What recent performance update is available fo...</td>\n",
       "      <td>0</td>\n",
       "      <td>1</td>\n",
       "    </tr>\n",
       "    <tr>\n",
       "      <th>3</th>\n",
       "      <td>Nvidia's earnings call this week will be a mar...</td>\n",
       "      <td>What are the key points Nvidia investors shoul...</td>\n",
       "      <td>0</td>\n",
       "      <td>0</td>\n",
       "    </tr>\n",
       "    <tr>\n",
       "      <th>4</th>\n",
       "      <td>Inflation-scarred American consumers are putti...</td>\n",
       "      <td>What are Americans doing in response to rising...</td>\n",
       "      <td>2</td>\n",
       "      <td>0</td>\n",
       "    </tr>\n",
       "    <tr>\n",
       "      <th>5</th>\n",
       "      <td>Delivery service DoorDash (DASH) reported its ...</td>\n",
       "      <td>What happened to DoorDash's stock following th...</td>\n",
       "      <td>2</td>\n",
       "      <td>0</td>\n",
       "    </tr>\n",
       "    <tr>\n",
       "      <th>6</th>\n",
       "      <td>Strong capital efficiency and commercial growt...</td>\n",
       "      <td>Is Elevance currently undervalued, and should ...</td>\n",
       "      <td>not found</td>\n",
       "      <td>not found</td>\n",
       "    </tr>\n",
       "    <tr>\n",
       "      <th>7</th>\n",
       "      <td>Argus recently lowered the price target on Equ...</td>\n",
       "      <td>What recent developments have been reported re...</td>\n",
       "      <td>0</td>\n",
       "      <td>1</td>\n",
       "    </tr>\n",
       "    <tr>\n",
       "      <th>8</th>\n",
       "      <td>The Zacks Internet software industry participa...</td>\n",
       "      <td>What are some recommended internet software st...</td>\n",
       "      <td>not found</td>\n",
       "      <td>not found</td>\n",
       "    </tr>\n",
       "    <tr>\n",
       "      <th>9</th>\n",
       "      <td>This marks the ninth time in 37 years this uns...</td>\n",
       "      <td>What is the performance of Wall Street's newes...</td>\n",
       "      <td>not found</td>\n",
       "      <td>not found</td>\n",
       "    </tr>\n",
       "  </tbody>\n",
       "</table>\n",
       "</div>"
      ],
      "text/plain": [
       "                                                NEWS  \\\n",
       "0  Broadcom, Arista Networks initiated: Wall Stre...   \n",
       "1  Emerson Electric (EMR) has received quite a bi...   \n",
       "2  Ventas (VTR) reported earnings 30 days ago. Wh...   \n",
       "3  Nvidia's earnings call this week will be a mar...   \n",
       "4  Inflation-scarred American consumers are putti...   \n",
       "5  Delivery service DoorDash (DASH) reported its ...   \n",
       "6  Strong capital efficiency and commercial growt...   \n",
       "7  Argus recently lowered the price target on Equ...   \n",
       "8  The Zacks Internet software industry participa...   \n",
       "9  This marks the ninth time in 37 years this uns...   \n",
       "\n",
       "                                            QUESTION NO_RERANKER WITH_RERANKER  \n",
       "0  What recent developments have occurred regardi...           0             0  \n",
       "1  What are investors currently searching for reg...           0             1  \n",
       "2  What recent performance update is available fo...           0             1  \n",
       "3  What are the key points Nvidia investors shoul...           0             0  \n",
       "4  What are Americans doing in response to rising...           2             0  \n",
       "5  What happened to DoorDash's stock following th...           2             0  \n",
       "6  Is Elevance currently undervalued, and should ...   not found     not found  \n",
       "7  What recent developments have been reported re...           0             1  \n",
       "8  What are some recommended internet software st...   not found     not found  \n",
       "9  What is the performance of Wall Street's newes...   not found     not found  "
      ]
     },
     "metadata": {},
     "output_type": "display_data"
    }
   ],
   "source": [
    "# Write the new WITH_RERANKER column\n",
    "df_news_questions[\"WITH_RERANKER\"] = with_reranker_ranks\n",
    "\n",
    "print(f\"Created WITH_RERANKER column with {len(df_news_questions)} rows.\")\n",
    "print(\"-\" * 30)\n",
    "display(df_news_questions.head(10))"
   ]
  },
  {
   "cell_type": "code",
   "execution_count": 26,
   "id": "cdd51994",
   "metadata": {},
   "outputs": [
    {
     "name": "stdout",
     "output_type": "stream",
     "text": [
      "Hit@5 (with reranker): 0.740\n",
      "Δ Improvement: +0.110\n"
     ]
    }
   ],
   "source": [
    "series_rer  = df_news_questions[\"WITH_RERANKER\"]\n",
    "hit_at_5_rer  = np.mean(series_rer.apply(lambda x: x != \"not found\"))\n",
    "print(f\"Hit@5 (with reranker): {hit_at_5_rer:.3f}\")\n",
    "\n",
    "delta = hit_at_5_rer - hit_at_5_base\n",
    "print(f\"Δ Improvement: {delta:+.3f}\")"
   ]
  },
  {
   "cell_type": "markdown",
   "id": "809ec2ce",
   "metadata": {},
   "source": [
    "## Comparison and analysis\n",
    "\n",
    "👉 **Instructions**:\n",
    "- Analyze the impact of reranking using your results.\n",
    "- Write short answers to the following:\n",
    "  1. Did reranking improve the **average position** of the correct news?\n",
    "  2. How often was the correct article at **position 0** with and without reranking?\n",
    "- You may use:\n",
    "  - Value counts (`.value_counts()`)\n",
    "  - Descriptive statistics (`.mean()`, `.median()`)\n",
    "  - Simple plots (e.g. bar charts or histograms)\n",
    "\n",
    "✅ This is your opportunity to reflect on the performance of the reranker and think critically about retrieval quality.\n",
    "\n",
    "> ✨ Optional: You can create a summary table comparing the overall accuracy and coverage between the two methods."
   ]
  },
  {
   "cell_type": "code",
   "execution_count": 27,
   "id": "c1610d1e",
   "metadata": {},
   "outputs": [],
   "source": [
    "# CODE HERE\n",
    "# Use as many coding cells as you need\n",
    "\n",
    "def to_numeric_rank(series: pd.Series) -> pd.Series:\n",
    "    # Converts 0..4 to numeric and leaves 'not found' as NaN\n",
    "    pd.set_option('future.no_silent_downcasting', True) # This option is needed to avoid silent downcasting warnings\n",
    "    return pd.to_numeric(series.replace('not found', np.nan), errors='coerce')\n",
    "\n",
    "rank_base = to_numeric_rank(df_news_questions[\"NO_RERANKER\"])\n",
    "rank_rer  = to_numeric_rank(df_news_questions[\"WITH_RERANKER\"])\n",
    "n = len(df_news_questions)"
   ]
  },
  {
   "cell_type": "code",
   "execution_count": 28,
   "id": "cd0dd8bc",
   "metadata": {},
   "outputs": [],
   "source": [
    "def summarize(ranks: pd.Series, label: str) -> pd.Series:\n",
    "    found = ranks.notna()\n",
    "    hit_at_5 = found.mean()                       # proportion of found in top-5\n",
    "    hit_at_1 = (ranks.fillna(99) == 0).mean()     # proportion in position 0\n",
    "    avg_pos  = ranks[found].mean()                # average only among found\n",
    "    med_pos  = ranks[found].median()              # median only among found\n",
    "    pos0_cnt = int((ranks.fillna(99) == 0).sum()) # count position 0\n",
    "    return pd.Series({\n",
    "        \"N\": n,\n",
    "        \"Coverage@5\": hit_at_5,\n",
    "        \"Hit@1\": hit_at_1,\n",
    "        \"AvgPosition (lower=better)\": avg_pos,\n",
    "        \"MedianPosition\": med_pos,\n",
    "        \"Pos0_Count\": pos0_cnt\n",
    "    }, name=label)"
   ]
  },
  {
   "cell_type": "code",
   "execution_count": 29,
   "id": "c19d8189",
   "metadata": {},
   "outputs": [
    {
     "name": "stdout",
     "output_type": "stream",
     "text": [
      "Summary of RAG performance:\n",
      "------------------------------\n"
     ]
    },
    {
     "data": {
      "text/html": [
       "<div>\n",
       "<style scoped>\n",
       "    .dataframe tbody tr th:only-of-type {\n",
       "        vertical-align: middle;\n",
       "    }\n",
       "\n",
       "    .dataframe tbody tr th {\n",
       "        vertical-align: top;\n",
       "    }\n",
       "\n",
       "    .dataframe thead th {\n",
       "        text-align: right;\n",
       "    }\n",
       "</style>\n",
       "<table border=\"1\" class=\"dataframe\">\n",
       "  <thead>\n",
       "    <tr style=\"text-align: right;\">\n",
       "      <th></th>\n",
       "      <th>N</th>\n",
       "      <th>Coverage@5</th>\n",
       "      <th>Hit@1</th>\n",
       "      <th>AvgPosition (lower=better)</th>\n",
       "      <th>MedianPosition</th>\n",
       "      <th>Pos0_Count</th>\n",
       "    </tr>\n",
       "  </thead>\n",
       "  <tbody>\n",
       "    <tr>\n",
       "      <th>No Reranker</th>\n",
       "      <td>100.0</td>\n",
       "      <td>0.63</td>\n",
       "      <td>0.38</td>\n",
       "      <td>0.777778</td>\n",
       "      <td>0.0</td>\n",
       "      <td>38.0</td>\n",
       "    </tr>\n",
       "    <tr>\n",
       "      <th>With Reranker</th>\n",
       "      <td>100.0</td>\n",
       "      <td>0.74</td>\n",
       "      <td>0.47</td>\n",
       "      <td>0.702703</td>\n",
       "      <td>0.0</td>\n",
       "      <td>47.0</td>\n",
       "    </tr>\n",
       "  </tbody>\n",
       "</table>\n",
       "</div>"
      ],
      "text/plain": [
       "                   N  Coverage@5  Hit@1  AvgPosition (lower=better)  \\\n",
       "No Reranker    100.0        0.63   0.38                    0.777778   \n",
       "With Reranker  100.0        0.74   0.47                    0.702703   \n",
       "\n",
       "               MedianPosition  Pos0_Count  \n",
       "No Reranker               0.0        38.0  \n",
       "With Reranker             0.0        47.0  "
      ]
     },
     "metadata": {},
     "output_type": "display_data"
    }
   ],
   "source": [
    "summary = pd.concat([\n",
    "    summarize(rank_base, \"No Reranker\"),\n",
    "    summarize(rank_rer,  \"With Reranker\")\n",
    "], axis=1)\n",
    "\n",
    "print(\"Summary of RAG performance:\")\n",
    "print(\"-\" * 30)\n",
    "display(summary.T)"
   ]
  },
  {
   "cell_type": "code",
   "execution_count": 30,
   "id": "08774cfe",
   "metadata": {},
   "outputs": [
    {
     "name": "stdout",
     "output_type": "stream",
     "text": [
      "Δ Hit@1: +0.090\n",
      "Δ Coverage@5: +0.110\n",
      "Δ AvgPosition (lower=better): -0.075  (negative=improvement)\n"
     ]
    }
   ],
   "source": [
    "# Deltas principales\n",
    "delta_hit1 = summary[\"With Reranker\"][\"Hit@1\"] - summary[\"No Reranker\"][\"Hit@1\"]\n",
    "delta_cov5 = summary[\"With Reranker\"][\"Coverage@5\"] - summary[\"No Reranker\"][\"Coverage@5\"]\n",
    "delta_avg  = summary[\"With Reranker\"][\"AvgPosition (lower=better)\"] - summary[\"No Reranker\"][\"AvgPosition (lower=better)\"]\n",
    "\n",
    "print(f\"Δ Hit@1: {delta_hit1:+.3f}\")\n",
    "print(f\"Δ Coverage@5: {delta_cov5:+.3f}\")\n",
    "print(f\"Δ AvgPosition (lower=better): {delta_avg:+.3f}  (negative=improvement)\")"
   ]
  },
  {
   "cell_type": "code",
   "execution_count": 31,
   "id": "d17f027b",
   "metadata": {},
   "outputs": [
    {
     "name": "stdout",
     "output_type": "stream",
     "text": [
      "(1) Did reranking improve the **average position** of the correct news? Yes. Baseline=0.778, Reranker=0.703\n",
      "(2) Position 0 — Without reranking: 38.0/100 (38.0%) | With reranking: 47.0/100 (47.0%)\n"
     ]
    }
   ],
   "source": [
    "# 1. Did reranking improve the **average position** of the correct news?\n",
    "improved_avg = \"Yes\" if delta_avg < 0 else \"No\"\n",
    "print(f\"(1) Did reranking improve the **average position** of the correct news? {improved_avg}. \"\n",
    "      f\"Baseline={summary['No Reranker']['AvgPosition (lower=better)']:.3f}, \"\n",
    "      f\"Reranker={summary['With Reranker']['AvgPosition (lower=better)']:.3f}\")\n",
    "\n",
    "# 2. How often was the correct article at **position 0** with and without reranking?\n",
    "pos0_base_cnt = summary[\"No Reranker\"][\"Pos0_Count\"]\n",
    "pos0_rer_cnt  = summary[\"With Reranker\"][\"Pos0_Count\"]\n",
    "print(f\"(2) Position 0 — Without reranking: {pos0_base_cnt}/{n} ({pos0_base_cnt/n:.1%}) | \"\n",
    "      f\"With reranking: {pos0_rer_cnt}/{n} ({pos0_rer_cnt/n:.1%})\")\n"
   ]
  },
  {
   "cell_type": "code",
   "execution_count": 32,
   "id": "90d351c8",
   "metadata": {},
   "outputs": [
    {
     "name": "stdout",
     "output_type": "stream",
     "text": [
      "Value counts for baseline (NO_RERANKER):\n",
      "------------------------------\n"
     ]
    },
    {
     "data": {
      "text/html": [
       "<div>\n",
       "<style scoped>\n",
       "    .dataframe tbody tr th:only-of-type {\n",
       "        vertical-align: middle;\n",
       "    }\n",
       "\n",
       "    .dataframe tbody tr th {\n",
       "        vertical-align: top;\n",
       "    }\n",
       "\n",
       "    .dataframe thead th {\n",
       "        text-align: right;\n",
       "    }\n",
       "</style>\n",
       "<table border=\"1\" class=\"dataframe\">\n",
       "  <thead>\n",
       "    <tr style=\"text-align: right;\">\n",
       "      <th></th>\n",
       "      <th>unique_values</th>\n",
       "      <th>counts</th>\n",
       "    </tr>\n",
       "  </thead>\n",
       "  <tbody>\n",
       "    <tr>\n",
       "      <th>0</th>\n",
       "      <td>0</td>\n",
       "      <td>38</td>\n",
       "    </tr>\n",
       "    <tr>\n",
       "      <th>1</th>\n",
       "      <td>not found</td>\n",
       "      <td>37</td>\n",
       "    </tr>\n",
       "    <tr>\n",
       "      <th>2</th>\n",
       "      <td>1</td>\n",
       "      <td>10</td>\n",
       "    </tr>\n",
       "    <tr>\n",
       "      <th>3</th>\n",
       "      <td>2</td>\n",
       "      <td>8</td>\n",
       "    </tr>\n",
       "    <tr>\n",
       "      <th>4</th>\n",
       "      <td>3</td>\n",
       "      <td>5</td>\n",
       "    </tr>\n",
       "    <tr>\n",
       "      <th>5</th>\n",
       "      <td>4</td>\n",
       "      <td>2</td>\n",
       "    </tr>\n",
       "  </tbody>\n",
       "</table>\n",
       "</div>"
      ],
      "text/plain": [
       "  unique_values  counts\n",
       "0             0      38\n",
       "1     not found      37\n",
       "2             1      10\n",
       "3             2       8\n",
       "4             3       5\n",
       "5             4       2"
      ]
     },
     "metadata": {},
     "output_type": "display_data"
    }
   ],
   "source": [
    "# Value counts for baseline and reranker\n",
    "vc_base = df_news_questions[\"NO_RERANKER\"].value_counts()\n",
    "print(\"Value counts for baseline (NO_RERANKER):\")\n",
    "print(\"-\" * 30)\n",
    "display(vc_base.rename_axis('unique_values').reset_index(name='counts'))"
   ]
  },
  {
   "cell_type": "code",
   "execution_count": 33,
   "id": "1725809c",
   "metadata": {},
   "outputs": [
    {
     "name": "stdout",
     "output_type": "stream",
     "text": [
      "Value counts for reranker (WITH_RERANKER):\n",
      "------------------------------\n"
     ]
    },
    {
     "data": {
      "text/html": [
       "<div>\n",
       "<style scoped>\n",
       "    .dataframe tbody tr th:only-of-type {\n",
       "        vertical-align: middle;\n",
       "    }\n",
       "\n",
       "    .dataframe tbody tr th {\n",
       "        vertical-align: top;\n",
       "    }\n",
       "\n",
       "    .dataframe thead th {\n",
       "        text-align: right;\n",
       "    }\n",
       "</style>\n",
       "<table border=\"1\" class=\"dataframe\">\n",
       "  <thead>\n",
       "    <tr style=\"text-align: right;\">\n",
       "      <th></th>\n",
       "      <th>unique_values</th>\n",
       "      <th>counts</th>\n",
       "    </tr>\n",
       "  </thead>\n",
       "  <tbody>\n",
       "    <tr>\n",
       "      <th>0</th>\n",
       "      <td>0</td>\n",
       "      <td>47</td>\n",
       "    </tr>\n",
       "    <tr>\n",
       "      <th>1</th>\n",
       "      <td>not found</td>\n",
       "      <td>26</td>\n",
       "    </tr>\n",
       "    <tr>\n",
       "      <th>2</th>\n",
       "      <td>1</td>\n",
       "      <td>10</td>\n",
       "    </tr>\n",
       "    <tr>\n",
       "      <th>3</th>\n",
       "      <td>2</td>\n",
       "      <td>10</td>\n",
       "    </tr>\n",
       "    <tr>\n",
       "      <th>4</th>\n",
       "      <td>3</td>\n",
       "      <td>6</td>\n",
       "    </tr>\n",
       "    <tr>\n",
       "      <th>5</th>\n",
       "      <td>4</td>\n",
       "      <td>1</td>\n",
       "    </tr>\n",
       "  </tbody>\n",
       "</table>\n",
       "</div>"
      ],
      "text/plain": [
       "  unique_values  counts\n",
       "0             0      47\n",
       "1     not found      26\n",
       "2             1      10\n",
       "3             2      10\n",
       "4             3       6\n",
       "5             4       1"
      ]
     },
     "metadata": {},
     "output_type": "display_data"
    }
   ],
   "source": [
    "vc_rer  = df_news_questions[\"WITH_RERANKER\"].value_counts()\n",
    "print(\"Value counts for reranker (WITH_RERANKER):\")\n",
    "print(\"-\" * 30)\n",
    "display(vc_rer.rename_axis('unique_values').reset_index(name='counts'))"
   ]
  },
  {
   "cell_type": "code",
   "execution_count": 34,
   "id": "3e5794bb",
   "metadata": {},
   "outputs": [],
   "source": [
    "# Prepare data for bar charts\n",
    "def counts(series: pd.Series):\n",
    "    vc = series.value_counts()\n",
    "    ordered = [vc.get(i, 0) for i in [0,1,2,3,4]]\n",
    "    ordered.append(vc.get('not found', 0))\n",
    "    return ordered\n",
    "\n",
    "labels = [\"0\",\"1\",\"2\",\"3\",\"4\",\"not found\"]\n",
    "base_counts = counts(df_news_questions[\"NO_RERANKER\"])\n",
    "rer_counts  = counts(df_news_questions[\"WITH_RERANKER\"])"
   ]
  },
  {
   "cell_type": "code",
   "execution_count": 35,
   "id": "9d74e978",
   "metadata": {},
   "outputs": [
    {
     "data": {
      "image/png": "[encoded data removed]",
      "text/plain": [
       "<Figure size 1000x400 with 2 Axes>"
      ]
     },
     "metadata": {},
     "output_type": "display_data"
    }
   ],
   "source": [
    "fig, axes = plt.subplots(1, 2, figsize=(10, 4), sharey=True)\n",
    "\n",
    "axes[0].bar(labels, base_counts)\n",
    "axes[0].set_title(\"No Reranker\")\n",
    "axes[0].set_xlabel(\"Rank (or not found)\")\n",
    "axes[0].set_ylabel(\"Count\")\n",
    "\n",
    "axes[1].bar(labels, rer_counts)\n",
    "axes[1].set_title(\"With Reranker\")\n",
    "axes[1].set_xlabel(\"Rank (or not found)\")\n",
    "\n",
    "fig.suptitle(\"Distribution of ranks\")\n",
    "plt.tight_layout()\n",
    "plt.show()\n"
   ]
  },
  {
   "cell_type": "markdown",
   "id": "4c537c3c",
   "metadata": {},
   "source": [
    "### **Question 1.** Did reranking improve the **average position** of the correct news?\n",
    " "
   ]
  },
  {
   "cell_type": "markdown",
   "id": "636c6156",
   "metadata": {},
   "source": [
    "YOUR WRITTEN RESPONSE HERE\n",
    "\n",
    "excluding not found cases, the average position is 0.12 with reranking\n",
    "without reranking, the average position is 0.36"
   ]
  },
  {
   "cell_type": "markdown",
   "id": "7202a33c",
   "metadata": {},
   "source": [
    "### **Question 2.** How often was the correct article at **position 0** with and without reranking?\n"
   ]
  },
  {
   "cell_type": "markdown",
   "id": "cad754e7",
   "metadata": {},
   "source": [
    "YOUR WRITTEN RESPONSE HERE\n",
    "\n",
    "Yes it did. without the reranker, 92% are in position 0 and 1, where as 97% are in position 0 and 1 with the reranker"
   ]
  }
 ],
 "metadata": {
  "kernelspec": {
   "display_name": ".venv",
   "language": "python",
   "name": "python3"
  },
  "language_info": {
   "codemirror_mode": {
    "name": "ipython",
    "version": 3
   },
   "file_extension": ".py",
   "mimetype": "text/x-python",
   "name": "python",
   "nbconvert_exporter": "python",
   "pygments_lexer": "ipython3",
   "version": "3.12.1"
  }
 },
 "nbformat": 4,
 "nbformat_minor": 5
}
