{
 "cells": [
  {
   "cell_type": "markdown",
   "id": "41b4b63e",
   "metadata": {},
   "source": [
    "# Master in Applied Artificial Intelligence\n",
    "\n",
    "## Course: *Fintech and Digital Innovation in Finance*\n",
    "\n",
    "### **Course Project – Part 1**\n",
    "### Text Embeddings and Technical Analysis on S&P 500 Data (*Section A*)\n",
    "\n",
    "---\n",
    "\n",
    "**Institution:** Tecnológico de Monterrey\n",
    "\n",
    "**Instructors:** Marie-Ève Malette, Yetnalezi Quintas Ruiz\n",
    "\n",
    "**Author:** Alejandro Díaz Villagómez | A01276769\n",
    "\n",
    "**Date:** July 28th, 2025\n",
    "\n",
    "---"
   ]
  },
  {
   "cell_type": "markdown",
   "id": "c3978947",
   "metadata": {},
   "source": [
    "# 1) Data Retrieval & Structuring"
   ]
  },
  {
   "cell_type": "code",
   "execution_count": null,
   "id": "4617b29c",
   "metadata": {
    "vscode": {
     "languageId": "plaintext"
    }
   },
   "outputs": [],
   "source": []
  },
  {
   "cell_type": "markdown",
   "id": "86ed7b67",
   "metadata": {},
   "source": [
    "# 2) Embeddings & Clustering"
   ]
  },
  {
   "cell_type": "code",
   "execution_count": null,
   "id": "54ab9d64",
   "metadata": {
    "vscode": {
     "languageId": "plaintext"
    }
   },
   "outputs": [],
   "source": []
  },
  {
   "cell_type": "markdown",
   "id": "ab94f8a7",
   "metadata": {},
   "source": [
    "# 3) Visualization"
   ]
  },
  {
   "cell_type": "code",
   "execution_count": null,
   "id": "fd5d345a",
   "metadata": {
    "vscode": {
     "languageId": "plaintext"
    }
   },
   "outputs": [],
   "source": []
  },
  {
   "cell_type": "markdown",
   "id": "fc448b20",
   "metadata": {},
   "source": [
    "# 4) Reflection & Analysis"
   ]
  },
  {
   "cell_type": "code",
   "execution_count": null,
   "id": "de42c0b9",
   "metadata": {
    "vscode": {
     "languageId": "plaintext"
    }
   },
   "outputs": [],
   "source": []
  }
 ],
 "metadata": {
  "language_info": {
   "name": "python"
  }
 },
 "nbformat": 4,
 "nbformat_minor": 5
}
