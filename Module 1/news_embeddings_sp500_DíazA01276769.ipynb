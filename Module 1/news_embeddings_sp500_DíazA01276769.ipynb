{
 "cells": [
  {
   "cell_type": "markdown",
   "id": "733056d4",
   "metadata": {},
   "source": [
    "# Master in Applied Artificial Intelligence\n",
    "\n",
    "## Course: *Fintech and Digital Innovation in Finance*\n",
    "\n",
    "### **Course Project – Part 1**\n",
    "### Text Embeddings and Technical Analysis on S&P 500 Data (*Section A*)\n",
    "\n",
    "---\n",
    "\n",
    "**Institution:** Tecnológico de Monterrey\n",
    "\n",
    "**Instructors:** Marie-Ève Malette, Yetnalezi Quintas Ruiz\n",
    "\n",
    "**Author:** Alejandro Díaz Villagómez | A01276769\n",
    "\n",
    "**Date:** July 28th, 2025\n",
    "\n",
    "---"
   ]
  },
  {
   "cell_type": "markdown",
   "id": "278363b3",
   "metadata": {},
   "source": [
    "# Introduction to text embeddings on S&P 500 news"
   ]
  },
  {
   "cell_type": "markdown",
   "id": "83d6ffde",
   "metadata": {},
   "source": [
    "# 📌 Objectives\n",
    "\n",
    "By the end of this notebook, students will be able to:\n",
    "\n",
    "1. **Retrieve Financial News:**\n",
    "   - Use the `yfinance` library to gather news headlines for all companies in the S&P 500 index.\n",
    "\n",
    "2. **Clean and Structure Financial Text Data:**\n",
    "   - Extract and organize relevant metadata (e.g., ticker, title, summary, publication date, URL) into a structured pandas DataFrame.\n",
    "\n",
    "3. **Generate Text Embeddings:**\n",
    "   - Apply a pre-trained sentence transformer model (`all-MiniLM-L6-v2`) to convert news headlines and summaries into numerical embeddings.\n",
    "\n",
    "4. **Apply Clustering Techniques:**\n",
    "   - Use K-Means clustering to identify groups of similar news articles based on semantic content.\n",
    "\n",
    "5. **Determine Optimal Number of Clusters:**\n",
    "   - Evaluate clustering quality using silhouette scores to find the best number of clusters.\n",
    "\n",
    "6. **Visualize High-Dimensional Embeddings:**\n",
    "   - Reduce the embedding space using PCA and visualize clusters in two dimensions.\n",
    "\n",
    "7. **Interpret Cluster Themes:**\n",
    "   - Analyze representative news\n"
   ]
  },
  {
   "cell_type": "markdown",
   "id": "fe54247f",
   "metadata": {},
   "source": [
    "## Install and Import important librairies"
   ]
  },
  {
   "cell_type": "code",
   "execution_count": 1,
   "id": "49c4fff2",
   "metadata": {},
   "outputs": [],
   "source": [
    "# !pip install -q yfinance pandas lxml tqdm sentence-transformers ipywidgets scikit-learn matplotlib\n",
    "# !pip freeze > ../requirements.txt"
   ]
  },
  {
   "cell_type": "code",
   "execution_count": 2,
   "id": "7b8b20aa",
   "metadata": {},
   "outputs": [],
   "source": [
    "from sentence_transformers import SentenceTransformer\n",
    "import pandas as pd\n",
    "from sklearn.cluster import KMeans\n",
    "from sklearn.decomposition import PCA\n",
    "import matplotlib.pyplot as plt\n",
    "from sentence_transformers import SentenceTransformer\n",
    "from sklearn.metrics import silhouette_score\n",
    "import yfinance as yf\n",
    "import numpy as np"
   ]
  },
  {
   "cell_type": "markdown",
   "id": "3f54a285",
   "metadata": {},
   "source": [
    "## Get the list of stocks in the S&P 500 "
   ]
  },
  {
   "cell_type": "code",
   "execution_count": 3,
   "id": "2d3c3175",
   "metadata": {},
   "outputs": [
    {
     "data": {
      "text/html": [
       "<div>\n",
       "<style scoped>\n",
       "    .dataframe tbody tr th:only-of-type {\n",
       "        vertical-align: middle;\n",
       "    }\n",
       "\n",
       "    .dataframe tbody tr th {\n",
       "        vertical-align: top;\n",
       "    }\n",
       "\n",
       "    .dataframe thead th {\n",
       "        text-align: right;\n",
       "    }\n",
       "</style>\n",
       "<table border=\"1\" class=\"dataframe\">\n",
       "  <thead>\n",
       "    <tr style=\"text-align: right;\">\n",
       "      <th></th>\n",
       "      <th>Symbol</th>\n",
       "      <th>Security</th>\n",
       "      <th>GICS Sector</th>\n",
       "      <th>GICS Sub-Industry</th>\n",
       "      <th>Headquarters Location</th>\n",
       "      <th>Date added</th>\n",
       "      <th>CIK</th>\n",
       "      <th>Founded</th>\n",
       "    </tr>\n",
       "  </thead>\n",
       "  <tbody>\n",
       "    <tr>\n",
       "      <th>0</th>\n",
       "      <td>MMM</td>\n",
       "      <td>3M</td>\n",
       "      <td>Industrials</td>\n",
       "      <td>Industrial Conglomerates</td>\n",
       "      <td>Saint Paul, Minnesota</td>\n",
       "      <td>1957-03-04</td>\n",
       "      <td>66740</td>\n",
       "      <td>1902</td>\n",
       "    </tr>\n",
       "    <tr>\n",
       "      <th>1</th>\n",
       "      <td>AOS</td>\n",
       "      <td>A. O. Smith</td>\n",
       "      <td>Industrials</td>\n",
       "      <td>Building Products</td>\n",
       "      <td>Milwaukee, Wisconsin</td>\n",
       "      <td>2017-07-26</td>\n",
       "      <td>91142</td>\n",
       "      <td>1916</td>\n",
       "    </tr>\n",
       "    <tr>\n",
       "      <th>2</th>\n",
       "      <td>ABT</td>\n",
       "      <td>Abbott Laboratories</td>\n",
       "      <td>Health Care</td>\n",
       "      <td>Health Care Equipment</td>\n",
       "      <td>North Chicago, Illinois</td>\n",
       "      <td>1957-03-04</td>\n",
       "      <td>1800</td>\n",
       "      <td>1888</td>\n",
       "    </tr>\n",
       "    <tr>\n",
       "      <th>3</th>\n",
       "      <td>ABBV</td>\n",
       "      <td>AbbVie</td>\n",
       "      <td>Health Care</td>\n",
       "      <td>Biotechnology</td>\n",
       "      <td>North Chicago, Illinois</td>\n",
       "      <td>2012-12-31</td>\n",
       "      <td>1551152</td>\n",
       "      <td>2013 (1888)</td>\n",
       "    </tr>\n",
       "    <tr>\n",
       "      <th>4</th>\n",
       "      <td>ACN</td>\n",
       "      <td>Accenture</td>\n",
       "      <td>Information Technology</td>\n",
       "      <td>IT Consulting &amp; Other Services</td>\n",
       "      <td>Dublin, Ireland</td>\n",
       "      <td>2011-07-06</td>\n",
       "      <td>1467373</td>\n",
       "      <td>1989</td>\n",
       "    </tr>\n",
       "  </tbody>\n",
       "</table>\n",
       "</div>"
      ],
      "text/plain": [
       "  Symbol             Security             GICS Sector  \\\n",
       "0    MMM                   3M             Industrials   \n",
       "1    AOS          A. O. Smith             Industrials   \n",
       "2    ABT  Abbott Laboratories             Health Care   \n",
       "3   ABBV               AbbVie             Health Care   \n",
       "4    ACN            Accenture  Information Technology   \n",
       "\n",
       "                GICS Sub-Industry    Headquarters Location  Date added  \\\n",
       "0        Industrial Conglomerates    Saint Paul, Minnesota  1957-03-04   \n",
       "1               Building Products     Milwaukee, Wisconsin  2017-07-26   \n",
       "2           Health Care Equipment  North Chicago, Illinois  1957-03-04   \n",
       "3                   Biotechnology  North Chicago, Illinois  2012-12-31   \n",
       "4  IT Consulting & Other Services          Dublin, Ireland  2011-07-06   \n",
       "\n",
       "       CIK      Founded  \n",
       "0    66740         1902  \n",
       "1    91142         1916  \n",
       "2     1800         1888  \n",
       "3  1551152  2013 (1888)  \n",
       "4  1467373         1989  "
      ]
     },
     "metadata": {},
     "output_type": "display_data"
    }
   ],
   "source": [
    "# Read and print the stock tickers that make up S&P500\n",
    "df_tickers = pd.read_html('https://en.wikipedia.org/wiki/List_of_S%26P_500_companies')[0]\n",
    "display(df_tickers.head())"
   ]
  },
  {
   "cell_type": "code",
   "execution_count": 4,
   "id": "c5309ff2",
   "metadata": {},
   "outputs": [
    {
     "name": "stdout",
     "output_type": "stream",
     "text": [
      "Sample tickers: ['MMM', 'AOS', 'ABT', 'ABBV', 'ACN', 'ADBE', 'AMD', 'AES', 'AFL', 'A']\n"
     ]
    }
   ],
   "source": [
    "ticker_list = df_tickers['Symbol'].tolist()\n",
    "print(\"Sample tickers:\", ticker_list[:10])"
   ]
  },
  {
   "cell_type": "markdown",
   "id": "e067dba6",
   "metadata": {},
   "source": [
    "## Get the news of all 500 stocks in the S&P 500 Index\n",
    "Use the yfinance library to retrieve the news of all 500 stocks in the index.\n",
    "https://ranaroussi.github.io/yfinance/reference/yfinance.stock.html"
   ]
  },
  {
   "cell_type": "markdown",
   "id": "c2807119",
   "metadata": {},
   "source": [
    "### Get the news in a dictionary"
   ]
  },
  {
   "cell_type": "code",
   "execution_count": 5,
   "id": "2e78bb43",
   "metadata": {},
   "outputs": [
    {
     "name": "stderr",
     "output_type": "stream",
     "text": [
      "Fetching news: 100%|██████████| 503/503 [03:45<00:00,  2.23it/s]\n"
     ]
    }
   ],
   "source": [
    "# Create a dictionary where the keys are the symbols (tickers) of each 500 stocks \n",
    "# and the value is the output news from the yfinance library\n",
    "\n",
    "from tqdm import tqdm\n",
    "import time\n",
    "\n",
    "# Dictionary to store ticker: news_list\n",
    "ticker_news_dict = {}\n",
    "\n",
    "# Loop through each ticker and collect news\n",
    "for ticker in tqdm(ticker_list, desc=\"Fetching news\"):\n",
    "    try:\n",
    "        stock = yf.Ticker(ticker)\n",
    "        news_items = stock.news\n",
    "        ticker_news_dict[ticker] = news_items  # Store full news list (even if empty)\n",
    "        time.sleep(0.2)  # Prevent rate limiting\n",
    "    except Exception as e:\n",
    "        print(f\"Error fetching news for {ticker}: {e}\")\n",
    "        ticker_news_dict[ticker] = []"
   ]
  },
  {
   "cell_type": "code",
   "execution_count": 6,
   "id": "53e90e46",
   "metadata": {},
   "outputs": [
    {
     "name": "stdout",
     "output_type": "stream",
     "text": [
      "Sample ticker_news_dict entry:\n",
      "--------------------------------------------------\n",
      "TICKER: MMM\n",
      "Number of articles: 10\n",
      "------------------------------\n",
      "id: 70669b9e-2b94-3b39-b30e-c4b59ce9f9f3\n",
      "contentType: STORY\n",
      "title: UBS Affirms ‘Buy’ Stance on 3M Co (MMM) as Q2 Results Impress on Organic Growth\n",
      "description: \n",
      "summary: 3M Company (NYSE:MMM) is one of the defensive stocks billionaires are buying amid US trade tariff uncertainty. On July 21, UBS reiterated a ‘Buy’ rating on the stock and a $184 price target. The positive stance stems from the company delivering better-than-expected second-quarter results, as it also increased its full-year earnings per share guidance. The […]\n",
      "pubDate: 2025-07-31T04:23:44Z\n",
      "displayTime: 2025-07-31T04:23:44Z\n",
      "isHosted: True\n",
      "bypassModal: False\n",
      "previewUrl: None\n",
      "thumbnail: {'originalUrl': 'https://media.zenfs.com/en/insidermonkey.com/455bfa79d6103f202da4a30bafd2536d', 'originalWidth': 1456, 'originalHeight': 816, 'caption': 'UBS Affirms ‘Buy’ Stance on 3M Co (MMM) as Q2 Results Impress on Organic Growth', 'resolutions': [{'url': 'https://s.yimg.com/uu/api/res/1.2/ADRvcJNrKDWHn3oe0thM5A--~B/aD04MTY7dz0xNDU2O2FwcGlkPXl0YWNoeW9u/https://media.zenfs.com/en/insidermonkey.com/455bfa79d6103f202da4a30bafd2536d', 'width': 1456, 'height': 816, 'tag': 'original'}, {'url': 'https://s.yimg.com/uu/api/res/1.2/iU8KYz.0_WHzejNVT.T7zA--~B/Zmk9c3RyaW07aD0xMjg7dz0xNzA7YXBwaWQ9eXRhY2h5b24-/https://media.zenfs.com/en/insidermonkey.com/455bfa79d6103f202da4a30bafd2536d', 'width': 170, 'height': 128, 'tag': '170x128'}]}\n",
      "provider: {'displayName': 'Insider Monkey', 'url': 'http://www.insidermonkey.com'}\n",
      "canonicalUrl: {'url': 'https://finance.yahoo.com/news/ubs-affirms-buy-stance-3m-042344680.html', 'site': 'finance', 'region': 'US', 'lang': 'en-US'}\n",
      "clickThroughUrl: {'url': 'https://finance.yahoo.com/news/ubs-affirms-buy-stance-3m-042344680.html', 'site': 'finance', 'region': 'US', 'lang': 'en-US'}\n",
      "metadata: {'editorsPick': False}\n",
      "finance: {'premiumFinance': {'isPremiumNews': False, 'isPremiumFreeNews': False}}\n",
      "storyline: None\n"
     ]
    }
   ],
   "source": [
    "print(\"Sample ticker_news_dict entry:\")\n",
    "print(\"-\" * 50)\n",
    "\n",
    "# Find the first ticker with at least one news article\n",
    "for ticker, news_list in ticker_news_dict.items():\n",
    "    if news_list:  # If the list is not empty\n",
    "        print(f\"TICKER: {ticker}\")\n",
    "        print(f\"Number of articles: {len(news_list)}\")\n",
    "        print(\"-\" * 30)\n",
    "        # Print the first news article in a readable format\n",
    "        first_article = news_list[0]\n",
    "        for k, v in first_article.get(\"content\", {}).items():\n",
    "            print(f\"{k}: {v}\")\n",
    "        break"
   ]
  },
  {
   "cell_type": "markdown",
   "id": "c1de6cae",
   "metadata": {},
   "source": [
    "### Structure the news into a pandas dataframe \n",
    "\n",
    "Your final dataframe should have the following columns: \n",
    "- TICKER\n",
    "- TITLE (of the news)\n",
    "- SUMMARY (of the news)\n",
    "- PUBLICATION_DATE (of the news)\n",
    "- URL (of the news)\n",
    "\n",
    "Note: all of those fields are provided in the yfinance news component. Refer to the library documentation."
   ]
  },
  {
   "cell_type": "code",
   "execution_count": 7,
   "id": "fdb2faf1",
   "metadata": {},
   "outputs": [],
   "source": [
    "# YOUR CODE HERE\n",
    "# USE AS MANY CELLS AS YOU NEED\n",
    "# MAKE SURE TO DISPLAY INTERMEDIARY RESULS\n",
    "\n",
    "# Initialize an empty list to store structured news entries\n",
    "news_data = []\n",
    "\n",
    "# Loop through each ticker and its associated news list\n",
    "for ticker, news_items in ticker_news_dict.items():\n",
    "    for item in news_items:\n",
    "        content = item.get(\"content\", {})\n",
    "        if isinstance(content, dict):  # Some may be malformed\n",
    "            news_data.append({\n",
    "                \"TICKER\": ticker,\n",
    "                \"TITLE\": content.get(\"title\"),\n",
    "                \"SUMMARY\": content.get(\"summary\"),\n",
    "                \"PUBLICATION_DATE\": pd.to_datetime(content.get(\"pubDate\")),\n",
    "                \"URL\": content.get(\"canonicalUrl\", {}).get(\"url\")\n",
    "            })"
   ]
  },
  {
   "cell_type": "code",
   "execution_count": 8,
   "id": "5d55a0bf",
   "metadata": {},
   "outputs": [
    {
     "name": "stdout",
     "output_type": "stream",
     "text": [
      "Sample news_data entry:\n",
      "--------------------------------------------------\n",
      "TICKER: MMM\n",
      "TITLE: UBS Affirms ‘Buy’ Stance on 3M Co (MMM) as Q2 Results Impress on Organic Growth\n",
      "SUMMARY: 3M Company (NYSE:MMM) is one of the defensive stocks billionaires are buying amid US trade tariff uncertainty. On July 21, UBS reiterated a ‘Buy’ rating on the stock and a $184 price target. The positive stance stems from the company delivering better-than-expected second-quarter results, as it also increased its full-year earnings per share guidance. The […]\n",
      "PUBLICATION_DATE: 2025-07-31 04:23:44+00:00\n",
      "URL: https://finance.yahoo.com/news/ubs-affirms-buy-stance-3m-042344680.html\n"
     ]
    }
   ],
   "source": [
    "print(\"Sample news_data entry:\")\n",
    "print(\"-\" * 50)\n",
    "for k, v in news_data[0].items():\n",
    "    print(f\"{k}: {v}\")"
   ]
  },
  {
   "cell_type": "code",
   "execution_count": 9,
   "id": "58840239",
   "metadata": {},
   "outputs": [
    {
     "name": "stdout",
     "output_type": "stream",
     "text": [
      "Total news articles collected: 5020\n",
      "--------------------------------------------------\n"
     ]
    },
    {
     "data": {
      "text/html": [
       "<div>\n",
       "<style scoped>\n",
       "    .dataframe tbody tr th:only-of-type {\n",
       "        vertical-align: middle;\n",
       "    }\n",
       "\n",
       "    .dataframe tbody tr th {\n",
       "        vertical-align: top;\n",
       "    }\n",
       "\n",
       "    .dataframe thead th {\n",
       "        text-align: right;\n",
       "    }\n",
       "</style>\n",
       "<table border=\"1\" class=\"dataframe\">\n",
       "  <thead>\n",
       "    <tr style=\"text-align: right;\">\n",
       "      <th></th>\n",
       "      <th>TICKER</th>\n",
       "      <th>TITLE</th>\n",
       "      <th>SUMMARY</th>\n",
       "      <th>PUBLICATION_DATE</th>\n",
       "      <th>URL</th>\n",
       "    </tr>\n",
       "  </thead>\n",
       "  <tbody>\n",
       "    <tr>\n",
       "      <th>0</th>\n",
       "      <td>MMM</td>\n",
       "      <td>UBS Affirms ‘Buy’ Stance on 3M Co (MMM) as Q2 ...</td>\n",
       "      <td>3M Company (NYSE:MMM) is one of the defensive ...</td>\n",
       "      <td>2025-07-31 04:23:44+00:00</td>\n",
       "      <td>https://finance.yahoo.com/news/ubs-affirms-buy...</td>\n",
       "    </tr>\n",
       "    <tr>\n",
       "      <th>1</th>\n",
       "      <td>MMM</td>\n",
       "      <td>3M’s (MMM) Commitment to Innovation Drives Div...</td>\n",
       "      <td>3M Company (NYSE:MMM) is included among the 11...</td>\n",
       "      <td>2025-07-30 17:18:30+00:00</td>\n",
       "      <td>https://finance.yahoo.com/news/3m-mmm-commitme...</td>\n",
       "    </tr>\n",
       "    <tr>\n",
       "      <th>2</th>\n",
       "      <td>MMM</td>\n",
       "      <td>Industrial sector outperformance: 3 themes to ...</td>\n",
       "      <td>The industrial sector (XLI) has outperformed t...</td>\n",
       "      <td>2025-07-29 20:54:55+00:00</td>\n",
       "      <td>https://finance.yahoo.com/video/industrial-sec...</td>\n",
       "    </tr>\n",
       "    <tr>\n",
       "      <th>3</th>\n",
       "      <td>MMM</td>\n",
       "      <td>Why Investors Need to Take Advantage of These ...</td>\n",
       "      <td>Finding stocks expected to beat quarterly earn...</td>\n",
       "      <td>2025-07-29 13:00:02+00:00</td>\n",
       "      <td>https://finance.yahoo.com/news/why-investors-a...</td>\n",
       "    </tr>\n",
       "    <tr>\n",
       "      <th>4</th>\n",
       "      <td>MMM</td>\n",
       "      <td>3M Company (MMM): “I Was Surprised” By The Org...</td>\n",
       "      <td>We recently published 12 Stocks Jim Cramer Tal...</td>\n",
       "      <td>2025-07-24 09:03:00+00:00</td>\n",
       "      <td>https://finance.yahoo.com/news/3m-company-mmm-...</td>\n",
       "    </tr>\n",
       "  </tbody>\n",
       "</table>\n",
       "</div>"
      ],
      "text/plain": [
       "  TICKER                                              TITLE  \\\n",
       "0    MMM  UBS Affirms ‘Buy’ Stance on 3M Co (MMM) as Q2 ...   \n",
       "1    MMM  3M’s (MMM) Commitment to Innovation Drives Div...   \n",
       "2    MMM  Industrial sector outperformance: 3 themes to ...   \n",
       "3    MMM  Why Investors Need to Take Advantage of These ...   \n",
       "4    MMM  3M Company (MMM): “I Was Surprised” By The Org...   \n",
       "\n",
       "                                             SUMMARY  \\\n",
       "0  3M Company (NYSE:MMM) is one of the defensive ...   \n",
       "1  3M Company (NYSE:MMM) is included among the 11...   \n",
       "2  The industrial sector (XLI) has outperformed t...   \n",
       "3  Finding stocks expected to beat quarterly earn...   \n",
       "4  We recently published 12 Stocks Jim Cramer Tal...   \n",
       "\n",
       "           PUBLICATION_DATE                                                URL  \n",
       "0 2025-07-31 04:23:44+00:00  https://finance.yahoo.com/news/ubs-affirms-buy...  \n",
       "1 2025-07-30 17:18:30+00:00  https://finance.yahoo.com/news/3m-mmm-commitme...  \n",
       "2 2025-07-29 20:54:55+00:00  https://finance.yahoo.com/video/industrial-sec...  \n",
       "3 2025-07-29 13:00:02+00:00  https://finance.yahoo.com/news/why-investors-a...  \n",
       "4 2025-07-24 09:03:00+00:00  https://finance.yahoo.com/news/3m-company-mmm-...  "
      ]
     },
     "metadata": {},
     "output_type": "display_data"
    }
   ],
   "source": [
    "# Convert list of dictionaries into a DataFrame\n",
    "df_news = pd.DataFrame(news_data)\n",
    "\n",
    "# Display basic info\n",
    "print(f\"Total news articles collected: {len(df_news)}\")\n",
    "print(\"-\" * 50)\n",
    "display(df_news.head())"
   ]
  },
  {
   "cell_type": "markdown",
   "id": "c7d157a8",
   "metadata": {},
   "source": [
    "## Exploring text embeddings\n",
    "\n",
    "- Use the open-source model: 'sentence-transformers/all-MiniLM-L6-v2' to create embeddings on the news title and summary\n",
    "- Add a column to your news dataframe called EMBEDDED_TEXT using ONLY the TITLE of the news\n",
    "- Add a column to your news dataframe called EMBEDDINGS, which contains the embedding of EMBEDDED_TEXT"
   ]
  },
  {
   "cell_type": "code",
   "execution_count": 10,
   "id": "46bd99fb",
   "metadata": {},
   "outputs": [
    {
     "data": {
      "application/vnd.jupyter.widget-view+json": {
       "model_id": "333876380a30442f9405446bc38339e4",
       "version_major": 2,
       "version_minor": 0
      },
      "text/plain": [
       "Batches:   0%|          | 0/157 [00:00<?, ?it/s]"
      ]
     },
     "metadata": {},
     "output_type": "display_data"
    }
   ],
   "source": [
    "# YOUR CODE HERE\n",
    "# USE AS MANY CELLS AS YOU NEED\n",
    "# MAKE SURE TO DISPLAY INTERMEDIARY RESULS\n",
    "\n",
    "# Load the model\n",
    "model = SentenceTransformer('sentence-transformers/all-MiniLM-L6-v2')\n",
    "\n",
    "# Add 'EMBEDDED_TEXT' column using only the TITLE of the news\n",
    "df_news['EMBEDDED_TEXT'] = df_news['TITLE']\n",
    "\n",
    "# Add 'EMBEDDINGS' column with embeddings of 'EMBEDDED_TEXT'\n",
    "embeddings = model.encode(df_news['EMBEDDED_TEXT'].tolist(), show_progress_bar=True)\n",
    "df_news['EMBEDDINGS'] = embeddings.tolist()"
   ]
  },
  {
   "cell_type": "code",
   "execution_count": 11,
   "id": "fa78b460",
   "metadata": {},
   "outputs": [
    {
     "name": "stdout",
     "output_type": "stream",
     "text": [
      "Sample of new DataFrame:\n",
      "--------------------------------------------------\n"
     ]
    },
    {
     "data": {
      "text/html": [
       "<div>\n",
       "<style scoped>\n",
       "    .dataframe tbody tr th:only-of-type {\n",
       "        vertical-align: middle;\n",
       "    }\n",
       "\n",
       "    .dataframe tbody tr th {\n",
       "        vertical-align: top;\n",
       "    }\n",
       "\n",
       "    .dataframe thead th {\n",
       "        text-align: right;\n",
       "    }\n",
       "</style>\n",
       "<table border=\"1\" class=\"dataframe\">\n",
       "  <thead>\n",
       "    <tr style=\"text-align: right;\">\n",
       "      <th></th>\n",
       "      <th>TITLE</th>\n",
       "      <th>EMBEDDED_TEXT</th>\n",
       "      <th>EMBEDDINGS</th>\n",
       "    </tr>\n",
       "  </thead>\n",
       "  <tbody>\n",
       "    <tr>\n",
       "      <th>0</th>\n",
       "      <td>UBS Affirms ‘Buy’ Stance on 3M Co (MMM) as Q2 ...</td>\n",
       "      <td>UBS Affirms ‘Buy’ Stance on 3M Co (MMM) as Q2 ...</td>\n",
       "      <td>[-0.03539247438311577, -0.0387418307363987, -0...</td>\n",
       "    </tr>\n",
       "    <tr>\n",
       "      <th>1</th>\n",
       "      <td>3M’s (MMM) Commitment to Innovation Drives Div...</td>\n",
       "      <td>3M’s (MMM) Commitment to Innovation Drives Div...</td>\n",
       "      <td>[-0.003212510608136654, -0.09891524165868759, ...</td>\n",
       "    </tr>\n",
       "    <tr>\n",
       "      <th>2</th>\n",
       "      <td>Industrial sector outperformance: 3 themes to ...</td>\n",
       "      <td>Industrial sector outperformance: 3 themes to ...</td>\n",
       "      <td>[0.04115184023976326, -0.056558672338724136, -...</td>\n",
       "    </tr>\n",
       "    <tr>\n",
       "      <th>3</th>\n",
       "      <td>Why Investors Need to Take Advantage of These ...</td>\n",
       "      <td>Why Investors Need to Take Advantage of These ...</td>\n",
       "      <td>[0.01292478572577238, -0.074495829641819, 0.04...</td>\n",
       "    </tr>\n",
       "    <tr>\n",
       "      <th>4</th>\n",
       "      <td>3M Company (MMM): “I Was Surprised” By The Org...</td>\n",
       "      <td>3M Company (MMM): “I Was Surprised” By The Org...</td>\n",
       "      <td>[0.006455391179770231, -0.10904762148857117, -...</td>\n",
       "    </tr>\n",
       "  </tbody>\n",
       "</table>\n",
       "</div>"
      ],
      "text/plain": [
       "                                               TITLE  \\\n",
       "0  UBS Affirms ‘Buy’ Stance on 3M Co (MMM) as Q2 ...   \n",
       "1  3M’s (MMM) Commitment to Innovation Drives Div...   \n",
       "2  Industrial sector outperformance: 3 themes to ...   \n",
       "3  Why Investors Need to Take Advantage of These ...   \n",
       "4  3M Company (MMM): “I Was Surprised” By The Org...   \n",
       "\n",
       "                                       EMBEDDED_TEXT  \\\n",
       "0  UBS Affirms ‘Buy’ Stance on 3M Co (MMM) as Q2 ...   \n",
       "1  3M’s (MMM) Commitment to Innovation Drives Div...   \n",
       "2  Industrial sector outperformance: 3 themes to ...   \n",
       "3  Why Investors Need to Take Advantage of These ...   \n",
       "4  3M Company (MMM): “I Was Surprised” By The Org...   \n",
       "\n",
       "                                          EMBEDDINGS  \n",
       "0  [-0.03539247438311577, -0.0387418307363987, -0...  \n",
       "1  [-0.003212510608136654, -0.09891524165868759, ...  \n",
       "2  [0.04115184023976326, -0.056558672338724136, -...  \n",
       "3  [0.01292478572577238, -0.074495829641819, 0.04...  \n",
       "4  [0.006455391179770231, -0.10904762148857117, -...  "
      ]
     },
     "metadata": {},
     "output_type": "display_data"
    }
   ],
   "source": [
    "print(\"Sample of new DataFrame:\")\n",
    "print(\"-\" * 50)\n",
    "display(df_news[[\"TITLE\", \"EMBEDDED_TEXT\", \"EMBEDDINGS\"]].head())"
   ]
  },
  {
   "cell_type": "markdown",
   "id": "17f0fada",
   "metadata": {},
   "source": [
    "## Using K-means clustering on news embeddings\n",
    "to simplify, keep only one news for each company (ticker), you should have 500 rows in your news dataframe"
   ]
  },
  {
   "cell_type": "code",
   "execution_count": 12,
   "id": "78bf32c0",
   "metadata": {},
   "outputs": [
    {
     "name": "stdout",
     "output_type": "stream",
     "text": [
      "News entries after selecting one per ticker: 500\n",
      "--------------------------------------------------\n"
     ]
    },
    {
     "data": {
      "text/html": [
       "<div>\n",
       "<style scoped>\n",
       "    .dataframe tbody tr th:only-of-type {\n",
       "        vertical-align: middle;\n",
       "    }\n",
       "\n",
       "    .dataframe tbody tr th {\n",
       "        vertical-align: top;\n",
       "    }\n",
       "\n",
       "    .dataframe thead th {\n",
       "        text-align: right;\n",
       "    }\n",
       "</style>\n",
       "<table border=\"1\" class=\"dataframe\">\n",
       "  <thead>\n",
       "    <tr style=\"text-align: right;\">\n",
       "      <th></th>\n",
       "      <th>TICKER</th>\n",
       "      <th>TITLE</th>\n",
       "      <th>SUMMARY</th>\n",
       "      <th>PUBLICATION_DATE</th>\n",
       "      <th>URL</th>\n",
       "      <th>EMBEDDED_TEXT</th>\n",
       "      <th>EMBEDDINGS</th>\n",
       "    </tr>\n",
       "  </thead>\n",
       "  <tbody>\n",
       "    <tr>\n",
       "      <th>3156</th>\n",
       "      <td>MSFT</td>\n",
       "      <td>Confluent Stock Slides 30% After Q2 Results As...</td>\n",
       "      <td>Confluent stock tumbled late Wednesday despite...</td>\n",
       "      <td>2025-07-31 18:30:04+00:00</td>\n",
       "      <td>https://www.investors.com/news/technology/conf...</td>\n",
       "      <td>Confluent Stock Slides 30% After Q2 Results As...</td>\n",
       "      <td>[0.008171734400093555, -0.048720765858888626, ...</td>\n",
       "    </tr>\n",
       "    <tr>\n",
       "      <th>3096</th>\n",
       "      <td>META</td>\n",
       "      <td>QCOM: Qualcomm Stock Tumbles After Warning App...</td>\n",
       "      <td>Qualcomm Shares Under Pressure as Tariff Fears...</td>\n",
       "      <td>2025-07-31 18:29:58+00:00</td>\n",
       "      <td>https://finance.yahoo.com/news/qcom-qualcomm-s...</td>\n",
       "      <td>QCOM: Qualcomm Stock Tumbles After Warning App...</td>\n",
       "      <td>[-0.045019589364528656, 0.008790855295956135, ...</td>\n",
       "    </tr>\n",
       "    <tr>\n",
       "      <th>3930</th>\n",
       "      <td>REGN</td>\n",
       "      <td>Trump pressures 17 pharma CEOs to cut US drug ...</td>\n",
       "      <td>U.S. President Donald Trump sent letters to th...</td>\n",
       "      <td>2025-07-31 18:27:59+00:00</td>\n",
       "      <td>https://ca.finance.yahoo.com/news/trump-pressu...</td>\n",
       "      <td>Trump pressures 17 pharma CEOs to cut US drug ...</td>\n",
       "      <td>[0.05366816371679306, 0.03216208517551422, 0.0...</td>\n",
       "    </tr>\n",
       "    <tr>\n",
       "      <th>2630</th>\n",
       "      <td>JNJ</td>\n",
       "      <td>Trump pressures 17 pharma CEOs to cut US drug ...</td>\n",
       "      <td>U.S. President Donald Trump sent letters to th...</td>\n",
       "      <td>2025-07-31 18:27:59+00:00</td>\n",
       "      <td>https://ca.finance.yahoo.com/news/trump-pressu...</td>\n",
       "      <td>Trump pressures 17 pharma CEOs to cut US drug ...</td>\n",
       "      <td>[0.053668174892663956, 0.032162103801965714, 0...</td>\n",
       "    </tr>\n",
       "    <tr>\n",
       "      <th>3080</th>\n",
       "      <td>MRK</td>\n",
       "      <td>Trump pressures 17 pharma CEOs to cut US drug ...</td>\n",
       "      <td>U.S. President Donald Trump sent letters to th...</td>\n",
       "      <td>2025-07-31 18:27:59+00:00</td>\n",
       "      <td>https://ca.finance.yahoo.com/news/trump-pressu...</td>\n",
       "      <td>Trump pressures 17 pharma CEOs to cut US drug ...</td>\n",
       "      <td>[0.05366816371679306, 0.03216208517551422, 0.0...</td>\n",
       "    </tr>\n",
       "  </tbody>\n",
       "</table>\n",
       "</div>"
      ],
      "text/plain": [
       "     TICKER                                              TITLE  \\\n",
       "3156   MSFT  Confluent Stock Slides 30% After Q2 Results As...   \n",
       "3096   META  QCOM: Qualcomm Stock Tumbles After Warning App...   \n",
       "3930   REGN  Trump pressures 17 pharma CEOs to cut US drug ...   \n",
       "2630    JNJ  Trump pressures 17 pharma CEOs to cut US drug ...   \n",
       "3080    MRK  Trump pressures 17 pharma CEOs to cut US drug ...   \n",
       "\n",
       "                                                SUMMARY  \\\n",
       "3156  Confluent stock tumbled late Wednesday despite...   \n",
       "3096  Qualcomm Shares Under Pressure as Tariff Fears...   \n",
       "3930  U.S. President Donald Trump sent letters to th...   \n",
       "2630  U.S. President Donald Trump sent letters to th...   \n",
       "3080  U.S. President Donald Trump sent letters to th...   \n",
       "\n",
       "              PUBLICATION_DATE  \\\n",
       "3156 2025-07-31 18:30:04+00:00   \n",
       "3096 2025-07-31 18:29:58+00:00   \n",
       "3930 2025-07-31 18:27:59+00:00   \n",
       "2630 2025-07-31 18:27:59+00:00   \n",
       "3080 2025-07-31 18:27:59+00:00   \n",
       "\n",
       "                                                    URL  \\\n",
       "3156  https://www.investors.com/news/technology/conf...   \n",
       "3096  https://finance.yahoo.com/news/qcom-qualcomm-s...   \n",
       "3930  https://ca.finance.yahoo.com/news/trump-pressu...   \n",
       "2630  https://ca.finance.yahoo.com/news/trump-pressu...   \n",
       "3080  https://ca.finance.yahoo.com/news/trump-pressu...   \n",
       "\n",
       "                                          EMBEDDED_TEXT  \\\n",
       "3156  Confluent Stock Slides 30% After Q2 Results As...   \n",
       "3096  QCOM: Qualcomm Stock Tumbles After Warning App...   \n",
       "3930  Trump pressures 17 pharma CEOs to cut US drug ...   \n",
       "2630  Trump pressures 17 pharma CEOs to cut US drug ...   \n",
       "3080  Trump pressures 17 pharma CEOs to cut US drug ...   \n",
       "\n",
       "                                             EMBEDDINGS  \n",
       "3156  [0.008171734400093555, -0.048720765858888626, ...  \n",
       "3096  [-0.045019589364528656, 0.008790855295956135, ...  \n",
       "3930  [0.05366816371679306, 0.03216208517551422, 0.0...  \n",
       "2630  [0.053668174892663956, 0.032162103801965714, 0...  \n",
       "3080  [0.05366816371679306, 0.03216208517551422, 0.0...  "
      ]
     },
     "metadata": {},
     "output_type": "display_data"
    }
   ],
   "source": [
    "# YOUR CODE HERE\n",
    "# USE AS MANY CELLS AS YOU NEED\n",
    "# MAKE SURE TO DISPLAY INTERMEDIARY RESULS\n",
    "\n",
    "# Keep only the first news per ticker\n",
    "df_unique_news = df_news.sort_values(by=\"PUBLICATION_DATE\", ascending=False).drop_duplicates(subset=\"TICKER\")\n",
    "\n",
    "# Ensure there are exactly 500\n",
    "df_unique_news = df_unique_news.head(500)\n",
    "\n",
    "print(f\"News entries after selecting one per ticker: {df_unique_news.shape[0]}\")\n",
    "print(\"-\" * 50)\n",
    "display(df_unique_news.head())"
   ]
  },
  {
   "cell_type": "markdown",
   "id": "b1cdc413",
   "metadata": {},
   "source": [
    "### Identify the number of clusters using the silhouette score\n",
    "\n",
    "- Using a for loop, do the clustering with different k values (number of clusters), test 1 to 6 clusters\n",
    "- Compute the silhouette score for every k value\n",
    "- Plot the silhouette score for different k values"
   ]
  },
  {
   "cell_type": "markdown",
   "id": "22bda120",
   "metadata": {},
   "source": [
    "#### Try different values of k and compute silhouette scores"
   ]
  },
  {
   "cell_type": "code",
   "execution_count": 13,
   "id": "e0ea69df",
   "metadata": {},
   "outputs": [
    {
     "name": "stdout",
     "output_type": "stream",
     "text": [
      "Calculating silhouette scores...\n",
      "--------------------------------------------------\n",
      "k=2 → Silhouette Score: 0.0504\n",
      "k=3 → Silhouette Score: 0.0508\n",
      "k=4 → Silhouette Score: 0.0332\n",
      "k=5 → Silhouette Score: 0.0400\n",
      "k=6 → Silhouette Score: 0.0253\n"
     ]
    },
    {
     "name": "stderr",
     "output_type": "stream",
     "text": [
      "huggingface/tokenizers: The current process just got forked, after parallelism has already been used. Disabling parallelism to avoid deadlocks...\n",
      "To disable this warning, you can either:\n",
      "\t- Avoid using `tokenizers` before the fork if possible\n",
      "\t- Explicitly set the environment variable TOKENIZERS_PARALLELISM=(true | false)\n"
     ]
    }
   ],
   "source": [
    "# YOUR CODE HERE\n",
    "# USE AS MANY CELLS AS YOU NEED\n",
    "# MAKE SURE TO DISPLAY INTERMEDIARY RESULS\n",
    "\n",
    "# Prepare the feature matrix\n",
    "X = np.array(df_unique_news[\"EMBEDDINGS\"].tolist())\n",
    "\n",
    "# Try different values of k from 1 to 6 (excluding 1 for silhouette score)\n",
    "k_values = range(2, 7)\n",
    "silhouette_scores = []\n",
    "\n",
    "print(\"Calculating silhouette scores...\")\n",
    "print(\"-\" * 50)\n",
    "for k in k_values:\n",
    "    kmeans = KMeans(n_clusters=k, random_state=42)\n",
    "    labels = kmeans.fit_predict(X)\n",
    "    score = silhouette_score(X, labels)\n",
    "    silhouette_scores.append(score)\n",
    "    print(f\"k={k} → Silhouette Score: {score:.4f}\")"
   ]
  },
  {
   "cell_type": "markdown",
   "id": "41da4eae",
   "metadata": {},
   "source": [
    "#### Plot silhouette scores"
   ]
  },
  {
   "cell_type": "code",
   "execution_count": 14,
   "id": "99798590",
   "metadata": {},
   "outputs": [
    {
     "data": {
      "image/png": "[encoded data removed]",
      "text/plain": [
       "<Figure size 800x500 with 1 Axes>"
      ]
     },
     "metadata": {},
     "output_type": "display_data"
    }
   ],
   "source": [
    "# YOUR CODE HERE\n",
    "# USE AS MANY CELLS AS YOU NEED\n",
    "# MAKE SURE TO DISPLAY INTERMEDIARY RESULS\n",
    "\n",
    "plt.figure(figsize=(8, 5))\n",
    "plt.plot(k_values, silhouette_scores, marker='o')\n",
    "plt.title(\"Silhouette Scores for KMeans Clustering\")\n",
    "plt.xlabel(\"Number of Clusters (k)\")\n",
    "plt.ylabel(\"Silhouette Score\")\n",
    "plt.grid(True)\n",
    "plt.show()"
   ]
  },
  {
   "cell_type": "markdown",
   "id": "d311d914",
   "metadata": {},
   "source": [
    "#### Identify the Best k"
   ]
  },
  {
   "cell_type": "code",
   "execution_count": 15,
   "id": "34e71c10",
   "metadata": {},
   "outputs": [
    {
     "name": "stdout",
     "output_type": "stream",
     "text": [
      "Best number of clusters based on silhouette score: k=3\n"
     ]
    }
   ],
   "source": [
    "# YOUR CODE HERE\n",
    "# USE AS MANY CELLS AS YOU NEED\n",
    "# MAKE SURE TO DISPLAY INTERMEDIARY RESULS\n",
    "\n",
    "best_k = k_values[np.argmax(silhouette_scores)]\n",
    "print(f\"Best number of clusters based on silhouette score: k={best_k}\")"
   ]
  },
  {
   "cell_type": "markdown",
   "id": "07115a68",
   "metadata": {},
   "source": [
    "#### Cluster the embeddings using 3 clusters (k=3)"
   ]
  },
  {
   "cell_type": "code",
   "execution_count": 16,
   "id": "3bbae044",
   "metadata": {},
   "outputs": [
    {
     "data": {
      "text/html": [
       "<div>\n",
       "<style scoped>\n",
       "    .dataframe tbody tr th:only-of-type {\n",
       "        vertical-align: middle;\n",
       "    }\n",
       "\n",
       "    .dataframe tbody tr th {\n",
       "        vertical-align: top;\n",
       "    }\n",
       "\n",
       "    .dataframe thead th {\n",
       "        text-align: right;\n",
       "    }\n",
       "</style>\n",
       "<table border=\"1\" class=\"dataframe\">\n",
       "  <thead>\n",
       "    <tr style=\"text-align: right;\">\n",
       "      <th></th>\n",
       "      <th>TICKER</th>\n",
       "      <th>TITLE</th>\n",
       "      <th>CLUSTER</th>\n",
       "    </tr>\n",
       "  </thead>\n",
       "  <tbody>\n",
       "    <tr>\n",
       "      <th>3156</th>\n",
       "      <td>MSFT</td>\n",
       "      <td>Confluent Stock Slides 30% After Q2 Results As...</td>\n",
       "      <td>1</td>\n",
       "    </tr>\n",
       "    <tr>\n",
       "      <th>3096</th>\n",
       "      <td>META</td>\n",
       "      <td>QCOM: Qualcomm Stock Tumbles After Warning App...</td>\n",
       "      <td>2</td>\n",
       "    </tr>\n",
       "    <tr>\n",
       "      <th>3930</th>\n",
       "      <td>REGN</td>\n",
       "      <td>Trump pressures 17 pharma CEOs to cut US drug ...</td>\n",
       "      <td>0</td>\n",
       "    </tr>\n",
       "    <tr>\n",
       "      <th>2630</th>\n",
       "      <td>JNJ</td>\n",
       "      <td>Trump pressures 17 pharma CEOs to cut US drug ...</td>\n",
       "      <td>0</td>\n",
       "    </tr>\n",
       "    <tr>\n",
       "      <th>3080</th>\n",
       "      <td>MRK</td>\n",
       "      <td>Trump pressures 17 pharma CEOs to cut US drug ...</td>\n",
       "      <td>0</td>\n",
       "    </tr>\n",
       "    <tr>\n",
       "      <th>2860</th>\n",
       "      <td>LLY</td>\n",
       "      <td>Trump pressures 17 pharma CEOs to cut US drug ...</td>\n",
       "      <td>0</td>\n",
       "    </tr>\n",
       "    <tr>\n",
       "      <th>4380</th>\n",
       "      <td>TSLA</td>\n",
       "      <td>Trump's Trade Blitz Shocks Markets as Dollar S...</td>\n",
       "      <td>0</td>\n",
       "    </tr>\n",
       "    <tr>\n",
       "      <th>2370</th>\n",
       "      <td>HUBB</td>\n",
       "      <td>We Like Hubbell's (NYSE:HUBB) Returns And Here...</td>\n",
       "      <td>2</td>\n",
       "    </tr>\n",
       "    <tr>\n",
       "      <th>190</th>\n",
       "      <td>GOOGL</td>\n",
       "      <td>How Trump's 'One Big Beautiful Bill' may fuel ...</td>\n",
       "      <td>0</td>\n",
       "    </tr>\n",
       "    <tr>\n",
       "      <th>200</th>\n",
       "      <td>GOOG</td>\n",
       "      <td>How Trump's 'One Big Beautiful Bill' may fuel ...</td>\n",
       "      <td>0</td>\n",
       "    </tr>\n",
       "  </tbody>\n",
       "</table>\n",
       "</div>"
      ],
      "text/plain": [
       "     TICKER                                              TITLE  CLUSTER\n",
       "3156   MSFT  Confluent Stock Slides 30% After Q2 Results As...        1\n",
       "3096   META  QCOM: Qualcomm Stock Tumbles After Warning App...        2\n",
       "3930   REGN  Trump pressures 17 pharma CEOs to cut US drug ...        0\n",
       "2630    JNJ  Trump pressures 17 pharma CEOs to cut US drug ...        0\n",
       "3080    MRK  Trump pressures 17 pharma CEOs to cut US drug ...        0\n",
       "2860    LLY  Trump pressures 17 pharma CEOs to cut US drug ...        0\n",
       "4380   TSLA  Trump's Trade Blitz Shocks Markets as Dollar S...        0\n",
       "2370   HUBB  We Like Hubbell's (NYSE:HUBB) Returns And Here...        2\n",
       "190   GOOGL  How Trump's 'One Big Beautiful Bill' may fuel ...        0\n",
       "200    GOOG  How Trump's 'One Big Beautiful Bill' may fuel ...        0"
      ]
     },
     "metadata": {},
     "output_type": "display_data"
    }
   ],
   "source": [
    "# YOUR CODE HERE\n",
    "# USE AS MANY CELLS AS YOU NEED\n",
    "# MAKE SURE TO DISPLAY INTERMEDIARY RESULS\n",
    "\n",
    "kmeans_final = KMeans(n_clusters=3, random_state=42, n_init='auto')\n",
    "df_unique_news[\"CLUSTER\"] = kmeans_final.fit_predict(X)\n",
    "display(df_unique_news[[\"TICKER\", \"TITLE\", \"CLUSTER\"]].head(10))"
   ]
  },
  {
   "cell_type": "markdown",
   "id": "c4920b80",
   "metadata": {},
   "source": [
    "### Visualize the 2 first PCA Components of your embeddings"
   ]
  },
  {
   "cell_type": "code",
   "execution_count": 17,
   "id": "5e600ab9",
   "metadata": {},
   "outputs": [
    {
     "data": {
      "image/png": "[encoded data removed]",
      "text/plain": [
       "<Figure size 1000x600 with 1 Axes>"
      ]
     },
     "metadata": {},
     "output_type": "display_data"
    }
   ],
   "source": [
    "# YOUR CODE HERE\n",
    "# USE AS MANY CELLS AS YOU NEED\n",
    "# MAKE SURE TO DISPLAY INTERMEDIARY RESULS\n",
    "\n",
    "# Reduce to 2 components using PCA\n",
    "pca = PCA(n_components=2, random_state=42)\n",
    "X_pca = pca.fit_transform(X)\n",
    "\n",
    "# Add PCA components to the DataFrame for plotting\n",
    "df_unique_news[\"PCA_1\"] = X_pca[:, 0]\n",
    "df_unique_news[\"PCA_2\"] = X_pca[:, 1]\n",
    "\n",
    "# Plot PCA-reduced embeddings\n",
    "plt.figure(figsize=(10, 6))\n",
    "plt.scatter(df_unique_news[\"PCA_1\"], df_unique_news[\"PCA_2\"], alpha=0.7, s=30, c='skyblue', edgecolor='k')\n",
    "plt.title(\"PCA Projection of News Embeddings (2D)\")\n",
    "plt.xlabel(\"Principal Component 1\")\n",
    "plt.ylabel(\"Principal Component 2\")\n",
    "plt.grid(True)\n",
    "plt.tight_layout()\n",
    "plt.show()"
   ]
  },
  {
   "cell_type": "markdown",
   "id": "f2ecceb2",
   "metadata": {},
   "source": [
    "The PCA (Principal Component Analysis) plot provides a 2D visualization of high-dimensional news embeddings. By projecting the original embedding vectors into two principal components, we can gain intuition about the distribution and potential separability of semantic structures in the news data. Here's what the results suggest:\n",
    "\n",
    "* **No clearly separable clusters**: The points appear diffusely distributed across the plot, without obvious, compact groupings. This indicates that the semantic content of news headlines across different companies is varied and overlapping.\n",
    "\n",
    "* **High overlap between embeddings**: The overlapping points suggest that many headlines, even from different companies, share similar themes or vocabulary (especially common in financial markets where macroeconomic news affects multiple stocks).\n",
    "\n",
    "* **Limitations of PCA**: PCA is a linear dimensionality reduction technique and may not fully capture the complex non-linear relationships in semantic embeddings. Important structures could be obscured or flattened in this 2D space.\n",
    "\n",
    "> REFERENCES:\n",
    "\n",
    "* https://scikit-learn.org/stable/modules/generated/sklearn.decomposition.PCA.html\n",
    "* https://www.geeksforgeeks.org/data-analysis/principal-component-analysis-pca/"
   ]
  },
  {
   "cell_type": "code",
   "execution_count": 18,
   "id": "93f48827",
   "metadata": {},
   "outputs": [
    {
     "data": {
      "image/png": "[encoded data removed]",
      "text/plain": [
       "<Figure size 1000x600 with 1 Axes>"
      ]
     },
     "metadata": {},
     "output_type": "display_data"
    }
   ],
   "source": [
    "# Number of unique clusters\n",
    "unique_clusters = df_unique_news[\"CLUSTER\"].unique()\n",
    "num_clusters = len(unique_clusters)\n",
    "\n",
    "# Create a colormap using the new recommended method\n",
    "cluster_to_index = {cluster: i for i, cluster in enumerate(unique_clusters)}\n",
    "colors = plt.colormaps['tab10'](np.linspace(0, 1, num_clusters)) # This creates an array of colors\n",
    "\n",
    "# Plot PCA with cluster coloring\n",
    "plt.figure(figsize=(10, 6))\n",
    "\n",
    "for cluster in unique_clusters:\n",
    "    subset = df_unique_news[df_unique_news[\"CLUSTER\"] == cluster]\n",
    "    \n",
    "    # Get the color based on the mapped index\n",
    "    color_to_use = colors[cluster_to_index[cluster]] \n",
    "\n",
    "    plt.scatter(\n",
    "        subset[\"PCA_1\"],\n",
    "        subset[\"PCA_2\"],\n",
    "        s=40,\n",
    "        alpha=0.7,\n",
    "        label=f\"Cluster {cluster}\",\n",
    "        color=color_to_use # Use the color obtained from the array\n",
    "    )\n",
    "\n",
    "plt.title(\"PCA Projection of News Embeddings by Cluster\")\n",
    "plt.xlabel(\"Principal Component 1\")\n",
    "plt.ylabel(\"Principal Component 2\")\n",
    "plt.legend(title=\"Clusters\")\n",
    "plt.grid(True)\n",
    "plt.tight_layout()\n",
    "plt.show()"
   ]
  },
  {
   "cell_type": "markdown",
   "id": "e7e00b12",
   "metadata": {},
   "source": [
    "In the initial PCA projection without color coding, the data appeared densely scattered, offering little insight into potential groupings or underlying semantic patterns. However, once color is introduced based on cluster assignments, previously hidden structures emerge clearly. This highlights the critical role of visual encoding (specifically, color) in revealing separable regions within the high-dimensional embedding space.\n",
    "\n",
    "Color not only enhances interpretability but also validates that the clustering algorithm is capturing meaningful distinctions. What appeared as a uniform cloud of points can now be interpreted as distinct semantic regions, each potentially linked to different themes, tones, or market implications. This transition from an unstructured to a structured view exemplifies how proper visual encoding transforms raw data into actionable insights. \n",
    "\n",
    "Key observations include:\n",
    "\n",
    "* *Semantic Cohesion Within Clusters*: The clusters appear reasonably well-separated in the 2D PCA space, particularly between Cluster 0 and Cluster 2, suggesting that the KMeans algorithm captured meaningful distinctions in news content. This supports the presence of latent topics or sentiment patterns that differentiate groups of companies.\n",
    "\n",
    "* *Balanced Distribution Across Clusters*: Each cluster contains a comparable number of data points, reducing concerns about imbalance and indicating that diverse semantic patterns are present across S&P 500 companies.\n",
    "\n",
    "* *Potential for Sectoral or Sentiment Analysis*: If we enrich the dataset with sector metadata or sentiment scores, we could further validate whether certain clusters correspond to specific industries (e.g., tech vs. healthcare) or sentiment polarity (positive vs. negative). This would enhance the interpretability and downstream usability of the clustering."
   ]
  },
  {
   "cell_type": "markdown",
   "id": "6b0dae3d",
   "metadata": {},
   "source": [
    "#### Analyze the content of each cluster\n",
    "- Add the kmeans cluster label to your news dataframe\n",
    "- Print the content of each cluster and analyze it"
   ]
  },
  {
   "cell_type": "code",
   "execution_count": 19,
   "id": "3e6719b8",
   "metadata": {},
   "outputs": [
    {
     "name": "stdout",
     "output_type": "stream",
     "text": [
      "Number of news articles per cluster:\n",
      "--------------------------------------------------\n",
      "CLUSTER\n",
      "1    218\n",
      "0    149\n",
      "2    133\n",
      "Name: count, dtype: int64\n",
      "--------------------------------------------------\n"
     ]
    },
    {
     "data": {
      "text/html": [
       "<div>\n",
       "<style scoped>\n",
       "    .dataframe tbody tr th:only-of-type {\n",
       "        vertical-align: middle;\n",
       "    }\n",
       "\n",
       "    .dataframe tbody tr th {\n",
       "        vertical-align: top;\n",
       "    }\n",
       "\n",
       "    .dataframe thead th {\n",
       "        text-align: right;\n",
       "    }\n",
       "</style>\n",
       "<table border=\"1\" class=\"dataframe\">\n",
       "  <thead>\n",
       "    <tr style=\"text-align: right;\">\n",
       "      <th></th>\n",
       "      <th>TICKER</th>\n",
       "      <th>TITLE</th>\n",
       "      <th>SUMMARY</th>\n",
       "      <th>PUBLICATION_DATE</th>\n",
       "      <th>URL</th>\n",
       "      <th>EMBEDDED_TEXT</th>\n",
       "      <th>EMBEDDINGS</th>\n",
       "      <th>CLUSTER</th>\n",
       "      <th>PCA_1</th>\n",
       "      <th>PCA_2</th>\n",
       "    </tr>\n",
       "  </thead>\n",
       "  <tbody>\n",
       "    <tr>\n",
       "      <th>3156</th>\n",
       "      <td>MSFT</td>\n",
       "      <td>Confluent Stock Slides 30% After Q2 Results As...</td>\n",
       "      <td>Confluent stock tumbled late Wednesday despite...</td>\n",
       "      <td>2025-07-31 18:30:04+00:00</td>\n",
       "      <td>https://www.investors.com/news/technology/conf...</td>\n",
       "      <td>Confluent Stock Slides 30% After Q2 Results As...</td>\n",
       "      <td>[0.008171734400093555, -0.048720765858888626, ...</td>\n",
       "      <td>1</td>\n",
       "      <td>0.114008</td>\n",
       "      <td>0.046501</td>\n",
       "    </tr>\n",
       "    <tr>\n",
       "      <th>3096</th>\n",
       "      <td>META</td>\n",
       "      <td>QCOM: Qualcomm Stock Tumbles After Warning App...</td>\n",
       "      <td>Qualcomm Shares Under Pressure as Tariff Fears...</td>\n",
       "      <td>2025-07-31 18:29:58+00:00</td>\n",
       "      <td>https://finance.yahoo.com/news/qcom-qualcomm-s...</td>\n",
       "      <td>QCOM: Qualcomm Stock Tumbles After Warning App...</td>\n",
       "      <td>[-0.045019589364528656, 0.008790855295956135, ...</td>\n",
       "      <td>2</td>\n",
       "      <td>0.009039</td>\n",
       "      <td>0.128714</td>\n",
       "    </tr>\n",
       "    <tr>\n",
       "      <th>3930</th>\n",
       "      <td>REGN</td>\n",
       "      <td>Trump pressures 17 pharma CEOs to cut US drug ...</td>\n",
       "      <td>U.S. President Donald Trump sent letters to th...</td>\n",
       "      <td>2025-07-31 18:27:59+00:00</td>\n",
       "      <td>https://ca.finance.yahoo.com/news/trump-pressu...</td>\n",
       "      <td>Trump pressures 17 pharma CEOs to cut US drug ...</td>\n",
       "      <td>[0.05366816371679306, 0.03216208517551422, 0.0...</td>\n",
       "      <td>0</td>\n",
       "      <td>-0.266497</td>\n",
       "      <td>-0.324641</td>\n",
       "    </tr>\n",
       "    <tr>\n",
       "      <th>2630</th>\n",
       "      <td>JNJ</td>\n",
       "      <td>Trump pressures 17 pharma CEOs to cut US drug ...</td>\n",
       "      <td>U.S. President Donald Trump sent letters to th...</td>\n",
       "      <td>2025-07-31 18:27:59+00:00</td>\n",
       "      <td>https://ca.finance.yahoo.com/news/trump-pressu...</td>\n",
       "      <td>Trump pressures 17 pharma CEOs to cut US drug ...</td>\n",
       "      <td>[0.053668174892663956, 0.032162103801965714, 0...</td>\n",
       "      <td>0</td>\n",
       "      <td>-0.266497</td>\n",
       "      <td>-0.324641</td>\n",
       "    </tr>\n",
       "    <tr>\n",
       "      <th>3080</th>\n",
       "      <td>MRK</td>\n",
       "      <td>Trump pressures 17 pharma CEOs to cut US drug ...</td>\n",
       "      <td>U.S. President Donald Trump sent letters to th...</td>\n",
       "      <td>2025-07-31 18:27:59+00:00</td>\n",
       "      <td>https://ca.finance.yahoo.com/news/trump-pressu...</td>\n",
       "      <td>Trump pressures 17 pharma CEOs to cut US drug ...</td>\n",
       "      <td>[0.05366816371679306, 0.03216208517551422, 0.0...</td>\n",
       "      <td>0</td>\n",
       "      <td>-0.266497</td>\n",
       "      <td>-0.324641</td>\n",
       "    </tr>\n",
       "  </tbody>\n",
       "</table>\n",
       "</div>"
      ],
      "text/plain": [
       "     TICKER                                              TITLE  \\\n",
       "3156   MSFT  Confluent Stock Slides 30% After Q2 Results As...   \n",
       "3096   META  QCOM: Qualcomm Stock Tumbles After Warning App...   \n",
       "3930   REGN  Trump pressures 17 pharma CEOs to cut US drug ...   \n",
       "2630    JNJ  Trump pressures 17 pharma CEOs to cut US drug ...   \n",
       "3080    MRK  Trump pressures 17 pharma CEOs to cut US drug ...   \n",
       "\n",
       "                                                SUMMARY  \\\n",
       "3156  Confluent stock tumbled late Wednesday despite...   \n",
       "3096  Qualcomm Shares Under Pressure as Tariff Fears...   \n",
       "3930  U.S. President Donald Trump sent letters to th...   \n",
       "2630  U.S. President Donald Trump sent letters to th...   \n",
       "3080  U.S. President Donald Trump sent letters to th...   \n",
       "\n",
       "              PUBLICATION_DATE  \\\n",
       "3156 2025-07-31 18:30:04+00:00   \n",
       "3096 2025-07-31 18:29:58+00:00   \n",
       "3930 2025-07-31 18:27:59+00:00   \n",
       "2630 2025-07-31 18:27:59+00:00   \n",
       "3080 2025-07-31 18:27:59+00:00   \n",
       "\n",
       "                                                    URL  \\\n",
       "3156  https://www.investors.com/news/technology/conf...   \n",
       "3096  https://finance.yahoo.com/news/qcom-qualcomm-s...   \n",
       "3930  https://ca.finance.yahoo.com/news/trump-pressu...   \n",
       "2630  https://ca.finance.yahoo.com/news/trump-pressu...   \n",
       "3080  https://ca.finance.yahoo.com/news/trump-pressu...   \n",
       "\n",
       "                                          EMBEDDED_TEXT  \\\n",
       "3156  Confluent Stock Slides 30% After Q2 Results As...   \n",
       "3096  QCOM: Qualcomm Stock Tumbles After Warning App...   \n",
       "3930  Trump pressures 17 pharma CEOs to cut US drug ...   \n",
       "2630  Trump pressures 17 pharma CEOs to cut US drug ...   \n",
       "3080  Trump pressures 17 pharma CEOs to cut US drug ...   \n",
       "\n",
       "                                             EMBEDDINGS  CLUSTER     PCA_1  \\\n",
       "3156  [0.008171734400093555, -0.048720765858888626, ...        1  0.114008   \n",
       "3096  [-0.045019589364528656, 0.008790855295956135, ...        2  0.009039   \n",
       "3930  [0.05366816371679306, 0.03216208517551422, 0.0...        0 -0.266497   \n",
       "2630  [0.053668174892663956, 0.032162103801965714, 0...        0 -0.266497   \n",
       "3080  [0.05366816371679306, 0.03216208517551422, 0.0...        0 -0.266497   \n",
       "\n",
       "         PCA_2  \n",
       "3156  0.046501  \n",
       "3096  0.128714  \n",
       "3930 -0.324641  \n",
       "2630 -0.324641  \n",
       "3080 -0.324641  "
      ]
     },
     "metadata": {},
     "output_type": "display_data"
    }
   ],
   "source": [
    "# YOUR CODE HERE\n",
    "# USE AS MANY CELLS AS YOU NEED\n",
    "# MAKE SURE TO DISPLAY INTERMEDIARY RESULS\n",
    "\n",
    "df_unique_news[\"CLUSTER\"] = kmeans_final.labels_\n",
    "\n",
    "# Show distribution of news per cluster\n",
    "print(\"Number of news articles per cluster:\")\n",
    "print(\"-\" * 50)\n",
    "print(df_unique_news[\"CLUSTER\"].value_counts())\n",
    "print(\"-\" * 50)\n",
    "display(df_unique_news.head())"
   ]
  },
  {
   "cell_type": "code",
   "execution_count": 20,
   "id": "f9067c35",
   "metadata": {},
   "outputs": [
    {
     "name": "stdout",
     "output_type": "stream",
     "text": [
      "\n",
      "Cluster 0 — Sample News Titles\n",
      "--------------------------------------------------\n",
      "- Can ZYN and IQOS Sustain Philip Morris' Smoke-Free Surge?\n",
      "- NewPrinces’ move for Carrefour’s Italy stores stuns food sector\n",
      "- Is AI causing tech worker layoffs? That's what CEOs suggest, but the reality is complicated\n",
      "- AT&T to dual list on NYSE Texas in latest win for new exchange\n",
      "- Teradyne upgraded by Morgan Stanley on Nvidia optimism\n",
      "\n",
      "Cluster 1 — Sample News Titles\n",
      "--------------------------------------------------\n",
      "- Earnings Preview: Microchip Technology (MCHP) Q1 Earnings Expected to Decline\n",
      "- Earnings Preview: What to Expect From News Corporation's Report\n",
      "- Seagate Technology Holdings Full Year 2025 Earnings: EPS Beats Expectations\n",
      "- IR Gears Up to Post Q2 Earnings: What Lies Ahead for the Stock?\n",
      "- Masco Q2 Earnings and Sales Surpass Estimates, Stock Up\n",
      "\n",
      "Cluster 2 — Sample News Titles\n",
      "--------------------------------------------------\n",
      "- The Best Stocks to Invest $50,000 in Right Now\n",
      "- Old Dominion (ODFL) Drops on 4th Day as Earnings Disappoint\n",
      "- IBD Stock Of The Day, Snowflake, On Artificial Intelligence Fast Track\n",
      "- Will Palomar Holdings Pull Off a Surprise This Earnings Season?\n",
      "- Why Medtronic (MDT) is One of the Most Trusted Safe Dividend Stocks in Healthcare\n"
     ]
    }
   ],
   "source": [
    "# Print sample news from each cluster\n",
    "for cluster_id in sorted(df_unique_news[\"CLUSTER\"].unique()):\n",
    "    print(f\"\\nCluster {cluster_id} — Sample News Titles\")\n",
    "    print(\"-\" * 50)\n",
    "    cluster_sample = df_unique_news[df_unique_news[\"CLUSTER\"] == cluster_id].sample(5, random_state=42)\n",
    "    for title in cluster_sample[\"TITLE\"]:\n",
    "        print(f\"- {title}\")"
   ]
  },
  {
   "cell_type": "markdown",
   "id": "3a9bea47",
   "metadata": {},
   "source": [
    "After performing K-Means clustering on the embedded news headlines from S&P 500 companies, a clear thematic segmentation emerged across the three identified clusters. Each cluster represents a distinct category of financial news, which can be interpreted through the lens of content type, subject matter, and relevance to investors.\n",
    "\n",
    "* **Cluster 0**: Primarily captures news articles that revolve around corporate developments, product approvals, and industry trends. These pieces are typically informational in nature and not directly tied to quarterly financial disclosures. This cluster can be interpreted as reflecting strategic corporate actions and general market commentary.\n",
    "\n",
    "* **Cluster 1**: Cluster tightly centered around corporate earnings and financial performance reporting. News items in this group repeatedly reference earnings calls, Q2 results, revenue metrics, and investor expectations. It is thus best characterized as performance-oriented financial disclosure, offering high informational value for analysts and investors focused on short-term corporate outcomes.\n",
    "\n",
    "* **Cluster 2**: Represents content related to investment strategy and market positioning. Articles in this group highlight topics such as stock inclusion in indices (e.g., S&P 500), value stock analysis, dividend yield strategies, and short-selling opportunities. These are generally forward-looking and aimed at guiding investor behavior, reflecting tactical insights and stock selection frameworks commonly found in financial advisory narratives.\n",
    "\n",
    "The table below summarizes the key characteristics and dominant themes associated with each cluster:\n",
    "\n",
    "| Cluster | Focus Theme                       | Typical Content                                  |\n",
    "| ------- | --------------------------------- | ------------------------------------------------ |\n",
    "| 0       | Business developments             | Product launches, industry news, general finance |\n",
    "| 1       | Earnings & performance reports    | Q2 earnings, financial statements, estimates     |\n",
    "| 2       | Investment strategy & stock picks | S\\&P changes, dividends, analyst insights        |"
   ]
  },
  {
   "cell_type": "markdown",
   "id": "cd5a958c",
   "metadata": {},
   "source": [
    "## NEW - Question section\n",
    "Take time to reflect on what you've implemented and observed. Answer the following questions in a separate markdown cell or notebook file:"
   ]
  },
  {
   "cell_type": "markdown",
   "id": "4eb45342",
   "metadata": {},
   "source": [
    "### Technical Understanding"
   ]
  },
  {
   "cell_type": "markdown",
   "id": "84576083",
   "metadata": {},
   "source": [
    "#### 1️⃣ How might the choice of embedding model (e.g., MiniLM vs. a larger transformer) affect your clustering results and interpretation?"
   ]
  },
  {
   "cell_type": "markdown",
   "id": "a59160d1",
   "metadata": {},
   "source": [
    "**RESPONSE**:\n",
    "\n",
    "The choice of embedding model has a significant impact on the quality and interpretability of clustering results. In this project, we used MiniLM (a lightweight version of transformer-based models) to generate sentence-level embeddings of financial news headlines. While this model offers excellent speed and efficiency, there are trade-offs that are important to consider:\n",
    "\n",
    "* *Semantic Granularity*: Larger transformer models like MPNet, RoBERTa-large, or FinBERT (finance-specific) generally capture richer contextual nuances, idiomatic language, and subtle sentiment shifts. As a result, their embeddings can produce more distinct and accurate clusters, especially when topic boundaries are subtle or overlapping.\n",
    "\n",
    "* *Dimensional Fidelity*: Larger models often produce higher-dimensional and denser vectors, which can preserve finer semantic relationships. In contrast, smaller models like MiniLM may oversimplify complex relationships, potentially leading to less coherent or noisier clusters.\n",
    "\n",
    "* *Loss of Domain Sensitivity*: MiniLM is not finance-specific. This could limit its ability to detect meaningful distinctions in specialized terminology (e.g., “EPS surprise,” “buyback,” “dividend hike”) compared to domain-trained models like FinBERT.\n",
    "\n",
    "* *Performance vs. Cost Tradeoff*: While larger models might improve interpretability, they are more resource-intensive in terms of memory and computation, which could hinder scalability in large pipelines or real-time applications.\n",
    "\n",
    "* *Explainability*: Smaller models often produce more “compact” semantic structures, which can make visualization (e.g., via PCA or t-SNE) more stable. Larger models, while more expressive, may introduce complexity that hampers intuitive interpretation of cluster boundaries.\n",
    "\n",
    "> REFERENCES\n",
    "\n",
    "* https://www.ibm.com/architectures/papers/rag-cookbook/embedding#:~:text=A%20larger%20embedding%20model%20typically,and%20is%20faster%20at%20runtime.\n",
    "* https://zilliz.com/ai-faq/what-are-the-tradeoffs-between-large-and-small-embedding-models\n",
    "* https://milvus.io/ai-quick-reference/what-are-the-tradeoffs-between-embedding-size-and-accuracy"
   ]
  },
  {
   "cell_type": "markdown",
   "id": "d1424f91",
   "metadata": {},
   "source": [
    "#### 2️⃣ What would be the differences in embeddings if you used only the TITLE, only the SUMMARY, or the combination of both? How could you empirically test this?"
   ]
  },
  {
   "cell_type": "markdown",
   "id": "5edb5f7d",
   "metadata": {},
   "source": [
    "**RESPONSE**:\n",
    "\n",
    "The choice of textual input (whether using only the TITLE, only the SUMMARY, or a combination of both) directly influences the quality and semantic depth of the resulting embeddings. These differences stem from variations in content richness, context length, and signal-to-noise ratio.\n",
    "\n",
    "> Expected differences in embeddings are:\n",
    "\n",
    "* TITLE Only:\n",
    "    * Titles are concise and often headline-grabbing.\n",
    "    * Embeddings from titles capture high-level themes but may lack nuance or supporting context.\n",
    "    * Risk: They may overrepresent attention-driven language (e.g., “surge,” “plunge”) while underrepresenting explanatory details.\n",
    "\n",
    "* SUMMARY Only:\n",
    "    * Summaries provide more context, including financial figures, company actions, and market reactions.\n",
    "    * Embeddings are typically richer in content and more stable, especially for clustering tasks.\n",
    "    * Risk: Longer summaries may introduce off-topic noise or verbosity.\n",
    "\n",
    "* TITLE + SUMMARY Combined:\n",
    "    * Merging both fields offers a balanced signal, capturing headline intent and detailed context.\n",
    "    * This is likely to produce higher-quality embeddings with better topic separation in downstream clustering.\n",
    "    * However, it increases input length, potentially affecting model performance for smaller architectures like MiniLM.\n",
    "\n",
    "> Empirical testing can be conducted by:\n",
    "\n",
    "1. *Generate Embeddings*: Create three separate embedding sets:\n",
    "   - Using only the TITLE.\n",
    "   - Using only the SUMMARY.\n",
    "   - Using a combination of both TITLE and SUMMARY.\n",
    "\n",
    "2. *Clustering*: Apply K-Means clustering to each embedding set independently.\n",
    "\n",
    "3. *Evaluate Clustering Quality*: Use metrics such as:\n",
    "   - *Silhouette Score*: Measures how similar an object is to its own cluster compared to other clusters.\n",
    "   - *Davies–Bouldin Index*: Assesses the average similarity between clusters (lower is better).\n",
    "   - *Intra-cluster Variance*: Lower variance indicates tighter clusters.\n",
    "\n",
    "4. *Qualitative Review*: Visualize clusters using PCA or t-SNE to assess how well-separated the clusters are and examine the coherence of news titles within the same cluster across input types."
   ]
  },
  {
   "cell_type": "markdown",
   "id": "d6c8244d",
   "metadata": {},
   "source": [
    "#### 3️⃣ In what situations would using a different dimensionality reduction method (e.g., t-SNE, UMAP) be preferable over PCA for visualization of embeddings?"
   ]
  },
  {
   "cell_type": "markdown",
   "id": "a38c50d7",
   "metadata": {},
   "source": [
    "**RESPONSE**:\n",
    "\n",
    "Dimensionality reduction is essential for visualizing high-dimensional embeddings like those generated from language models. While PCA (Principal Component Analysis) is widely used due to its speed and interpretability, alternative techniques such as t-SNE (t-distributed Stochastic Neighbor Embedding) and UMAP (Uniform Manifold Approximation and Projection) can offer significant advantages in specific contexts.\n",
    "\n",
    "Situations where t-SNE or UMAP may be preferable over PCA:\n",
    "\n",
    "* *Non-Linear Relationships*: PCA is a linear method and may fail to capture complex, non-linear patterns in the embedding space. t-SNE and UMAP, by contrast, are designed to preserve local and global structures even in the presence of non-linearity, making them more suitable for visualizing the rich semantic relationships encoded in language model embeddings.\n",
    "\n",
    "* *Cluster Discovery and Separation*: When the goal is to reveal or emphasize cluster boundaries, t-SNE and UMAP are generally superior. These methods tend to produce well-separated clusters in 2D or 3D space, which can help analysts identify coherent topics or groupings that are otherwise obscured in PCA plots.\n",
    "\n",
    "* *Manifold Preservation*: UMAP, in particular, is effective in preserving both local neighborhood structure and global topology, making it well-suited for datasets with intrinsic manifold geometry, such as semantic spaces derived from text.\n",
    "\n",
    "* *Exploratory Data Analysis*: For tasks involving qualitative assessment of embedding similarity (such as grouping news headlines by topic, tone, or sentiment), t-SNE and UMAP offer more visually interpretable layouts that better reflect human intuition of proximity.\n",
    "\n",
    "However, it's worth noting that:\n",
    "\n",
    "* t-SNE is computationally expensive and non-deterministic, and may distort global distances.\n",
    "\n",
    "* UMAP provides a better balance between local and global structure, is faster, and scales better, making it a common default for modern NLP embedding visualizations.\n",
    "\n",
    "Ultimately, PCA is ideal for quick, linear projections, while t-SNE and UMAP are better choices when uncovering semantic structure, clusters, or latent patterns in high-dimensional textual data is a priority.\n",
    "\n",
    "> REFERENCES\n",
    "\n",
    "* https://medium.com/@aastha.code/dimensionality-reduction-pca-t-sne-and-umap-41d499da2df2\n",
    "* https://carnotresearch.medium.com/understanding-dimensionality-reduction-pca-vs-t-sne-vs-umap-vs-fit-sne-vs-largevis-vs-laplacian-13d0be9ef7f4"
   ]
  },
  {
   "cell_type": "markdown",
   "id": "ec4c6cdb",
   "metadata": {},
   "source": [
    "### Data Analysis and Interpretation"
   ]
  },
  {
   "cell_type": "markdown",
   "id": "68a67278",
   "metadata": {},
   "source": [
    "#### 4️⃣ Based on your cluster analysis, identify at least two potential challenges you faced in interpreting the clusters and propose strategies to address them."
   ]
  },
  {
   "cell_type": "markdown",
   "id": "33d7b220",
   "metadata": {},
   "source": [
    "**RESPONSE**:\n",
    "\n",
    "The most relevant challenges and proposed strategies in the current cluster interpretation are:\n",
    "\n",
    "* *Challenge 1: Ambiguity in Cluster Semantics*\n",
    "\n",
    "    One of the primary challenges in interpreting clusters arises from the inherent ambiguity and multifunctionality of financial news headlines. Many headlines encapsulate multiple themes (such as earnings, strategic decisions, and market sentiment) within a single statement, making it difficult to assign a unique semantic label to a cluster.\n",
    "\n",
    "    * Proposed Strategy: To enhance thematic clarity, it is advisable to incorporate additional textual context beyond the headline. Combining the TITLE with the SUMMARY, or leveraging the full article snippet when available, can provide a richer semantic basis for clustering. Furthermore, employing topic modeling techniques (e.g., Latent Dirichlet Allocation) post-clustering can help identify dominant topics within each cluster and support interpretability.\n",
    "\n",
    "* *Challenge 2: Presence of Generic or Noisy Headlines*\n",
    "\n",
    "    Financial headlines frequently employ templated or sensational language (e.g., “Stocks to Watch”, “Market Surge”) that lacks specific informational value. Such generalized phrasing can introduce noise into the embedding space, leading to poor semantic separation and less coherent clusters.\n",
    "\n",
    "    * Proposed Strategy: Implement a preprocessing pipeline that filters out overly generic or formulaic headlines before embedding. Additionally, term-weighting schemes such as TF-IDF can be applied to de-emphasize commonly used, low-information words and highlight more distinctive terms, thereby improving clustering fidelity.\n",
    "\n",
    "* *Challenge 3: Limitations of General-Purpose Embedding Models*\n",
    "\n",
    "    While general-purpose models like MiniLM offer computational efficiency, they may fall short in capturing the nuanced terminology and contextual complexity characteristic of financial news. This includes industry-specific jargon, idiomatic expressions, and subtle sentiment cues.\n",
    "\n",
    "    * Proposed Strategy: Consider substituting or fine-tuning the embedding model using domain-specific alternatives such as FinBERT or financial variants of Sentence-BERT. These models, trained on finance-related corpora, are better suited to capture sector-specific semantics and can enhance the granularity and relevance of resulting clusters."
   ]
  },
  {
   "cell_type": "markdown",
   "id": "68ffca62",
   "metadata": {},
   "source": [
    "#### 5️⃣ Did you observe any outliers in your 2D visualization? How would you identify and handle these outliers in a production pipeline?"
   ]
  },
  {
   "cell_type": "markdown",
   "id": "a5f9645a",
   "metadata": {},
   "source": [
    "**RESPONSE**:\n",
    "\n",
    "In the 2D PCA projection of the news embeddings, a few data points appeared visually distant from the main cluster formations—potential indicators of outliers. These observations are particularly relevant in high-dimensional embedding spaces, where projections may compress dense clusters and exaggerate isolated points. Such outliers may stem from unusually phrased headlines, company-specific events with no thematic overlap, or even malformed or sparse content.\n",
    "\n",
    "> Identification Strategies\n",
    "\n",
    "* *Statistical Distance Metrics*: Employ Mahalanobis or Euclidean distance in the original embedding space to quantify how far a point deviates from the centroid of its assigned cluster.\n",
    "\n",
    "* *Density-Based Algorithms*: Use unsupervised anomaly detection techniques such as DBSCAN or Isolation Forests to flag sparse or low-density data points that do not conform to any dense cluster.\n",
    "\n",
    "* *Reconstruction Error via Autoencoders*: In neural embedding pipelines, autoencoders can be trained to learn a compressed representation of normal patterns; high reconstruction errors can then signal potential outliers.\n",
    "\n",
    "> Handling Strategies in Production\n",
    "\n",
    "* *Flag for Review*: In a human-in-the-loop system, isolated points should be flagged for analyst verification, especially when downstream decisions (e.g., trading signals) rely on content quality.\n",
    "\n",
    "* *Soft Filtering*: Apply thresholds on embedding confidence or anomaly scores to exclude outliers from clustering, classification, or visualization tasks.\n",
    "\n",
    "* *Re-routing to Specialized Models*: Route outlier headlines to a different processing branch (e.g., named entity recognition, custom classifier) that is better equipped to handle rare or ambiguous events.\n",
    "\n",
    "Outlier management is essential in maintaining the robustness and interpretability of embedding-based pipelines, especially in high-stakes financial applications where noise can compromise strategic insight.\n",
    "\n",
    "> REFERENCES\n",
    "\n",
    "* https://towardsdatascience.com/using-pca-for-outlier-detection-afecab4d2b78/\n",
    "* https://medium.com/data-science/a-simple-example-using-pca-for-outlier-detection-ab2773b98e4a\n",
    "* https://www.analyticsvidhya.com/blog/2024/04/anomaly-detection-using-pca-unveiling-insights-in-data-anomalies/"
   ]
  },
  {
   "cell_type": "markdown",
   "id": "a42c1f32",
   "metadata": {},
   "source": [
    "#### 6️⃣ If you could assign a 'label' or 'theme' to each cluster you obtained, what would they be? How confident are you in these assignments, and what could you do to validate them systematically?"
   ]
  },
  {
   "cell_type": "markdown",
   "id": "dbc2edf5",
   "metadata": {},
   "source": [
    "**RESPONSE**:\n",
    "\n",
    "> Cluster Labeling\n",
    "\n",
    "Based on qualitative analysis of representative headlines from each cluster, the following thematic labels can be proposed:\n",
    "\n",
    "* *Cluster 0 – Strategic Business Developments*: News in this group revolves around corporate actions such as M&A, product expansions, regulatory approvals, and executive commentary. The language is typically forward-looking and qualitative.\n",
    "\n",
    "* *Cluster 1 – Financial Earnings and Performance Reports*: Dominated by quarterly earnings calls, revenue disclosures, and profitability outlooks. These headlines contain structured financial terms and align closely with reporting cycles.\n",
    "\n",
    "* *Cluster 2 – Investment Strategy and Market Commentary*: This cluster includes ETF evaluations, stock screening advice, analyst upgrades/downgrades, and macro-level strategy discussions—common themes in advisory narratives.\n",
    "\n",
    "> Confidence Level\n",
    "\n",
    "The initial label assignments are moderately confident, grounded in observable linguistic patterns and recurring financial motifs across sampled news items. However, because the labeling is manual and subjective, it is susceptible to bias and variability across analysts.\n",
    "\n",
    "> Systematic Validation Approaches\n",
    "\n",
    "* *Keyword Frequency Analysis*: Use TF-IDF or term frequency histograms to extract dominant terms per cluster and validate whether they align with the proposed thematic labels.\n",
    "\n",
    "* *Topic Modeling (e.g., LDA)*: Apply Latent Dirichlet Allocation to uncover latent topics within each cluster. Compare these topics with the assigned labels to assess thematic coherence.\n",
    "\n",
    "* *External Metadata Comparison*: Enrich the dataset with metadata such as sector classification, event type (e.g., earnings, regulatory), or sentiment scores, and test for alignment with cluster membership.\n",
    "\n",
    "* *Classifier Agreement*: Train a supervised model on a subset of manually labeled articles and evaluate its agreement with KMeans assignments. High agreement would support label validity.\n",
    "\n",
    "These methods offer a principled pathway to move from intuition-based categorization to evidence-backed cluster interpretation, critical for scaling the system in production or academic research settings.\n",
    "\n",
    "> REFERENCES\n",
    "\n",
    "* https://www.kaggle.com/code/jbencina/clustering-documents-with-tfidf-and-kmeans\n",
    "* https://www.linkedin.com/advice/0/how-do-you-evaluate-quality-relevance-your-1e\n",
    "* https://towardsdatascience.com/7-evaluation-metrics-for-clustering-algorithms-bdc537ff54d2/\n",
    "* https://medium.com/@jodancker/a-brief-introduction-to-cluster-validation-ca4215295b06"
   ]
  },
  {
   "cell_type": "markdown",
   "id": "fc278ef2",
   "metadata": {},
   "source": [
    "### Critical Thinking"
   ]
  },
  {
   "cell_type": "markdown",
   "id": "6bc8477e",
   "metadata": {},
   "source": [
    "#### 7️⃣ If news sentiment was incorporated into the analysis, how might this influence the clustering structure and interpretation of the clusters in a financial analysis context?"
   ]
  },
  {
   "cell_type": "markdown",
   "id": "9d22314e",
   "metadata": {},
   "source": [
    "**RESPONSE**:\n",
    "\n",
    "Impact of Incorporating News Sentiment on Clustering Structure and Interpretation\n",
    "Integrating news sentiment into the clustering process would significantly enhance both the structural differentiation of clusters and the interpretability of their underlying financial narratives. Currently, the clustering is based solely on semantic similarity in textual embeddings, which captures thematic content but omits emotional or tonal context—critical in financial markets.\n",
    "\n",
    "The expected influence on the clustering structure is:\n",
    "\n",
    "* *Finer Granularity of Clusters*: Sentiment could serve as an additional signal to distinguish between articles that are topically similar but convey opposite market implications (e.g., a positive vs. negative earnings surprise). This would lead to more nuanced clusters.\n",
    "\n",
    "* *Reduction of Semantic Ambiguity*: Articles with similar vocabulary (e.g., “growth,” “forecast,” “market”) but divergent sentiment would be more accurately separated, preventing dilution of cluster themes.\n",
    "\n",
    "* *Improved Separability in Embedding Space*: Combining semantic and sentiment embeddings or appending sentiment scores as features would introduce orthogonal dimensions, aiding in clearer partitioning during clustering.\n",
    "\n",
    "* *Market Reaction Forecasting*: Clusters enriched with sentiment may correlate more strongly with post-news price movements, enabling better forecasting models.\n",
    "\n",
    "* *Portfolio-Level Insights*: Analysts could quickly identify which clusters represent bullish or bearish sentiment across holdings, aiding in tactical allocation decisions.\n",
    "\n",
    "While highly beneficial, incorporating news sentiment introduces several critical implications and considerations for the design, implementation, and interpretation of the financial analysis pipeline:\n",
    "\n",
    "* *Domain-Specific Sentiment Calibration*: General sentiment models often misinterpret financial jargon (e.g., \"debt\" or \"volatility\"). It is essential to employ or fine-tune a financial-specific model (e.g., FinBERT) to ensure accurate sentiment detection aligned with market context.\n",
    "\n",
    "* *Feature Integration Strategy*: The method used to integrate sentiment with semantic embeddings directly influences clustering outcomes. Careful experimentation (such as combining sentiment polarity with embeddings or applying weighted fusion) is necessary to preserve signal quality and avoid feature noise.\n",
    "\n",
    "* *Temporal and Causal Dynamics*: Sentiment and market movement exhibit complex lead-lag relationships. Time-series analysis is required to distinguish causality from correlation and to ensure that clusters reflect actionable, timely insights rather than lagging sentiment artifacts.\n",
    "\n",
    "By meticulously addressing these implications, the integration of news sentiment can transform the clustering analysis from a purely semantic grouping into a powerful tool for understanding market psychology and its influence on financial asset performance.\n",
    "\n",
    "> REFERENCES\n",
    "\n",
    "* https://www.kaggle.com/models/ashrithraojupelly/sentiment-analysis-and-clusters\n",
    "* https://www.linkedin.com/advice/0/how-can-you-use-clustering-sentiment-analysis-skills-data-analysis?lang=fr&originalSubdomain=fr#:~:text=Clustering%20can%20be%20applied%20in,content%20personalization%20on%20social%20media.&text=Sentiment%20analysis%2C%20or%20to%20put,sentiment%20analysis%20you%20are%20applying."
   ]
  },
  {
   "cell_type": "markdown",
   "id": "ed047fca",
   "metadata": {},
   "source": [
    "#### 8️⃣ Discuss the limitations of using k-means clustering for news embeddings. What alternative clustering methods could address these limitations, and under what conditions would you prefer them?"
   ]
  },
  {
   "cell_type": "markdown",
   "id": "8bc20c96",
   "metadata": {},
   "source": [
    "**RESPONSE**:\n",
    "\n",
    "> Some limitations of K-Means are:\n",
    "\n",
    "Assumes Spherical, Equal-Size Clusters\n",
    "K-Means partitions data based on Euclidean distance and assumes that clusters are convex and isotropic. This is misaligned with the true structure of semantic embeddings, which often reside in complex, non-linear manifolds.\n",
    "\n",
    "Sensitivity to Initialization and Outliers\n",
    "The algorithm’s outcome depends heavily on initial centroid placement. Outliers can disproportionately influence centroids, leading to unstable or suboptimal clustering.\n",
    "\n",
    "Requires Predefined Number of Clusters (k)\n",
    "K-Means requires specifying k a priori, which is non-trivial when the true number of semantic topics is unknown or variable. This makes the method less flexible for exploratory analysis.\n",
    "\n",
    "> Alternative Clustering Methods:\n",
    "\n",
    "| Method                            | Advantages                                                               | Preferred Conditions                                             |\n",
    "| --------------------------------- | ------------------------------------------------------------------------ | ---------------------------------------------------------------- |\n",
    "| **DBSCAN**                        | Captures arbitrarily shaped clusters, robust to noise and outliers       | When clusters are of irregular shapes or noise is expected       |\n",
    "| **HDBSCAN**                       | Builds hierarchy and determines optimal number of clusters automatically | When `k` is unknown and data is complex or hierarchical          |\n",
    "| **Spectral Clustering**           | Captures complex cluster structures via graph-based methods              | When data has manifold structures not well-separated by distance |\n",
    "| **Gaussian Mixture Models (GMM)** | Models soft cluster membership; accounts for variance differences        | When clusters may overlap or have different sizes/variances      |\n",
    "\n",
    "\n",
    "While K-Means offers simplicity and speed, it may fail to capture the semantic richness of news embeddings. For production-grade clustering, especially in finance where topic overlap and noise are common, methods like HDBSCAN or GMM provide greater flexibility and robustness.\n",
    "\n",
    "> REFERENCES\n",
    "\n",
    "* https://developers.google.com/machine-learning/clustering/kmeans/advantages-disadvantages\n",
    "* https://www.linkedin.com/advice/1/how-can-you-overcome-limitations-k-means-clustering\n",
    "* https://www.datanovia.com/en/blog/types-of-clustering-methods-overview-and-quick-start-r-code/#google_vignette\n",
    "* https://www.linkedin.com/pulse/top-clustering-algorithms-you-should-know-instead-k-means-takbiri/"
   ]
  },
  {
   "cell_type": "markdown",
   "id": "7579fb35",
   "metadata": {},
   "source": [
    "#### 9️⃣ How could the approach in this notebook be extended to analyze the potential impact of news clusters on stock price movements over time? Sketch a high-level pipeline you would implement to test this."
   ]
  },
  {
   "cell_type": "markdown",
   "id": "35136b98",
   "metadata": {},
   "source": [
    "**RESPONSE**:\n",
    "\n",
    "To assess the potential causal or correlative impact of news clusters on subsequent stock price behavior, the current semantic clustering framework can be extended into a temporal and predictive analysis pipeline as follows:\n",
    "\n",
    "1. *News-Price Alignment*\n",
    "    * Match each news article with the corresponding stock’s historical price data (e.g., closing price, returns, volatility) at multiple time horizons: T+1, T+3, T+7, etc.\n",
    "    * Compute forward-looking price changes or abnormal returns post-publication (e.g., using CAPM or a market model).\n",
    "\n",
    "2. *Cluster Attribution*\n",
    "    * Assign each news article to its previously computed cluster (e.g., from KMeans or HDBSCAN).\n",
    "    * Aggregate post-news price movement statistics by cluster label to evaluate typical market reactions per cluster.\n",
    "\n",
    "3. *Statistical Testing*\n",
    "    * Conduct hypothesis testing (e.g., t-tests, ANOVA) to assess whether mean returns differ significantly across clusters.\n",
    "    * Apply bootstrapping or permutation tests for robustness.\n",
    "\n",
    "4. *Predictive Modeling*\n",
    "    * Train supervised models (e.g., logistic regression, XGBoost) using:\n",
    "        * News features (e.g., cluster label, sentiment, topic embeddings)\n",
    "        * Company features (sector, size, volatility)\n",
    "        * Temporal features (weekday, time of publication)\n",
    "    * Predict binary/multiclass outcomes (e.g., price up/down or return bins).\n",
    "\n",
    "5. *Validation & Backtesting*\n",
    "    * Validate models using rolling-window or walk-forward cross-validation.\n",
    "    * Backtest strategies that react to specific clusters or sentiment patterns to assess real-world viability.\n",
    "\n",
    "6. *Visualization & Insight Extraction*\n",
    "    * Use SHAP values or feature importances to interpret model drivers.\n",
    "    * Visualize cluster-level price trajectories to identify persistent alpha-generating patterns.\n",
    "\n",
    "This pipeline transforms semantic clustering into an actionable signal generation framework, allowing practitioners to evaluate whether certain news types systematically precede significant price behavior, paving the way for news-driven alpha strategies or enhanced risk monitoring tools."
   ]
  },
  {
   "cell_type": "markdown",
   "id": "9a1f5758",
   "metadata": {},
   "source": [
    "#### 1️⃣0️⃣ Imagine your clustering shows clear groups of news, but your downstream task (e.g., prediction of stock movement) does not improve. What might explain this disconnect between clear clusters and predictive utility?"
   ]
  },
  {
   "cell_type": "markdown",
   "id": "c994ec33",
   "metadata": {},
   "source": [
    "**RESPONSE**:\n",
    "\n",
    "Even when clustering yields well-separated semantic groups, the lack of improvement in downstream predictive tasks may arise from several factors:\n",
    "\n",
    "1. *Semantic Clusters ≠ Market-Relevant Signals*: Clusters may capture linguistic or topical similarity (e.g., news about earnings, M&A, product launches), but not necessarily dimensions that drive price action. Financial markets respond not just to what is said, but how surprising, impactful, or novel the information is relative to expectations.\n",
    "\n",
    "    * Remedy: Enrich clustering features with sentiment, surprise metrics, or market context to better align clusters with price-relevant information.\n",
    "\n",
    "2. *Temporal Misalignment*: Clustering is often static, whereas stock price reactions are highly sensitive to timing. News published after market close, on weekends, or during earnings season may behave differently. Without incorporating temporal features, meaningful signals may be diluted.\n",
    "\n",
    "    * Remedy: Integrate publication timestamps, trading calendars, and event lag structures into the modeling pipeline.\n",
    "\n",
    "3. *Non-Linearity and Noise in Financial Data*: Stock price movements are notoriously noisy and non-linear. Even if clusters are informative at a thematic level, the signal may be too weak or masked by macroeconomic factors, investor sentiment, or high-frequency trading noise.\n",
    "\n",
    "    * Remedy: Use non-linear models (e.g., gradient boosting, LSTM) and multi-modal features (volume, volatility, options data) to capture complex relationships.\n",
    "\n",
    "Clarity in clustering does not guarantee predictive power, especially in complex domains like financial markets. To bridge this gap, clusters must be designed with economic relevance, temporal sensitivity, and market dynamics in mind, not just semantic coherence.\n",
    "\n",
    "> REFERENCES\n",
    "\n",
    "* https://milvus.io/ai-quick-reference/what-is-the-role-of-clustering-in-predictive-analytics\n",
    "* https://www.linkedin.com/advice/1/how-can-you-use-clustering-predictive-analytics-6ujrc"
   ]
  },
  {
   "cell_type": "markdown",
   "id": "2a9779a3",
   "metadata": {},
   "source": [
    "---"
   ]
  },
  {
   "cell_type": "markdown",
   "id": "f7c8297d",
   "metadata": {},
   "source": [
    "## OLD - Question section\n",
    "Take time to reflect on what you've implemented and observed. Answer the following questions in a separate markdown cell or notebook file:"
   ]
  },
  {
   "cell_type": "markdown",
   "id": "02f469b0",
   "metadata": {},
   "source": [
    "### Technical Understanding"
   ]
  },
  {
   "cell_type": "markdown",
   "id": "efdb028a",
   "metadata": {},
   "source": [
    "#### a) How does the `SentenceTransformer` model convert text into embeddings? What kind of information do you think is captured in these embeddings?"
   ]
  },
  {
   "cell_type": "markdown",
   "id": "0d354724",
   "metadata": {},
   "source": [
    "**PROF. RESPONSE**: \n",
    "\n",
    "SentenceTransformer uses transformer-based models (like BERT or its variants) to convert input text into fixed-size dense vector representations. These embeddings capture semantic meaning — not just word presence, but also context, syntax, and relationships. For example, the sentences “Apple stock is rising” and “Shares of Apple are going up” would have similar embeddings because they convey the same meaning.\n",
    "\n",
    "---\n",
    "\n",
    "**RESPONSE**: \n",
    "\n",
    "> How does the `SentenceTransformer` model convert text into embeddings?\n",
    "\n",
    "The SentenceTransformer model, specifically the all-MiniLM-L6-v2 variant, is built on top of transformer-based architectures like BERT and DistilBERT. Unlike traditional word embeddings (e.g., Word2Vec or GloVe) that produce independent word vectors, SentenceTransformer is designed to generate dense vector representations for entire sentences or short texts. It accomplishes this through the following core mechanisms:\n",
    "\n",
    "* *Tokenization and Encoding*: Input text (e.g., a news title or sentence) is first tokenized using a WordPiece tokenizer and passed through a pre-trained transformer encoder.\n",
    "\n",
    "* *Contextualization*: The model captures contextual meaning by computing attention weights between tokens, allowing it to understand word dependencies and semantic structure.\n",
    "\n",
    "* *Pooling Strategy*: Once token-level embeddings are generated, a pooling operation (often mean or [CLS] token) aggregates them into a fixed-size sentence vector.\n",
    "\n",
    "* *Embedding Output*: The resulting embedding is a dense, high-dimensional vector (typically 384 dimensions in all-MiniLM-L6-v2) that captures the semantic and syntactic nuances of the input text.\n",
    "\n",
    "> What kind of information is captured?\n",
    "\n",
    "The embeddings generated by this model encode several levels of linguistic and semantic information:\n",
    "\n",
    "* *Lexical semantics*: Similar words or phrases are embedded close together in the vector space.\n",
    "\n",
    "* *Syntactic structure*: While SentenceTransformers are trained on sentence-level objectives, they retain enough structural information to differentiate between questions, assertions, or negations.\n",
    "\n",
    "* *Semantic similarity*: Embeddings preserve meaning across paraphrased or semantically equivalent sentences, enabling clustering and similarity comparisons.\n",
    "\n",
    "In the context of financial news headlines, these embeddings are crucial because they allow for:\n",
    "\n",
    "* *Quantitative Analysis of Qualitative Data*: They transform unstructured text into a numerical format amenable to machine learning algorithms for tasks like clustering, classification, and similarity search.\n",
    "\n",
    "* *Identification of Thematic Trends*: By clustering embeddings, one can identify overarching themes in financial news that affect specific sectors or the market as a whole.\n",
    "\n",
    "* *Event Detection and Anomaly Detection*: Sudden shifts in the embedding space of news related to a company or sector could signal important events or unusual developments, potentially indicating market-moving information.\n",
    "\n",
    "* *Enhanced Information Retrieval*: Financial analysts or investors can use these embeddings to find semantically similar news articles, even if they use different keywords, enabling a more comprehensive view of specific topics or company-related events.\n",
    "\n",
    "> REFERENCES:\n",
    "\n",
    "* https://medium.com/@sujathamudadla1213/what-is-sentence-transformer-why-sentence-transformer-is-useful-when-you-have-less-resources-13499f7c09bd\n",
    "* https://www.geeksforgeeks.org/nlp/sentence-transformer/\n",
    "* https://medium.com/@rahultiwari065/unlocking-the-power-of-sentence-embeddings-with-all-minilm-l6-v2-7d6589a5f0aa"
   ]
  },
  {
   "cell_type": "markdown",
   "id": "3db117bb",
   "metadata": {},
   "source": [
    "#### b) Why do we use the combination of TITLE and SUMMARY instead of just one or the other?\n"
   ]
  },
  {
   "cell_type": "markdown",
   "id": "7a8d7c18",
   "metadata": {},
   "source": [
    "**PROF. RESPONSE**: \n",
    "\n",
    "Combining both fields provides a richer representation of the news item. Titles are usually concise and attention-grabbing, while summaries offer more detail. Together, they create a more informative embedding, improving clustering and analysis accuracy.\n",
    "\n",
    "---\n",
    "\n",
    "**RESPONSE**: \n",
    "\n",
    "In natural language processing tasks, including financial news, the combination of a news title and its summary provides a richer and more accurate representation of the article's content. Relying solely on either the title or the summary can lead to incomplete or ambiguous embeddings. In other words, combining both inputs into a single string before embedding offers several key benefits:\n",
    "\n",
    "* *Broader context coverage*: The title often serves as a concise, attention-grabbing headline, but lacks full context. The summary complements it by offering elaboration, background, and key financial or operational details. Together, they form a more complete narrative.\n",
    "\n",
    "* *Improved semantic richness*: Embedding models like all-MiniLM-L6-v2 perform best when they receive enough contextual information. Combining title and summary enhances the embedding’s ability to capture nuanced meaning and distinguish between articles that may seem similar at first glance.\n",
    "\n",
    "* *Enhanced disambiguation*: Many news titles are vague or metaphorical (e.g., \"Tech Takes a Hit\"). Without the summary, the model may misinterpret or overgeneralize the article’s content. Including the summary helps disambiguate and clarify the true subject matter.\n",
    "\n",
    "* *Alignment with human decision-making*: In multiple fields, analysts rarely act on headlines alone. Decisions are informed by deeper reading. Combining title and summary mimics this behavior and aligns machine input with real-world interpretation patterns.\n"
   ]
  },
  {
   "cell_type": "markdown",
   "id": "06502464",
   "metadata": {},
   "source": [
    "#### c) Explain what the silhouette score represents and how it helped you determine the number of clusters.\n"
   ]
  },
  {
   "cell_type": "markdown",
   "id": "aab87ec5",
   "metadata": {},
   "source": [
    "**PROF. RESPONSE**: \n",
    "\n",
    "The silhouette score measures how similar a data point is to its own cluster compared to other clusters. It ranges from -1 (bad clustering) to 1 (good clustering). By computing this score across different k values, we can select the value of k that maximizes this score — indicating that data points are well matched to their own cluster and clearly separated from others.\n",
    "\n",
    "---\n",
    "\n",
    "**RESPONSE**: \n",
    "\n",
    "> Explain what the silhouette score represents\n",
    "\n",
    "The Silhouette Score, also known as the Silhouette Coefficient, is a metric used to evaluate the quality of clustering results. It quantifies how similar an object is to its own cluster (cohesion) compared to other clusters (separation). For each data point, a Silhouette Score is calculated, and the overall Silhouette Score for a clustering solution is the average of these individual scores.\n",
    "\n",
    "The Silhouette Score $s(i)$ for a data point $i$ is calculated as:\n",
    "\n",
    "$$s(i) = \\frac{b(i) - a(i)}{\\max(a(i), b(i))}$$\n",
    "\n",
    "Where:\n",
    "* *$a(i)$ (cohesion):* Represents the mean distance between data point $i$ and all other data points in the *same cluster* as $i$. A small $a(i)$ value indicates that $i$ is well-matched to its own cluster.\n",
    "* *$b(i)$ (separation):* Represents the minimum mean distance between data point $i$ and all data points in *any other cluster* of which $i$ is not a member. This is the distance to the \"nearest\" neighboring cluster. A large $b(i)$ value indicates that $i$ is well-separated from other clusters.\n",
    "\n",
    "The score $s(i)$ ranges from -1 to +1:\n",
    "\n",
    "* *Scores close to +1:* Indicate that the data point is far away from neighboring clusters and strongly clustered with its own cluster. This suggests a good clustering assignment.\n",
    "* *Scores close to 0:* Indicate that the data point is very close to the decision boundary between two neighboring clusters. This means the point could be assigned to either cluster, suggesting overlapping clusters.\n",
    "* *Scores close to -1:* Indicate that the data point is probably assigned to the wrong cluster, as it is closer to a neighboring cluster than to its own.\n",
    "\n",
    "> Explain how it helped determine the number of clusters (k)\n",
    "\n",
    "In this analysis, the Silhouette Score was used as a quantitative metric to assess the \"goodness\" of different K-Means clustering solutions for the embedded news headlines across a range of k values (from 2 to 6):\n",
    "\n",
    "* *Systematic evaluation*: By computing the silhouette score for different values of k (2 to 6), we could objectively compare clustering performance without relying on visual inspection alone.\n",
    "\n",
    "* *Optimal k identification*: The value of k with the highest silhouette score was selected as the optimal number of clusters. In our case, k=2 yielded the best (albeit low) score, suggesting it produced the most cohesive and separable groupings.\n",
    "\n",
    "* *Validation of cluster structure*: The silhouette score revealed that the dataset lacks well-defined cluster boundaries — a common outcome when working with semantically rich and high-dimensional text data.\n",
    "\n",
    "> REFERENCES\n",
    "\n",
    "* https://farshadabdulazeez.medium.com/understanding-silhouette-score-in-clustering-8aedc06ce9c4\n",
    "* https://dzone.com/articles/kmeans-silhouette-score-explained-with-python-exam"
   ]
  },
  {
   "cell_type": "markdown",
   "id": "e47ff9ae",
   "metadata": {},
   "source": [
    "### Data Analysis and Interpretation"
   ]
  },
  {
   "cell_type": "markdown",
   "id": "fe370e5a",
   "metadata": {},
   "source": [
    "#### a) After assigning cluster labels, did you notice any thematic consistency within clusters? For each cluster, is there a main theme? Is there a tone or a function behind the news? Is there a specific content source type?\n"
   ]
  },
  {
   "cell_type": "markdown",
   "id": "1aabc96f",
   "metadata": {},
   "source": [
    "**PROF. RESPONSE**: \n",
    "\n",
    "Cluster 0 \t\n",
    "- Main Theme: Traditional financial updates, dividends, valuation\n",
    "- Tone / Function: Neutral, technical, investor-oriented\n",
    "- Content Source Type: Bloomberg/Zacks-like institutional coverage\n",
    "\n",
    "\n",
    "Cluster 1\n",
    "- Main Theme: Investment advice, AI/growth picks, strategy\n",
    "- Tone / Function: Prescriptive, opportunity-seeking\n",
    "- Content Source Type: Blogs, analyst columns, financial YouTube\n",
    "\n",
    "Cluster 2\n",
    "- Main Theme: Market-moving events, macro risk, legal/political\n",
    "- Tone / Function: News-driven, broader & narrative\n",
    "- Content Source Type: Newswires, macro reporting, investigative\n",
    "\n",
    "---\n",
    "\n",
    "**RESPONSE**: \n",
    "\n",
    "As previously discussed in the thematic analysis of the clustered news headlines, applying K-Means clustering to the embedded representations revealed distinct and coherent groupings. While the silhouette scores were modest—indicative of overlapping boundaries in textual semantics—the qualitative review of cluster content uncovered meaningful thematic patterns across the three clusters. Below is a synthesis of the main insights, complemented by further observations regarding tone and source types.\n",
    "\n",
    "* *Cluster 0 – Corporate Developments and Industry News*\n",
    "    * *Theme*: This cluster is largely centered on strategic corporate actions, product approvals, and industry-level commentary.\n",
    "    * *Tone*: Informational and forward-looking, often lacking immediate financial metrics.\n",
    "    * *Function*: To provide contextual understanding of a company’s market trajectory, competitive position, or innovation pipeline.* *Examples*: Regulatory updates, FDA approvals, energy solutions, or executive initiatives.\n",
    "    * *Content Type*: Often sourced from newswires or outlets focused on general business coverage.\n",
    "\n",
    "* *Cluster 1 – Earnings and Financial Performance Reports*\n",
    "    * *Theme*: This is the most structured and consistent cluster, dominated by quarterly earnings reports, analyst expectations, and financial disclosures.\n",
    "    * *Tone*: Analytical and results-driven, directly addressing KPIs, earnings per share, and revenue growth.\n",
    "    * *Function*: To inform shareholders and analysts about the latest fiscal performance and financial health.\n",
    "    * *Examples*: Previews of Q2 earnings, revenue beats or misses, profit guidance.\n",
    "    * *Content Type*: Primarily from corporate investor relations, financial news outlets like Yahoo Finance, and earnings-focused reports.\n",
    "\n",
    "* *Cluster 2 – Investment Strategy and Market Positioning*\n",
    "    * *Theme*: Articles in this cluster highlight stock valuation, investment ideas, index inclusion, and technical signals.\n",
    "    * *Tone*: Opinionated or advisory in nature, often targeting individual or institutional investors.\n",
    "    * *Function*: To influence or guide investment decisions, typically in the context of portfolio construction or market timing.\n",
    "    * *Examples*: \"Top Dividend Stocks\", \"S&P 500 Replacements\", \"Short Squeeze Alerts\".\n",
    "    * *Content Type*: Commentary pieces, analyst recommendations, and editorial-style financial journalism.\n"
   ]
  },
  {
   "cell_type": "markdown",
   "id": "02f5a79b",
   "metadata": {},
   "source": [
    "#### b) Were there clusters that seemed too broad or too specific? What might cause this in your data?\n"
   ]
  },
  {
   "cell_type": "markdown",
   "id": "1a0e4c94",
   "metadata": {},
   "source": [
    "**PROF. RESPONSE**: \n",
    "\n",
    "Cluster 0 – Relatively Well-Defined and Focused\n",
    "\n",
    "Why? Most items are traditional financial disclosures — earnings reports, dividends, valuations, analyst revisions. The cluster is primarily descriptive and numeric.\n",
    "Result: Probably the most specific and cleanest cluster. It serves a clear function: \"just the facts\" about corporate fundamentals.\n",
    "\n",
    "Cluster 1 – Possibly Too Broad\n",
    "\n",
    "Why? It groups both general investment advice (e.g., retirement strategies, “buy now” lists) and specific stock analyses (e.g., AMAT, ANSS). While these all relate to stock picking and personal finance, the range of topics spans dividend investing, AI growth investing, and value strategies.\n",
    "Result: It’s topically coherent around \"what to buy and why\", but the diversity of tone and stock types (tech, energy, value) risks making this cluster slightly too broad.\n",
    "\n",
    "Cluster 2 – Broad in Topic, Specific in Type\n",
    "\n",
    "Why? While the news stories range from tariffs and legal settlements to AI industry battles and FDA policy, they all share a macro or event-driven tone. This is more of a “market-moving news” cluster.\n",
    "Result: It's a well-scoped thematic cluster (macro/news), but broad in topic area because it aggregates different sectors and event types (legal, regulatory, geopolitical).\n",
    "\n",
    "---\n",
    "\n",
    "**RESPONSE**: \n",
    "\n",
    "A post-clustering review of the news headlines revealed varying levels of thematic consistency across clusters. The structure of each group can be summarized as follows:\n",
    "\n",
    "* *Cluster 0 – Focused and Well-Defined*: This cluster predominantly includes articles with traditional financial disclosures such as earnings reports, dividend announcements, and valuation changes. The tone is generally descriptive and data-driven. As such, the cluster represents well-defined corporate fundamentals and exhibits semantic coherence.\n",
    "\n",
    "* *Cluster 1 – Thematically Coherent, Yet Broad*: It captures a mix of personal finance advice and investment commentary, including “best stocks to buy,” portfolio strategies, and thematic investing (e.g., AI, ESG). While all items align under the umbrella of investment guidance, the diversity of tone, sector focus, and investor goals makes it broader than ideal. This may reflect the semantic closeness of such articles despite their topical spread.\n",
    "\n",
    "* *Cluster 2 – Broad in Content, Unified by Function*: Although this cluster spans disparate topics—regulatory news, legal disputes, policy changes, and global macroeconomic signals—it exhibits internal consistency in function. These articles tend to report market-moving events and external triggers, suggesting the cluster captures event-driven financial narratives.\n",
    "\n",
    "Such inconsistencies in granularity are expected given:\n",
    "\n",
    "* The brief and noisy nature of news titles/summaries,\n",
    "* The use of general-purpose embeddings (MiniLM) over domain-specialized vectors,\n",
    "* And the rigid structure of K-Means, which partitions data even when clusters are not clearly separable."
   ]
  },
  {
   "cell_type": "markdown",
   "id": "cf856488",
   "metadata": {},
   "source": [
    "#### c) What role does PCA play in the visualization step? Why do we reduce to two dimensions, and what is lost in doing so?\n"
   ]
  },
  {
   "cell_type": "markdown",
   "id": "0253e5c0",
   "metadata": {},
   "source": [
    "**PROF. RESPONSE**: \n",
    "\n",
    "PCA (Principal Component Analysis) reduces the high-dimensional embedding vectors into 2D for visualization. This helps us observe general clustering trends. However, reducing to two dimensions loses a lot of the original structure and subtle distinctions, potentially flattening separable clusters into overlapping visual regions.\n",
    "\n",
    "---\n",
    "\n",
    "**RESPONSE**: \n",
    "\n",
    "> What role does PCA play in the visualization step? \n",
    "\n",
    "Principal Component Analysis (PCA) plays a crucial role in enabling the visualization of high-dimensional embeddings, such as those generated from news titles using sentence transformers. Since these embeddings typically lie in a high-dimensional space (e.g., 384 dimensions in the MiniLM model), direct human interpretation is not feasible. PCA helps by projecting the data into a lower-dimensional space—commonly 2D—for visual inspection while attempting to preserve as much of the original variance as possible.\n",
    "\n",
    "> Why do we reduce to two dimensions \n",
    "\n",
    "The decision to reduce to precisely two dimensions (n_components=2) is primarily driven by the goal of creating a static 2D scatter plot:\n",
    "\n",
    "* *Direct Plottability*: Two dimensions directly map to the X and Y axes of a conventional scatter plot, which is the simplest and most accessible form of visual representation for exploring data distributions.\n",
    "* *Ease of Interpretation*: Visualizing in 2D is intuitive for human cognition. While 3D plots are possible, they often require interactive rotation to fully grasp the structure and can still be more challenging to interpret than flat 2D projections.\n",
    "* *Standard Practice*: It's a widely adopted standard practice in exploratory data analysis and machine learning to use 2D PCA for initial visual inspections of high-dimensional data, particularly after clustering, to see if the clusters are visually separable.\n",
    "\n",
    "> What is lost in doing so?\n",
    "\n",
    "While dimensionality reduction is beneficial for visualization, it inherently involves a trade-off, and information is inevitably lost:\n",
    "\n",
    "* *Loss of Variance*: The most significant loss is the variance not captured by the selected principal components. If the first two principal components only explain a small percentage of the total variance, then a large portion of the dataset's variability and information is not represented in the 2D plot. This means that distances and relationships observed in the 2D projection might not accurately reflect the true distances and relationships in the original high-dimensional space.\n",
    "* *Loss of Specificity/Granularity*: Detailed nuances and subtle distinctions between data points that are encoded in the higher dimensions are compressed or discarded. \n",
    "* *Interpretability of Components*: While the principal components capture variance, interpreting the semantic meaning of these new \"dimensions\" (PC1, PC2) can be challenging, as they are linear combinations of potentially hundreds of original features.\n",
    "\n",
    "> REFERENCES\n",
    "\n",
    "* https://www.ibm.com/think/topics/principal-component-analysis\n",
    "* https://medium.com/@tarangds/a-simple-guide-to-principal-component-analysis-pca-b3f78e88b340\n",
    "* https://medium.com/@dhanunjairam27/dimensionality-reduction-using-pca-analyzing-trade-offs-in-model-performance-and-efficiency-4364bb2515d8"
   ]
  },
  {
   "cell_type": "markdown",
   "id": "2c42f507",
   "metadata": {},
   "source": [
    "### Critical Thinking"
   ]
  },
  {
   "cell_type": "markdown",
   "id": "b5045a46",
   "metadata": {},
   "source": [
    "#### a) What are some limitations of this analysis approach in a real-world financial setting?"
   ]
  },
  {
   "cell_type": "markdown",
   "id": "824d9258",
   "metadata": {},
   "source": [
    "**PROF. RESPONSE**: \n",
    "\n",
    "News coverage is uneven: Not all stocks have news at all times.\n",
    "\n",
    "Embeddings may not capture financial nuance or factual correctness.\n",
    "\n",
    "No temporal modeling — the pipeline ignores when the news was released and how recent it is.\n",
    "\n",
    "No sentiment or price impact assessment is done, which are critical in finance.\n",
    "\n",
    "Embedding models are not fine-tuned on financial data, which may lead to shallow understanding of domain-specific terms.\n",
    "\n",
    "---\n",
    "\n",
    "**RESPONSE**: \n",
    "\n",
    "While embedding-based clustering of financial news headlines provides a structured way to explore textual data, several practical and methodological limitations must be considered before adopting this pipeline in a real-world financial setting:\n",
    "\n",
    "* *Limited semantic interpretability of clusters*\n",
    "    * K-Means enforces hard cluster boundaries that may not align with the nuanced overlap of financial themes.\n",
    "    * Thematic consistency can be weak, particularly when the embedding space doesn’t reflect fine-grained topic boundaries.\n",
    "\n",
    "* *Low silhouette scores and poor separability*\n",
    "    * As observed, all silhouette scores were below 0.05, which is an indication that the data points are not cleanly separable.\n",
    "    * Financial headlines often share common language patterns, making high-dimensional representations difficult to cluster distinctly.\n",
    "\n",
    "* *Lack of temporal awareness*\n",
    "    * No modeling of publication timing means recent news is treated with the same importance as outdated information.\n",
    "    * In financial contexts, the recency of news can significantly alter its relevance and market impact.\n",
    "\n",
    "* *No sentiment or market impact modeling*\n",
    "    * Financial decision-making often depends not just on what is reported, but how it is presented (positive/negative tone).\n",
    "    * This pipeline does not assess sentiment polarity or subsequent stock price movements (both essential for investment signals).\n",
    "\n",
    "* *Uneven news coverage across companies*\n",
    "    * Some S&P 500 tickers have abundant media attention, while others may appear sparsely or not at all in the dataset.\n",
    "    * This creates imbalance and may bias clusters toward popular companies or sectors.\n",
    "\n",
    "* *Embeddings are general-purpose, not finance-specific*\n",
    "    * The all-MiniLM-L6-v2 model is trained on general text corpora, and may miss domain-specific signals.\n",
    "    * Lack of fine-tuning on financial texts can lead to surface-level understanding of key terms.\n",
    "\n",
    "* *No evaluation metrics tied to business objectives*\n",
    "    * There is no downstream metric (e.g., improved decision-making, trading performance, or alert relevance) to validate the usefulness of the clustering.\n",
    "    * In practice, unsupervised clustering must be aligned with stakeholder goals and explainable to decision-makers.\n",
    "\n",
    "* *Scalability and latency concerns*\n",
    "    * Static pipelines are not suited for real-time monitoring or adaptive learning.\n",
    "    * Embedding and clustering large volumes of streaming news may demand infrastructure not considered in this prototype."
   ]
  },
  {
   "cell_type": "markdown",
   "id": "c5398ba7",
   "metadata": {},
   "source": [
    "#### b) If you had access to more detailed news metadata (e.g., sentiment, category, author), how might you integrate that into your clustering pipeline?\n"
   ]
  },
  {
   "cell_type": "markdown",
   "id": "796eb1a1",
   "metadata": {},
   "source": [
    "**PROF. RESPONSE**: \n",
    "\n",
    "You could:\n",
    "- Add sentiment as an extra feature vector (or embed it directly).\n",
    "- Filter or cluster separately by categories (e.g., legal, earnings).\n",
    "- Group by author or source credibility to assess bias or quality.\n",
    "- Use metadata to weight or filter certain types of news in training.\n",
    "\n",
    "---\n",
    "\n",
    "**RESPONSE**: \n",
    "\n",
    "The integration of richer metadata into a news clustering pipeline could significantly enhance both the accuracy and interpretability of the resulting clusters. These additional features provide structured context that complements the unstructured text embeddings, enabling more nuanced and actionable insights. Here's how each type of metadata might be incorporated:\n",
    "\n",
    "* *Sentiment Scores (positive, neutral, negative)*:\n",
    "    * Add sentiment as an additional feature dimension alongside the embedding vectors.\n",
    "    * Use it to distinguish between news with similar topics but opposing market implications (e.g., “Q2 earnings beat expectations” vs. “Q2 results disappoint”).\n",
    "    * Enable sentiment-aware clustering, where similar topics with different investor sentiment can be grouped separately.\n",
    "\n",
    "* *News Category (e.g., earnings, M&A, product launches)*:\n",
    "    * Use the category as a soft label or categorical feature to guide clustering via semi-supervised techniques.\n",
    "    * Helps identify dominant themes in each cluster and improves interpretability.\n",
    "\n",
    "* *Author or Source Reputation*:\n",
    "    * Introduce credibility weighting, where news from high-authority financial outlets is prioritized.\n",
    "    * Potential to group news by tone/style if certain authors tend to write opinion pieces, forecasts, or technical breakdowns.\n",
    "\n",
    "* *Publication Date and Time*:\n",
    "    * Add recency as a feature or use it to decay older items when clustering for real-time applications.\n",
    "    * Enable time-windowed clustering to capture shifting narratives or sentiment over weeks/months.\n",
    "\n",
    "* *Ticker-Specific Impact History*:\n",
    "    * Combine with past stock price reactions to similar news topics to infer potential materiality.\n",
    "    * Could allow supervised clustering models trained to reflect market relevance, not just text similarity."
   ]
  },
  {
   "cell_type": "markdown",
   "id": "b703fac4",
   "metadata": {},
   "source": [
    "#### c) Suppose you're tasked with building a news recommendation engine using this embedding and clustering method. What would be your next steps?\n"
   ]
  },
  {
   "cell_type": "markdown",
   "id": "8a307b0d",
   "metadata": {},
   "source": [
    "**PROF. RESPONSE**: \n",
    "\n",
    "- Assign users or stocks their own embedding vector based on interaction or price response history.\n",
    "- Use cosine similarity between user vector and news embeddings to recommend top-k items.\n",
    "- Incorporate time decay (recent news is weighted more).\n",
    "- Continuously update clustering to adapt to new patterns.\n",
    "- Add user feedback to fine-tune relevance.\n",
    "\n",
    "**RESPONSE**: \n",
    "\n",
    "Building a personalized news recommendation engine based on embedding and clustering techniques involves extending the current pipeline toward a user-aware, dynamic system. The goal is to match relevant financial news with individual users or entities (e.g., investors, analysts, or even stock portfolios) by learning from their behavior, preferences, and context.\n",
    "\n",
    "To achieve this, the following steps would be crucial:\n",
    "\n",
    "1. *Construct User and Stock Embeddings*\n",
    "    * *User Vectorization*: Represent each user as an embedding vector by averaging the embeddings of news articles they have engaged with (read, liked, or shared).\n",
    "    * *Stock Behavior Embedding*: For stock-specific recommendation, generate vectors based on historical price responses to news or analyst interactions.\n",
    "\n",
    "2. *Implement Semantic Similarity for Recommendations*\n",
    "    * *Cosine Similarity*: Use cosine similarity to compute the distance between a user's embedding vector and each news article embedding.\n",
    "    * *Top-k Retrieval*: Recommend the k most semantically relevant articles using efficient nearest neighbor search.\n",
    "\n",
    "3. *Introduce Temporal and Behavioral Weighting*\n",
    "    * *Time Decay*: Weight recent articles more heavily using exponential decay functions to emphasize news freshness.\n",
    "    * *User Context*: Adapt recommendations based on time-of-day, user device, or market conditions.\n",
    "\n",
    "4. *Incorporate Clustering and Content Diversity*\n",
    "    * *Cluster-based Filtering*: Recommend from clusters the user frequently engages with to maintain topical consistency.\n",
    "    * *Diversity Promotion*: Occasionally inject content from underrepresented clusters to avoid filter bubbles and promote discovery.\n",
    "    * *Dynamic Clustering*: Recompute clusters periodically to adapt to evolving news themes and language trends.\n",
    "\n",
    "5. *Integrate Feedback and Reinforcement Learning*\n",
    "    * *Click and Dwell Time*: Use engagement metrics to refine relevance scores.\n",
    "    * *Explicit Feedback*: Include thumbs-up/down or star ratings to adjust user profiles.\n",
    "\n",
    "6. *Build a Scalable Serving Pipeline*\n",
    "    * *Embedding Indexing*: Store all embeddings in a fast, queryable vector index.\n",
    "    * *Recommendation API*: Develop a backend service that serves top-k recommendations given a user vector.\n",
    "    * *Real-Time Updates*: Enable embeddings and clusters to update with streaming data for live personalization.\n",
    "\n",
    "7. *Evaluate Performance and Iterate*\n",
    "    * *Offline Metrics*: Track precision, recall, and diversity.\n",
    "    * *A/B Testing*: Test different ranking strategies and clustering setups in production.\n",
    "    * *Explainability*: Provide interpretable insights (e.g., “You’re seeing this because…”), particularly important in finance.\n",
    "\n",
    "This pipeline enables a hybrid system that combines unsupervised NLP embeddings with personalized, dynamic interaction modeling (resulting in a powerful and scalable financial news recommender). The integration of clustering, similarity, behavioral feedback, and time-awareness ensures relevance, timeliness, and adaptability in a real-world financial context."
   ]
  }
 ],
 "metadata": {
  "kernelspec": {
   "display_name": ".venv",
   "language": "python",
   "name": "python3"
  },
  "language_info": {
   "codemirror_mode": {
    "name": "ipython",
    "version": 3
   },
   "file_extension": ".py",
   "mimetype": "text/x-python",
   "name": "python",
   "nbconvert_exporter": "python",
   "pygments_lexer": "ipython3",
   "version": "3.12.0"
  }
 },
 "nbformat": 4,
 "nbformat_minor": 5
}
